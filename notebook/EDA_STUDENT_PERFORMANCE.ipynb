{
 "cells": [
  {
   "cell_type": "markdown",
   "source": [
    "##EDA Student Performance"
   ],
   "metadata": {
    "collapsed": false
   }
  },
  {
   "cell_type": "code",
   "execution_count": 36,
   "outputs": [],
   "source": [
    "import numpy as np\n",
    "import pandas as pd\n",
    "import seaborn as sns\n",
    "import matplotlib.pyplot as plt\n",
    "import plotly.express as px\n",
    "%matplotlib inline\n",
    "import warnings\n",
    "warnings.filterwarnings('ignore')"
   ],
   "metadata": {
    "collapsed": false,
    "ExecuteTime": {
     "end_time": "2023-09-12T21:57:59.645967200Z",
     "start_time": "2023-09-12T21:57:59.434089900Z"
    }
   }
  },
  {
   "cell_type": "code",
   "execution_count": 37,
   "outputs": [],
   "source": [
    "df = pd.read_csv('data/stud.csv')"
   ],
   "metadata": {
    "collapsed": false,
    "ExecuteTime": {
     "end_time": "2023-09-12T21:57:59.650071200Z",
     "start_time": "2023-09-12T21:57:59.438602100Z"
    }
   }
  },
  {
   "cell_type": "code",
   "execution_count": 38,
   "outputs": [
    {
     "data": {
      "text/plain": "   gender race/ethnicity parental level of education         lunch  \\\n0  female        group B           bachelor's degree      standard   \n1  female        group C                some college      standard   \n2  female        group B             master's degree      standard   \n3    male        group A          associate's degree  free/reduced   \n4    male        group C                some college      standard   \n5  female        group B          associate's degree      standard   \n6  female        group B                some college      standard   \n7    male        group B                some college  free/reduced   \n8    male        group D                 high school  free/reduced   \n9  female        group B                 high school  free/reduced   \n\n  test preparation course  math score  reading score  writing score  \n0                    none          72             72             74  \n1               completed          69             90             88  \n2                    none          90             95             93  \n3                    none          47             57             44  \n4                    none          76             78             75  \n5                    none          71             83             78  \n6               completed          88             95             92  \n7                    none          40             43             39  \n8               completed          64             64             67  \n9                    none          38             60             50  ",
      "text/html": "<div>\n<style scoped>\n    .dataframe tbody tr th:only-of-type {\n        vertical-align: middle;\n    }\n\n    .dataframe tbody tr th {\n        vertical-align: top;\n    }\n\n    .dataframe thead th {\n        text-align: right;\n    }\n</style>\n<table border=\"1\" class=\"dataframe\">\n  <thead>\n    <tr style=\"text-align: right;\">\n      <th></th>\n      <th>gender</th>\n      <th>race/ethnicity</th>\n      <th>parental level of education</th>\n      <th>lunch</th>\n      <th>test preparation course</th>\n      <th>math score</th>\n      <th>reading score</th>\n      <th>writing score</th>\n    </tr>\n  </thead>\n  <tbody>\n    <tr>\n      <th>0</th>\n      <td>female</td>\n      <td>group B</td>\n      <td>bachelor's degree</td>\n      <td>standard</td>\n      <td>none</td>\n      <td>72</td>\n      <td>72</td>\n      <td>74</td>\n    </tr>\n    <tr>\n      <th>1</th>\n      <td>female</td>\n      <td>group C</td>\n      <td>some college</td>\n      <td>standard</td>\n      <td>completed</td>\n      <td>69</td>\n      <td>90</td>\n      <td>88</td>\n    </tr>\n    <tr>\n      <th>2</th>\n      <td>female</td>\n      <td>group B</td>\n      <td>master's degree</td>\n      <td>standard</td>\n      <td>none</td>\n      <td>90</td>\n      <td>95</td>\n      <td>93</td>\n    </tr>\n    <tr>\n      <th>3</th>\n      <td>male</td>\n      <td>group A</td>\n      <td>associate's degree</td>\n      <td>free/reduced</td>\n      <td>none</td>\n      <td>47</td>\n      <td>57</td>\n      <td>44</td>\n    </tr>\n    <tr>\n      <th>4</th>\n      <td>male</td>\n      <td>group C</td>\n      <td>some college</td>\n      <td>standard</td>\n      <td>none</td>\n      <td>76</td>\n      <td>78</td>\n      <td>75</td>\n    </tr>\n    <tr>\n      <th>5</th>\n      <td>female</td>\n      <td>group B</td>\n      <td>associate's degree</td>\n      <td>standard</td>\n      <td>none</td>\n      <td>71</td>\n      <td>83</td>\n      <td>78</td>\n    </tr>\n    <tr>\n      <th>6</th>\n      <td>female</td>\n      <td>group B</td>\n      <td>some college</td>\n      <td>standard</td>\n      <td>completed</td>\n      <td>88</td>\n      <td>95</td>\n      <td>92</td>\n    </tr>\n    <tr>\n      <th>7</th>\n      <td>male</td>\n      <td>group B</td>\n      <td>some college</td>\n      <td>free/reduced</td>\n      <td>none</td>\n      <td>40</td>\n      <td>43</td>\n      <td>39</td>\n    </tr>\n    <tr>\n      <th>8</th>\n      <td>male</td>\n      <td>group D</td>\n      <td>high school</td>\n      <td>free/reduced</td>\n      <td>completed</td>\n      <td>64</td>\n      <td>64</td>\n      <td>67</td>\n    </tr>\n    <tr>\n      <th>9</th>\n      <td>female</td>\n      <td>group B</td>\n      <td>high school</td>\n      <td>free/reduced</td>\n      <td>none</td>\n      <td>38</td>\n      <td>60</td>\n      <td>50</td>\n    </tr>\n  </tbody>\n</table>\n</div>"
     },
     "execution_count": 38,
     "metadata": {},
     "output_type": "execute_result"
    }
   ],
   "source": [
    "df.head(10)"
   ],
   "metadata": {
    "collapsed": false,
    "ExecuteTime": {
     "end_time": "2023-09-12T21:57:59.716404200Z",
     "start_time": "2023-09-12T21:57:59.442626700Z"
    }
   }
  },
  {
   "cell_type": "code",
   "execution_count": 39,
   "outputs": [
    {
     "data": {
      "text/plain": "(1000, 8)"
     },
     "execution_count": 39,
     "metadata": {},
     "output_type": "execute_result"
    }
   ],
   "source": [
    "df.shape"
   ],
   "metadata": {
    "collapsed": false,
    "ExecuteTime": {
     "end_time": "2023-09-12T21:57:59.716404200Z",
     "start_time": "2023-09-12T21:57:59.455534200Z"
    }
   }
  },
  {
   "cell_type": "code",
   "execution_count": 40,
   "outputs": [
    {
     "data": {
      "text/plain": "gender                         0\nrace/ethnicity                 0\nparental level of education    0\nlunch                          0\ntest preparation course        0\nmath score                     0\nreading score                  0\nwriting score                  0\ndtype: int64"
     },
     "execution_count": 40,
     "metadata": {},
     "output_type": "execute_result"
    }
   ],
   "source": [
    "#checking for missing values\n",
    "df.isna().sum()"
   ],
   "metadata": {
    "collapsed": false,
    "ExecuteTime": {
     "end_time": "2023-09-12T21:57:59.716404200Z",
     "start_time": "2023-09-12T21:57:59.463568600Z"
    }
   }
  },
  {
   "cell_type": "code",
   "execution_count": 41,
   "outputs": [
    {
     "data": {
      "text/plain": "0"
     },
     "execution_count": 41,
     "metadata": {},
     "output_type": "execute_result"
    }
   ],
   "source": [
    "#checking for duplicates\n",
    "df.duplicated().sum()"
   ],
   "metadata": {
    "collapsed": false,
    "ExecuteTime": {
     "end_time": "2023-09-12T21:57:59.716404200Z",
     "start_time": "2023-09-12T21:57:59.466620300Z"
    }
   }
  },
  {
   "cell_type": "code",
   "execution_count": 42,
   "outputs": [
    {
     "data": {
      "text/plain": "gender                          2\nrace/ethnicity                  5\nparental level of education     6\nlunch                           2\ntest preparation course         2\nmath score                     81\nreading score                  72\nwriting score                  77\ndtype: int64"
     },
     "execution_count": 42,
     "metadata": {},
     "output_type": "execute_result"
    }
   ],
   "source": [
    "df.nunique()"
   ],
   "metadata": {
    "collapsed": false,
    "ExecuteTime": {
     "end_time": "2023-09-12T21:57:59.716404200Z",
     "start_time": "2023-09-12T21:57:59.473328800Z"
    }
   }
  },
  {
   "cell_type": "markdown",
   "source": [
    "###Check Descriptive Stats of Dataset"
   ],
   "metadata": {
    "collapsed": false
   }
  },
  {
   "cell_type": "code",
   "execution_count": 43,
   "outputs": [
    {
     "data": {
      "text/plain": "       math score  reading score  writing score\ncount  1000.00000    1000.000000    1000.000000\nmean     66.08900      69.169000      68.054000\nstd      15.16308      14.600192      15.195657\nmin       0.00000      17.000000      10.000000\n25%      57.00000      59.000000      57.750000\n50%      66.00000      70.000000      69.000000\n75%      77.00000      79.000000      79.000000\nmax     100.00000     100.000000     100.000000",
      "text/html": "<div>\n<style scoped>\n    .dataframe tbody tr th:only-of-type {\n        vertical-align: middle;\n    }\n\n    .dataframe tbody tr th {\n        vertical-align: top;\n    }\n\n    .dataframe thead th {\n        text-align: right;\n    }\n</style>\n<table border=\"1\" class=\"dataframe\">\n  <thead>\n    <tr style=\"text-align: right;\">\n      <th></th>\n      <th>math score</th>\n      <th>reading score</th>\n      <th>writing score</th>\n    </tr>\n  </thead>\n  <tbody>\n    <tr>\n      <th>count</th>\n      <td>1000.00000</td>\n      <td>1000.000000</td>\n      <td>1000.000000</td>\n    </tr>\n    <tr>\n      <th>mean</th>\n      <td>66.08900</td>\n      <td>69.169000</td>\n      <td>68.054000</td>\n    </tr>\n    <tr>\n      <th>std</th>\n      <td>15.16308</td>\n      <td>14.600192</td>\n      <td>15.195657</td>\n    </tr>\n    <tr>\n      <th>min</th>\n      <td>0.00000</td>\n      <td>17.000000</td>\n      <td>10.000000</td>\n    </tr>\n    <tr>\n      <th>25%</th>\n      <td>57.00000</td>\n      <td>59.000000</td>\n      <td>57.750000</td>\n    </tr>\n    <tr>\n      <th>50%</th>\n      <td>66.00000</td>\n      <td>70.000000</td>\n      <td>69.000000</td>\n    </tr>\n    <tr>\n      <th>75%</th>\n      <td>77.00000</td>\n      <td>79.000000</td>\n      <td>79.000000</td>\n    </tr>\n    <tr>\n      <th>max</th>\n      <td>100.00000</td>\n      <td>100.000000</td>\n      <td>100.000000</td>\n    </tr>\n  </tbody>\n</table>\n</div>"
     },
     "execution_count": 43,
     "metadata": {},
     "output_type": "execute_result"
    }
   ],
   "source": [
    "df.describe()"
   ],
   "metadata": {
    "collapsed": false,
    "ExecuteTime": {
     "end_time": "2023-09-12T21:57:59.716404200Z",
     "start_time": "2023-09-12T21:57:59.483337500Z"
    }
   }
  },
  {
   "cell_type": "markdown",
   "source": [
    "- 1,000 observations in the dataset\n",
    "- The means are all close and range from 66.09 to 69.17\n",
    "- The same applies for the stdev from 14.60 to 15.19\n",
    "- Reading has the highest average among the students observed"
   ],
   "metadata": {
    "collapsed": false
   }
  },
  {
   "cell_type": "markdown",
   "source": [
    "###Replace Spaces and delimitters with _ in Column Headings"
   ],
   "metadata": {
    "collapsed": false
   }
  },
  {
   "cell_type": "code",
   "execution_count": 44,
   "outputs": [
    {
     "data": {
      "text/plain": "   gender race_ethnicity parental_level_of_education         lunch  \\\n0  female        group B           bachelor's degree      standard   \n1  female        group C                some college      standard   \n2  female        group B             master's degree      standard   \n3    male        group A          associate's degree  free/reduced   \n4    male        group C                some college      standard   \n\n  test_preparation_course  math_score  reading_score  writing_score  \n0                    none          72             72             74  \n1               completed          69             90             88  \n2                    none          90             95             93  \n3                    none          47             57             44  \n4                    none          76             78             75  ",
      "text/html": "<div>\n<style scoped>\n    .dataframe tbody tr th:only-of-type {\n        vertical-align: middle;\n    }\n\n    .dataframe tbody tr th {\n        vertical-align: top;\n    }\n\n    .dataframe thead th {\n        text-align: right;\n    }\n</style>\n<table border=\"1\" class=\"dataframe\">\n  <thead>\n    <tr style=\"text-align: right;\">\n      <th></th>\n      <th>gender</th>\n      <th>race_ethnicity</th>\n      <th>parental_level_of_education</th>\n      <th>lunch</th>\n      <th>test_preparation_course</th>\n      <th>math_score</th>\n      <th>reading_score</th>\n      <th>writing_score</th>\n    </tr>\n  </thead>\n  <tbody>\n    <tr>\n      <th>0</th>\n      <td>female</td>\n      <td>group B</td>\n      <td>bachelor's degree</td>\n      <td>standard</td>\n      <td>none</td>\n      <td>72</td>\n      <td>72</td>\n      <td>74</td>\n    </tr>\n    <tr>\n      <th>1</th>\n      <td>female</td>\n      <td>group C</td>\n      <td>some college</td>\n      <td>standard</td>\n      <td>completed</td>\n      <td>69</td>\n      <td>90</td>\n      <td>88</td>\n    </tr>\n    <tr>\n      <th>2</th>\n      <td>female</td>\n      <td>group B</td>\n      <td>master's degree</td>\n      <td>standard</td>\n      <td>none</td>\n      <td>90</td>\n      <td>95</td>\n      <td>93</td>\n    </tr>\n    <tr>\n      <th>3</th>\n      <td>male</td>\n      <td>group A</td>\n      <td>associate's degree</td>\n      <td>free/reduced</td>\n      <td>none</td>\n      <td>47</td>\n      <td>57</td>\n      <td>44</td>\n    </tr>\n    <tr>\n      <th>4</th>\n      <td>male</td>\n      <td>group C</td>\n      <td>some college</td>\n      <td>standard</td>\n      <td>none</td>\n      <td>76</td>\n      <td>78</td>\n      <td>75</td>\n    </tr>\n  </tbody>\n</table>\n</div>"
     },
     "execution_count": 44,
     "metadata": {},
     "output_type": "execute_result"
    }
   ],
   "source": [
    "df.columns = df.columns.str.replace(' ', '_')\n",
    "df.columns = df.columns.str.replace('/', '_')\n",
    "df.head()"
   ],
   "metadata": {
    "collapsed": false,
    "ExecuteTime": {
     "end_time": "2023-09-12T21:57:59.716404200Z",
     "start_time": "2023-09-12T21:57:59.500103Z"
    }
   }
  },
  {
   "cell_type": "markdown",
   "source": [
    "###Creating a List of Distinct Categorical Values"
   ],
   "metadata": {
    "collapsed": false
   }
  },
  {
   "cell_type": "code",
   "execution_count": 45,
   "outputs": [
    {
     "name": "stdout",
     "output_type": "stream",
     "text": [
      "Categories in 'gender' variable:      ['female' 'male']\n",
      "Categories in 'race_ethnicity' variable:   ['group B' 'group C' 'group A' 'group D' 'group E']\n",
      "Categories in'parental_level_of_education' variable: [\"bachelor's degree\" 'some college' \"master's degree\" \"associate's degree\"\n",
      " 'high school' 'some high school']\n",
      "Categories in 'lunch' variable:      ['standard' 'free/reduced']\n",
      "Categories in 'test_preparation_course' variable:      ['none' 'completed']\n"
     ]
    }
   ],
   "source": [
    "print(\"Categories in 'gender' variable:     \",end=\" \" )\n",
    "print(df['gender'].unique())\n",
    "\n",
    "print(\"Categories in 'race_ethnicity' variable:  \",end=\" \")\n",
    "print(df['race_ethnicity'].unique())\n",
    "\n",
    "print(\"Categories in'parental_level_of_education' variable:\",end=\" \" )\n",
    "print(df['parental_level_of_education'].unique())\n",
    "\n",
    "print(\"Categories in 'lunch' variable:     \",end=\" \" )\n",
    "print(df['lunch'].unique())\n",
    "\n",
    "print(\"Categories in 'test_preparation_course' variable:     \",end=\" \" )\n",
    "print(df['test_preparation_course'].unique())"
   ],
   "metadata": {
    "collapsed": false,
    "ExecuteTime": {
     "end_time": "2023-09-12T21:57:59.716404200Z",
     "start_time": "2023-09-12T21:57:59.504587600Z"
    }
   }
  },
  {
   "cell_type": "markdown",
   "source": [
    "###Create Columns for \"Total_Score\" and \"Average\""
   ],
   "metadata": {
    "collapsed": false
   }
  },
  {
   "cell_type": "code",
   "execution_count": 46,
   "outputs": [
    {
     "data": {
      "text/plain": "       math_score  reading_score  writing_score  total_score      average\ncount  1000.00000    1000.000000    1000.000000  1000.000000  1000.000000\nmean     66.08900      69.169000      68.054000   203.312000    67.770667\nstd      15.16308      14.600192      15.195657    42.771978    14.257326\nmin       0.00000      17.000000      10.000000    27.000000     9.000000\n25%      57.00000      59.000000      57.750000   175.000000    58.333333\n50%      66.00000      70.000000      69.000000   205.000000    68.333333\n75%      77.00000      79.000000      79.000000   233.000000    77.666667\nmax     100.00000     100.000000     100.000000   300.000000   100.000000",
      "text/html": "<div>\n<style scoped>\n    .dataframe tbody tr th:only-of-type {\n        vertical-align: middle;\n    }\n\n    .dataframe tbody tr th {\n        vertical-align: top;\n    }\n\n    .dataframe thead th {\n        text-align: right;\n    }\n</style>\n<table border=\"1\" class=\"dataframe\">\n  <thead>\n    <tr style=\"text-align: right;\">\n      <th></th>\n      <th>math_score</th>\n      <th>reading_score</th>\n      <th>writing_score</th>\n      <th>total_score</th>\n      <th>average</th>\n    </tr>\n  </thead>\n  <tbody>\n    <tr>\n      <th>count</th>\n      <td>1000.00000</td>\n      <td>1000.000000</td>\n      <td>1000.000000</td>\n      <td>1000.000000</td>\n      <td>1000.000000</td>\n    </tr>\n    <tr>\n      <th>mean</th>\n      <td>66.08900</td>\n      <td>69.169000</td>\n      <td>68.054000</td>\n      <td>203.312000</td>\n      <td>67.770667</td>\n    </tr>\n    <tr>\n      <th>std</th>\n      <td>15.16308</td>\n      <td>14.600192</td>\n      <td>15.195657</td>\n      <td>42.771978</td>\n      <td>14.257326</td>\n    </tr>\n    <tr>\n      <th>min</th>\n      <td>0.00000</td>\n      <td>17.000000</td>\n      <td>10.000000</td>\n      <td>27.000000</td>\n      <td>9.000000</td>\n    </tr>\n    <tr>\n      <th>25%</th>\n      <td>57.00000</td>\n      <td>59.000000</td>\n      <td>57.750000</td>\n      <td>175.000000</td>\n      <td>58.333333</td>\n    </tr>\n    <tr>\n      <th>50%</th>\n      <td>66.00000</td>\n      <td>70.000000</td>\n      <td>69.000000</td>\n      <td>205.000000</td>\n      <td>68.333333</td>\n    </tr>\n    <tr>\n      <th>75%</th>\n      <td>77.00000</td>\n      <td>79.000000</td>\n      <td>79.000000</td>\n      <td>233.000000</td>\n      <td>77.666667</td>\n    </tr>\n    <tr>\n      <th>max</th>\n      <td>100.00000</td>\n      <td>100.000000</td>\n      <td>100.000000</td>\n      <td>300.000000</td>\n      <td>100.000000</td>\n    </tr>\n  </tbody>\n</table>\n</div>"
     },
     "execution_count": 46,
     "metadata": {},
     "output_type": "execute_result"
    }
   ],
   "source": [
    "df['total_score'] = df['math_score'] + df['reading_score'] + df['writing_score']\n",
    "df['average'] = df['total_score']/3\n",
    "df.describe()"
   ],
   "metadata": {
    "collapsed": false,
    "ExecuteTime": {
     "end_time": "2023-09-12T21:57:59.716404200Z",
     "start_time": "2023-09-12T21:57:59.516798900Z"
    }
   }
  },
  {
   "cell_type": "markdown",
   "source": [
    "- Overall Average is 67.77%\n"
   ],
   "metadata": {
    "collapsed": false
   }
  },
  {
   "cell_type": "markdown",
   "source": [
    "###Number of Students who Scored 100% in Each Area"
   ],
   "metadata": {
    "collapsed": false
   }
  },
  {
   "cell_type": "code",
   "execution_count": 47,
   "outputs": [
    {
     "name": "stdout",
     "output_type": "stream",
     "text": [
      "Number of students with 100% in Math: 7\n",
      "Number of students with 100% in Writing: 14\n",
      "Number of students with 100% in Reading: 17\n"
     ]
    }
   ],
   "source": [
    "reading_full = df[df['reading_score'] == 100]['average'].count()\n",
    "writing_full = df[df['writing_score'] == 100]['average'].count()\n",
    "math_full = df[df['math_score'] == 100]['average'].count()\n",
    "\n",
    "print(f'Number of students with 100% in Math: {math_full}')\n",
    "print(f'Number of students with 100% in Writing: {writing_full}')\n",
    "print(f'Number of students with 100% in Reading: {reading_full}')"
   ],
   "metadata": {
    "collapsed": false,
    "ExecuteTime": {
     "end_time": "2023-09-12T21:57:59.716404200Z",
     "start_time": "2023-09-12T21:57:59.550006Z"
    }
   }
  },
  {
   "cell_type": "markdown",
   "source": [
    "###Students who Scored 20% or less in each area:"
   ],
   "metadata": {
    "collapsed": false
   }
  },
  {
   "cell_type": "code",
   "execution_count": 48,
   "outputs": [
    {
     "name": "stdout",
     "output_type": "stream",
     "text": [
      "Number of students with less than 20% in Math: 4\n",
      "Number of students with less than 20% in Writing: 3\n",
      "Number of students with less than 20% in Reading: 1\n"
     ]
    }
   ],
   "source": [
    "reading_less_20 = df[df['reading_score'] <= 20]['average'].count()\n",
    "writing_less_20 = df[df['writing_score'] <= 20]['average'].count()\n",
    "math_less_20 = df[df['math_score'] <= 20]['average'].count()\n",
    "\n",
    "print(f'Number of students with less than 20% in Math: {math_less_20}')\n",
    "print(f'Number of students with less than 20% in Writing: {writing_less_20}')\n",
    "print(f'Number of students with less than 20% in Reading: {reading_less_20}')"
   ],
   "metadata": {
    "collapsed": false,
    "ExecuteTime": {
     "end_time": "2023-09-12T21:57:59.716404200Z",
     "start_time": "2023-09-12T21:57:59.566639400Z"
    }
   }
  },
  {
   "cell_type": "markdown",
   "source": [
    "- Reading seems to be the best performing subject"
   ],
   "metadata": {
    "collapsed": false
   }
  },
  {
   "cell_type": "markdown",
   "source": [
    "###Average Score Distribution"
   ],
   "metadata": {
    "collapsed": false
   }
  },
  {
   "cell_type": "code",
   "execution_count": 49,
   "outputs": [
    {
     "data": {
      "text/plain": "<Figure size 1500x700 with 2 Axes>",
      "image/png": "[encoded data removed]"
     },
     "metadata": {},
     "output_type": "display_data"
    }
   ],
   "source": [
    "fig, axs = plt.subplots(1, 2, figsize=(15, 7))\n",
    "plt.subplot(121)\n",
    "sns.histplot(data=df,x='average',bins=30,kde=True,color='b')\n",
    "plt.subplot(122)\n",
    "sns.histplot(data=df,x='average',kde=True,hue='gender')\n",
    "plt.show()"
   ],
   "metadata": {
    "collapsed": false,
    "ExecuteTime": {
     "end_time": "2023-09-12T21:58:00.182279700Z",
     "start_time": "2023-09-12T21:57:59.592346800Z"
    }
   }
  },
  {
   "cell_type": "code",
   "execution_count": 53,
   "outputs": [
    {
     "data": {
      "application/vnd.plotly.v1+json": {
       "data": [
        {
         "alignmentgroup": "True",
         "bingroup": "x",
         "hovertemplate": "gender=female<br>average=%{x}<br>count=%{y}<extra></extra>",
         "legendgroup": "female",
         "marker": {
          "color": "pink",
          "pattern": {
           "shape": ""
          }
         },
         "name": "female",
         "offsetgroup": "female",
         "orientation": "v",
         "showlegend": true,
         "x": [
          72.66666666666667,
          82.33333333333333,
          92.66666666666667,
          77.33333333333333,
          91.66666666666667,
          49.333333333333336,
          73.0,
          53.666666666666664,
          74.0,
          26.0,
          57.666666666666664,
          70.0,
          71.66666666666667,
          70.33333333333333,
          69.0,
          72.33333333333333,
          63.0,
          64.33333333333333,
          79.33333333333333,
          57.666666666666664,
          84.33333333333333,
          66.33333333333333,
          58.666666666666664,
          53.333333333333336,
          60.666666666666664,
          71.0,
          69.0,
          80.66666666666667,
          39.0,
          84.33333333333333,
          9.0,
          73.33333333333333,
          58.666666666666664,
          68.66666666666667,
          53.333333333333336,
          64.66666666666667,
          46.666666666666664,
          69.0,
          66.0,
          48.666666666666664,
          78.33333333333333,
          82.33333333333333,
          72.0,
          65.0,
          80.33333333333333,
          70.33333333333333,
          85.66666666666667,
          68.33333333333333,
          62.333333333333336,
          64.66666666666667,
          88.33333333333333,
          65.66666666666667,
          95.66666666666667,
          66.0,
          68.66666666666667,
          88.0,
          54.333333333333336,
          99.66666666666667,
          80.66666666666667,
          79.66666666666667,
          58.333333333333336,
          63.0,
          86.66666666666667,
          91.33333333333333,
          89.33333333333333,
          50.333333333333336,
          80.0,
          64.0,
          73.0,
          61.666666666666664,
          50.333333333333336,
          31.333333333333332,
          74.66666666666667,
          65.0,
          82.33333333333333,
          72.66666666666667,
          78.0,
          82.66666666666667,
          88.0,
          98.66666666666667,
          70.66666666666667,
          76.33333333333333,
          70.66666666666667,
          82.0,
          66.66666666666667,
          49.333333333333336,
          86.33333333333333,
          52.666666666666664,
          75.0,
          61.333333333333336,
          99.0,
          58.666666666666664,
          49.0,
          68.0,
          84.0,
          66.66666666666667,
          64.0,
          79.33333333333333,
          51.0,
          77.66666666666667,
          79.0,
          74.33333333333333,
          64.66666666666667,
          77.0,
          61.666666666666664,
          54.666666666666664,
          85.66666666666667,
          38.333333333333336,
          66.0,
          60.666666666666664,
          63.666666666666664,
          51.666666666666664,
          71.66666666666667,
          92.33333333333333,
          78.66666666666667,
          66.0,
          82.0,
          54.333333333333336,
          65.33333333333333,
          63.666666666666664,
          79.0,
          66.66666666666667,
          68.33333333333333,
          68.33333333333333,
          74.33333333333333,
          75.66666666666667,
          73.33333333333333,
          48.333333333333336,
          94.0,
          73.0,
          72.66666666666667,
          91.66666666666667,
          72.33333333333333,
          52.666666666666664,
          68.66666666666667,
          90.0,
          65.66666666666667,
          77.0,
          78.66666666666667,
          75.33333333333333,
          43.0,
          79.33333333333333,
          71.0,
          77.33333333333333,
          77.33333333333333,
          63.666666666666664,
          52.666666666666664,
          76.33333333333333,
          68.0,
          66.0,
          83.33333333333333,
          61.333333333333336,
          76.66666666666667,
          80.0,
          77.33333333333333,
          49.666666666666664,
          43.333333333333336,
          88.66666666666667,
          49.0,
          90.33333333333333,
          65.0,
          29.666666666666668,
          50.0,
          65.66666666666667,
          73.0,
          75.66666666666667,
          88.66666666666667,
          62.0,
          73.66666666666667,
          53.666666666666664,
          66.66666666666667,
          67.66666666666667,
          59.0,
          86.33333333333333,
          59.666666666666664,
          56.0,
          31.0,
          55.333333333333336,
          80.66666666666667,
          62.666666666666664,
          91.66666666666667,
          67.33333333333333,
          84.0,
          93.33333333333333,
          77.0,
          83.0,
          44.0,
          41.333333333333336,
          72.66666666666667,
          69.0,
          67.33333333333333,
          63.333333333333336,
          74.0,
          72.0,
          60.0,
          89.66666666666667,
          60.0,
          56.333333333333336,
          95.66666666666667,
          58.333333333333336,
          68.0,
          79.66666666666667,
          55.0,
          71.66666666666667,
          67.33333333333333,
          89.33333333333333,
          59.666666666666664,
          57.333333333333336,
          74.66666666666667,
          63.666666666666664,
          67.66666666666667,
          52.0,
          75.66666666666667,
          79.66666666666667,
          67.0,
          77.33333333333333,
          72.66666666666667,
          78.0,
          96.33333333333333,
          72.0,
          58.666666666666664,
          85.66666666666667,
          100.0,
          72.33333333333333,
          86.0,
          87.33333333333333,
          31.666666666666668,
          83.33333333333333,
          86.0,
          68.66666666666667,
          79.33333333333333,
          62.333333333333336,
          90.33333333333333,
          76.66666666666667,
          63.0,
          55.666666666666664,
          51.666666666666664,
          69.66666666666667,
          75.33333333333333,
          66.0,
          85.33333333333333,
          86.33333333333333,
          62.0,
          51.333333333333336,
          71.0,
          67.66666666666667,
          78.33333333333333,
          91.0,
          92.0,
          51.0,
          81.33333333333333,
          88.33333333333333,
          59.0,
          89.33333333333333,
          82.66666666666667,
          82.33333333333333,
          71.0,
          74.0,
          74.66666666666667,
          87.0,
          44.0,
          39.0,
          68.66666666666667,
          69.33333333333333,
          51.333333333333336,
          87.0,
          77.33333333333333,
          59.666666666666664,
          79.0,
          88.66666666666667,
          64.33333333333333,
          96.33333333333333,
          64.33333333333333,
          46.0,
          34.666666666666664,
          68.66666666666667,
          64.33333333333333,
          76.0,
          70.33333333333333,
          74.33333333333333,
          97.33333333333333,
          70.0,
          57.0,
          60.0,
          75.33333333333333,
          87.0,
          54.0,
          60.666666666666664,
          91.33333333333333,
          78.66666666666667,
          71.33333333333333,
          76.0,
          74.33333333333333,
          72.33333333333333,
          67.0,
          56.333333333333336,
          61.0,
          59.666666666666664,
          74.33333333333333,
          97.0,
          69.0,
          73.0,
          76.0,
          59.0,
          29.333333333333332,
          78.0,
          83.66666666666667,
          50.666666666666664,
          62.333333333333336,
          62.0,
          61.0,
          72.0,
          89.33333333333333,
          66.66666666666667,
          40.0,
          50.0,
          60.333333333333336,
          50.0,
          73.66666666666667,
          82.66666666666667,
          76.0,
          86.66666666666667,
          74.33333333333333,
          84.0,
          77.33333333333333,
          77.66666666666667,
          75.66666666666667,
          64.66666666666667,
          64.66666666666667,
          52.666666666666664,
          76.33333333333333,
          74.66666666666667,
          89.66666666666667,
          69.66666666666667,
          77.0,
          65.33333333333333,
          53.666666666666664,
          65.0,
          67.0,
          56.666666666666664,
          69.0,
          83.0,
          70.0,
          74.33333333333333,
          77.66666666666667,
          74.66666666666667,
          60.0,
          75.66666666666667,
          76.0,
          71.0,
          37.666666666666664,
          97.66666666666667,
          51.666666666666664,
          75.66666666666667,
          73.66666666666667,
          75.66666666666667,
          56.0,
          84.66666666666667,
          82.33333333333333,
          67.0,
          71.33333333333333,
          80.66666666666667,
          65.33333333333333,
          64.66666666666667,
          62.0,
          53.666666666666664,
          83.33333333333333,
          99.0,
          68.0,
          85.66666666666667,
          97.0,
          75.33333333333333,
          68.0,
          84.0,
          72.33333333333333,
          83.0,
          75.0,
          90.0,
          56.0,
          64.0,
          50.0,
          82.33333333333333,
          68.0,
          56.333333333333336,
          84.0,
          90.33333333333333,
          58.666666666666664,
          63.0,
          53.333333333333336,
          62.333333333333336,
          72.66666666666667,
          70.0,
          71.33333333333333,
          63.666666666666664,
          73.0,
          54.0,
          69.33333333333333,
          40.666666666666664,
          77.66666666666667,
          53.0,
          83.66666666666667,
          81.0,
          57.666666666666664,
          42.333333333333336,
          76.0,
          29.666666666666668,
          59.333333333333336,
          56.666666666666664,
          65.33333333333333,
          48.333333333333336,
          66.0,
          78.33333333333333,
          54.666666666666664,
          92.0,
          84.66666666666667,
          75.66666666666667,
          71.0,
          42.0,
          61.666666666666664,
          78.33333333333333,
          56.0,
          66.66666666666667,
          85.33333333333333,
          89.0,
          87.0,
          80.0,
          52.666666666666664,
          64.66666666666667,
          70.0,
          78.66666666666667,
          59.333333333333336,
          83.0,
          82.66666666666667,
          66.0,
          78.66666666666667,
          72.0,
          45.666666666666664,
          34.333333333333336,
          56.333333333333336,
          66.33333333333333,
          64.0,
          88.33333333333333,
          96.66666666666667,
          75.0,
          56.0,
          84.66666666666667,
          74.0,
          72.66666666666667,
          55.333333333333336,
          70.33333333333333,
          71.33333333333333,
          70.33333333333333,
          69.33333333333333,
          52.0,
          72.66666666666667,
          96.0,
          69.33333333333333,
          87.33333333333333,
          87.33333333333333,
          63.333333333333336,
          63.333333333333336,
          34.666666666666664,
          73.33333333333333,
          75.0,
          75.0,
          41.0,
          97.66666666666667,
          78.33333333333333,
          84.66666666666667,
          71.33333333333333,
          78.33333333333333,
          59.666666666666664,
          58.333333333333336,
          54.0,
          68.0,
          52.333333333333336,
          71.33333333333333,
          44.666666666666664,
          61.333333333333336,
          65.66666666666667,
          51.666666666666664,
          57.333333333333336,
          88.33333333333333,
          62.333333333333336,
          57.666666666666664,
          55.666666666666664,
          68.33333333333333,
          78.33333333333333,
          73.33333333333333,
          66.66666666666667,
          97.33333333333333,
          55.666666666666664,
          59.333333333333336,
          51.666666666666664,
          100.0,
          72.0,
          68.0,
          70.33333333333333,
          79.66666666666667,
          96.33333333333333,
          54.333333333333336,
          58.333333333333336,
          61.333333333333336,
          74.33333333333333,
          93.33333333333333,
          18.333333333333332,
          85.33333333333333,
          77.0,
          50.0,
          44.666666666666664,
          78.66666666666667,
          75.0,
          69.0,
          69.33333333333333,
          94.0,
          65.0,
          74.33333333333333,
          83.0
         ],
         "xaxis": "x",
         "yaxis": "y",
         "type": "histogram"
        },
        {
         "alignmentgroup": "True",
         "hovertemplate": "gender=female<br>average=%{x}<extra></extra>",
         "legendgroup": "female",
         "marker": {
          "color": "pink"
         },
         "name": "female",
         "notched": true,
         "offsetgroup": "female",
         "showlegend": false,
         "x": [
          72.66666666666667,
          82.33333333333333,
          92.66666666666667,
          77.33333333333333,
          91.66666666666667,
          49.333333333333336,
          73.0,
          53.666666666666664,
          74.0,
          26.0,
          57.666666666666664,
          70.0,
          71.66666666666667,
          70.33333333333333,
          69.0,
          72.33333333333333,
          63.0,
          64.33333333333333,
          79.33333333333333,
          57.666666666666664,
          84.33333333333333,
          66.33333333333333,
          58.666666666666664,
          53.333333333333336,
          60.666666666666664,
          71.0,
          69.0,
          80.66666666666667,
          39.0,
          84.33333333333333,
          9.0,
          73.33333333333333,
          58.666666666666664,
          68.66666666666667,
          53.333333333333336,
          64.66666666666667,
          46.666666666666664,
          69.0,
          66.0,
          48.666666666666664,
          78.33333333333333,
          82.33333333333333,
          72.0,
          65.0,
          80.33333333333333,
          70.33333333333333,
          85.66666666666667,
          68.33333333333333,
          62.333333333333336,
          64.66666666666667,
          88.33333333333333,
          65.66666666666667,
          95.66666666666667,
          66.0,
          68.66666666666667,
          88.0,
          54.333333333333336,
          99.66666666666667,
          80.66666666666667,
          79.66666666666667,
          58.333333333333336,
          63.0,
          86.66666666666667,
          91.33333333333333,
          89.33333333333333,
          50.333333333333336,
          80.0,
          64.0,
          73.0,
          61.666666666666664,
          50.333333333333336,
          31.333333333333332,
          74.66666666666667,
          65.0,
          82.33333333333333,
          72.66666666666667,
          78.0,
          82.66666666666667,
          88.0,
          98.66666666666667,
          70.66666666666667,
          76.33333333333333,
          70.66666666666667,
          82.0,
          66.66666666666667,
          49.333333333333336,
          86.33333333333333,
          52.666666666666664,
          75.0,
          61.333333333333336,
          99.0,
          58.666666666666664,
          49.0,
          68.0,
          84.0,
          66.66666666666667,
          64.0,
          79.33333333333333,
          51.0,
          77.66666666666667,
          79.0,
          74.33333333333333,
          64.66666666666667,
          77.0,
          61.666666666666664,
          54.666666666666664,
          85.66666666666667,
          38.333333333333336,
          66.0,
          60.666666666666664,
          63.666666666666664,
          51.666666666666664,
          71.66666666666667,
          92.33333333333333,
          78.66666666666667,
          66.0,
          82.0,
          54.333333333333336,
          65.33333333333333,
          63.666666666666664,
          79.0,
          66.66666666666667,
          68.33333333333333,
          68.33333333333333,
          74.33333333333333,
          75.66666666666667,
          73.33333333333333,
          48.333333333333336,
          94.0,
          73.0,
          72.66666666666667,
          91.66666666666667,
          72.33333333333333,
          52.666666666666664,
          68.66666666666667,
          90.0,
          65.66666666666667,
          77.0,
          78.66666666666667,
          75.33333333333333,
          43.0,
          79.33333333333333,
          71.0,
          77.33333333333333,
          77.33333333333333,
          63.666666666666664,
          52.666666666666664,
          76.33333333333333,
          68.0,
          66.0,
          83.33333333333333,
          61.333333333333336,
          76.66666666666667,
          80.0,
          77.33333333333333,
          49.666666666666664,
          43.333333333333336,
          88.66666666666667,
          49.0,
          90.33333333333333,
          65.0,
          29.666666666666668,
          50.0,
          65.66666666666667,
          73.0,
          75.66666666666667,
          88.66666666666667,
          62.0,
          73.66666666666667,
          53.666666666666664,
          66.66666666666667,
          67.66666666666667,
          59.0,
          86.33333333333333,
          59.666666666666664,
          56.0,
          31.0,
          55.333333333333336,
          80.66666666666667,
          62.666666666666664,
          91.66666666666667,
          67.33333333333333,
          84.0,
          93.33333333333333,
          77.0,
          83.0,
          44.0,
          41.333333333333336,
          72.66666666666667,
          69.0,
          67.33333333333333,
          63.333333333333336,
          74.0,
          72.0,
          60.0,
          89.66666666666667,
          60.0,
          56.333333333333336,
          95.66666666666667,
          58.333333333333336,
          68.0,
          79.66666666666667,
          55.0,
          71.66666666666667,
          67.33333333333333,
          89.33333333333333,
          59.666666666666664,
          57.333333333333336,
          74.66666666666667,
          63.666666666666664,
          67.66666666666667,
          52.0,
          75.66666666666667,
          79.66666666666667,
          67.0,
          77.33333333333333,
          72.66666666666667,
          78.0,
          96.33333333333333,
          72.0,
          58.666666666666664,
          85.66666666666667,
          100.0,
          72.33333333333333,
          86.0,
          87.33333333333333,
          31.666666666666668,
          83.33333333333333,
          86.0,
          68.66666666666667,
          79.33333333333333,
          62.333333333333336,
          90.33333333333333,
          76.66666666666667,
          63.0,
          55.666666666666664,
          51.666666666666664,
          69.66666666666667,
          75.33333333333333,
          66.0,
          85.33333333333333,
          86.33333333333333,
          62.0,
          51.333333333333336,
          71.0,
          67.66666666666667,
          78.33333333333333,
          91.0,
          92.0,
          51.0,
          81.33333333333333,
          88.33333333333333,
          59.0,
          89.33333333333333,
          82.66666666666667,
          82.33333333333333,
          71.0,
          74.0,
          74.66666666666667,
          87.0,
          44.0,
          39.0,
          68.66666666666667,
          69.33333333333333,
          51.333333333333336,
          87.0,
          77.33333333333333,
          59.666666666666664,
          79.0,
          88.66666666666667,
          64.33333333333333,
          96.33333333333333,
          64.33333333333333,
          46.0,
          34.666666666666664,
          68.66666666666667,
          64.33333333333333,
          76.0,
          70.33333333333333,
          74.33333333333333,
          97.33333333333333,
          70.0,
          57.0,
          60.0,
          75.33333333333333,
          87.0,
          54.0,
          60.666666666666664,
          91.33333333333333,
          78.66666666666667,
          71.33333333333333,
          76.0,
          74.33333333333333,
          72.33333333333333,
          67.0,
          56.333333333333336,
          61.0,
          59.666666666666664,
          74.33333333333333,
          97.0,
          69.0,
          73.0,
          76.0,
          59.0,
          29.333333333333332,
          78.0,
          83.66666666666667,
          50.666666666666664,
          62.333333333333336,
          62.0,
          61.0,
          72.0,
          89.33333333333333,
          66.66666666666667,
          40.0,
          50.0,
          60.333333333333336,
          50.0,
          73.66666666666667,
          82.66666666666667,
          76.0,
          86.66666666666667,
          74.33333333333333,
          84.0,
          77.33333333333333,
          77.66666666666667,
          75.66666666666667,
          64.66666666666667,
          64.66666666666667,
          52.666666666666664,
          76.33333333333333,
          74.66666666666667,
          89.66666666666667,
          69.66666666666667,
          77.0,
          65.33333333333333,
          53.666666666666664,
          65.0,
          67.0,
          56.666666666666664,
          69.0,
          83.0,
          70.0,
          74.33333333333333,
          77.66666666666667,
          74.66666666666667,
          60.0,
          75.66666666666667,
          76.0,
          71.0,
          37.666666666666664,
          97.66666666666667,
          51.666666666666664,
          75.66666666666667,
          73.66666666666667,
          75.66666666666667,
          56.0,
          84.66666666666667,
          82.33333333333333,
          67.0,
          71.33333333333333,
          80.66666666666667,
          65.33333333333333,
          64.66666666666667,
          62.0,
          53.666666666666664,
          83.33333333333333,
          99.0,
          68.0,
          85.66666666666667,
          97.0,
          75.33333333333333,
          68.0,
          84.0,
          72.33333333333333,
          83.0,
          75.0,
          90.0,
          56.0,
          64.0,
          50.0,
          82.33333333333333,
          68.0,
          56.333333333333336,
          84.0,
          90.33333333333333,
          58.666666666666664,
          63.0,
          53.333333333333336,
          62.333333333333336,
          72.66666666666667,
          70.0,
          71.33333333333333,
          63.666666666666664,
          73.0,
          54.0,
          69.33333333333333,
          40.666666666666664,
          77.66666666666667,
          53.0,
          83.66666666666667,
          81.0,
          57.666666666666664,
          42.333333333333336,
          76.0,
          29.666666666666668,
          59.333333333333336,
          56.666666666666664,
          65.33333333333333,
          48.333333333333336,
          66.0,
          78.33333333333333,
          54.666666666666664,
          92.0,
          84.66666666666667,
          75.66666666666667,
          71.0,
          42.0,
          61.666666666666664,
          78.33333333333333,
          56.0,
          66.66666666666667,
          85.33333333333333,
          89.0,
          87.0,
          80.0,
          52.666666666666664,
          64.66666666666667,
          70.0,
          78.66666666666667,
          59.333333333333336,
          83.0,
          82.66666666666667,
          66.0,
          78.66666666666667,
          72.0,
          45.666666666666664,
          34.333333333333336,
          56.333333333333336,
          66.33333333333333,
          64.0,
          88.33333333333333,
          96.66666666666667,
          75.0,
          56.0,
          84.66666666666667,
          74.0,
          72.66666666666667,
          55.333333333333336,
          70.33333333333333,
          71.33333333333333,
          70.33333333333333,
          69.33333333333333,
          52.0,
          72.66666666666667,
          96.0,
          69.33333333333333,
          87.33333333333333,
          87.33333333333333,
          63.333333333333336,
          63.333333333333336,
          34.666666666666664,
          73.33333333333333,
          75.0,
          75.0,
          41.0,
          97.66666666666667,
          78.33333333333333,
          84.66666666666667,
          71.33333333333333,
          78.33333333333333,
          59.666666666666664,
          58.333333333333336,
          54.0,
          68.0,
          52.333333333333336,
          71.33333333333333,
          44.666666666666664,
          61.333333333333336,
          65.66666666666667,
          51.666666666666664,
          57.333333333333336,
          88.33333333333333,
          62.333333333333336,
          57.666666666666664,
          55.666666666666664,
          68.33333333333333,
          78.33333333333333,
          73.33333333333333,
          66.66666666666667,
          97.33333333333333,
          55.666666666666664,
          59.333333333333336,
          51.666666666666664,
          100.0,
          72.0,
          68.0,
          70.33333333333333,
          79.66666666666667,
          96.33333333333333,
          54.333333333333336,
          58.333333333333336,
          61.333333333333336,
          74.33333333333333,
          93.33333333333333,
          18.333333333333332,
          85.33333333333333,
          77.0,
          50.0,
          44.666666666666664,
          78.66666666666667,
          75.0,
          69.0,
          69.33333333333333,
          94.0,
          65.0,
          74.33333333333333,
          83.0
         ],
         "xaxis": "x2",
         "yaxis": "y2",
         "type": "box"
        },
        {
         "alignmentgroup": "True",
         "bingroup": "x",
         "hovertemplate": "gender=male<br>average=%{x}<br>count=%{y}<extra></extra>",
         "legendgroup": "male",
         "marker": {
          "color": "blue",
          "pattern": {
           "shape": ""
          }
         },
         "name": "male",
         "offsetgroup": "male",
         "orientation": "v",
         "showlegend": true,
         "x": [
          49.333333333333336,
          76.33333333333333,
          40.666666666666664,
          65.0,
          54.666666666666664,
          45.0,
          73.33333333333333,
          87.66666666666667,
          44.666666666666664,
          66.0,
          50.333333333333336,
          75.0,
          73.0,
          59.333333333333336,
          68.33333333333333,
          40.0,
          88.66666666666667,
          80.33333333333333,
          56.666666666666664,
          56.666666666666664,
          63.333333333333336,
          58.666666666666664,
          82.66666666666667,
          52.0,
          71.33333333333333,
          46.333333333333336,
          80.33333333333333,
          52.0,
          58.333333333333336,
          75.0,
          37.333333333333336,
          59.333333333333336,
          64.0,
          39.666666666666664,
          58.333333333333336,
          60.333333333333336,
          58.0,
          46.333333333333336,
          41.0,
          26.0,
          79.66666666666667,
          46.333333333333336,
          50.333333333333336,
          66.33333333333333,
          38.333333333333336,
          32.333333333333336,
          73.66666666666667,
          46.0,
          80.33333333333333,
          64.33333333333333,
          71.0,
          72.0,
          50.333333333333336,
          91.33333333333333,
          64.33333333333333,
          55.333333333333336,
          51.333333333333336,
          78.33333333333333,
          90.66666666666667,
          58.666666666666664,
          78.66666666666667,
          69.0,
          72.0,
          79.33333333333333,
          85.0,
          43.333333333333336,
          77.0,
          76.0,
          53.666666666666664,
          48.666666666666664,
          60.333333333333336,
          67.0,
          49.0,
          79.66666666666667,
          82.33333333333333,
          69.0,
          97.66666666666667,
          66.0,
          70.66666666666667,
          50.0,
          63.333333333333336,
          60.0,
          64.0,
          78.0,
          51.333333333333336,
          51.333333333333336,
          51.666666666666664,
          73.0,
          86.66666666666667,
          68.33333333333333,
          48.666666666666664,
          65.66666666666667,
          73.66666666666667,
          65.33333333333333,
          48.333333333333336,
          79.33333333333333,
          67.0,
          56.0,
          64.33333333333333,
          54.0,
          71.66666666666667,
          47.333333333333336,
          74.33333333333333,
          68.66666666666667,
          79.0,
          79.33333333333333,
          30.0,
          55.666666666666664,
          86.33333333333333,
          80.66666666666667,
          71.0,
          57.666666666666664,
          81.66666666666667,
          80.33333333333333,
          53.666666666666664,
          68.0,
          68.66666666666667,
          43.666666666666664,
          85.66666666666667,
          83.0,
          77.33333333333333,
          65.33333333333333,
          52.333333333333336,
          81.33333333333333,
          69.0,
          51.0,
          72.66666666666667,
          77.33333333333333,
          79.66666666666667,
          60.333333333333336,
          48.333333333333336,
          77.33333333333333,
          52.666666666666664,
          77.33333333333333,
          78.66666666666667,
          72.33333333333333,
          47.333333333333336,
          64.33333333333333,
          49.666666666666664,
          83.0,
          78.0,
          62.0,
          49.0,
          46.333333333333336,
          81.66666666666667,
          89.0,
          79.66666666666667,
          76.66666666666667,
          71.33333333333333,
          76.33333333333333,
          60.0,
          78.33333333333333,
          63.0,
          43.333333333333336,
          71.0,
          45.333333333333336,
          84.0,
          80.0,
          54.0,
          73.33333333333333,
          68.33333333333333,
          89.0,
          49.0,
          61.0,
          65.33333333333333,
          67.33333333333333,
          77.66666666666667,
          67.66666666666667,
          61.333333333333336,
          23.333333333333332,
          78.0,
          64.0,
          39.666666666666664,
          57.0,
          83.0,
          71.66666666666667,
          47.666666666666664,
          57.0,
          68.66666666666667,
          73.0,
          60.0,
          71.66666666666667,
          79.0,
          58.333333333333336,
          61.666666666666664,
          60.666666666666664,
          82.33333333333333,
          59.0,
          55.666666666666664,
          60.0,
          62.666666666666664,
          77.33333333333333,
          73.33333333333333,
          43.333333333333336,
          64.0,
          94.0,
          77.0,
          72.66666666666667,
          66.33333333333333,
          70.0,
          55.666666666666664,
          44.666666666666664,
          64.66666666666667,
          57.666666666666664,
          46.333333333333336,
          64.33333333333333,
          85.33333333333333,
          81.66666666666667,
          65.66666666666667,
          65.66666666666667,
          75.33333333333333,
          71.0,
          71.33333333333333,
          63.0,
          55.666666666666664,
          38.0,
          85.0,
          68.33333333333333,
          59.0,
          61.666666666666664,
          63.0,
          57.333333333333336,
          68.33333333333333,
          50.333333333333336,
          69.0,
          71.33333333333333,
          59.0,
          86.33333333333333,
          78.0,
          65.0,
          82.33333333333333,
          45.0,
          75.33333333333333,
          57.333333333333336,
          46.666666666666664,
          51.666666666666664,
          68.33333333333333,
          55.333333333333336,
          51.0,
          65.0,
          68.0,
          80.33333333333333,
          68.0,
          73.33333333333333,
          71.33333333333333,
          70.66666666666667,
          65.66666666666667,
          52.333333333333336,
          71.66666666666667,
          54.666666666666664,
          58.0,
          81.0,
          66.0,
          73.0,
          59.333333333333336,
          68.0,
          56.0,
          78.0,
          73.33333333333333,
          52.333333333333336,
          54.333333333333336,
          57.333333333333336,
          61.333333333333336,
          54.333333333333336,
          51.333333333333336,
          62.333333333333336,
          59.0,
          60.333333333333336,
          70.0,
          56.333333333333336,
          74.0,
          91.66666666666667,
          70.66666666666667,
          80.33333333333333,
          80.33333333333333,
          67.66666666666667,
          73.33333333333333,
          73.33333333333333,
          88.33333333333333,
          67.66666666666667,
          46.0,
          64.66666666666667,
          67.0,
          92.66666666666667,
          48.333333333333336,
          45.333333333333336,
          52.666666666666664,
          67.66666666666667,
          72.0,
          93.0,
          49.333333333333336,
          54.666666666666664,
          56.333333333333336,
          61.0,
          66.66666666666667,
          23.0,
          51.666666666666664,
          56.0,
          87.66666666666667,
          69.66666666666667,
          64.0,
          91.66666666666667,
          83.0,
          86.66666666666667,
          68.66666666666667,
          60.333333333333336,
          53.666666666666664,
          94.0,
          98.66666666666667,
          67.33333333333333,
          51.666666666666664,
          50.666666666666664,
          67.0,
          68.0,
          82.66666666666667,
          69.66666666666667,
          78.66666666666667,
          48.0,
          65.0,
          53.333333333333336,
          69.33333333333333,
          65.33333333333333,
          87.33333333333333,
          74.66666666666667,
          67.33333333333333,
          68.66666666666667,
          69.33333333333333,
          76.66666666666667,
          53.0,
          78.0,
          61.333333333333336,
          62.666666666666664,
          57.0,
          65.33333333333333,
          76.0,
          76.0,
          51.666666666666664,
          88.66666666666667,
          63.666666666666664,
          86.0,
          66.33333333333333,
          38.666666666666664,
          59.0,
          85.0,
          89.0,
          82.0,
          74.33333333333333,
          81.33333333333333,
          57.666666666666664,
          46.666666666666664,
          43.666666666666664,
          75.33333333333333,
          58.666666666666664,
          43.0,
          48.0,
          48.666666666666664,
          61.0,
          85.0,
          75.0,
          58.666666666666664,
          75.0,
          52.333333333333336,
          75.0,
          71.66666666666667,
          67.0,
          85.66666666666667,
          69.33333333333333,
          68.33333333333333,
          77.0,
          55.333333333333336,
          55.0,
          70.0,
          74.33333333333333,
          81.66666666666667,
          60.666666666666664,
          66.0,
          58.333333333333336,
          49.666666666666664,
          74.0,
          63.666666666666664,
          87.0,
          83.66666666666667,
          64.66666666666667,
          69.66666666666667,
          83.33333333333333,
          70.0,
          61.0,
          69.33333333333333,
          76.33333333333333,
          76.66666666666667,
          78.0,
          54.666666666666664,
          39.333333333333336,
          47.0,
          82.33333333333333,
          89.0,
          69.0,
          50.666666666666664,
          62.333333333333336,
          58.333333333333336,
          60.666666666666664,
          51.0,
          64.66666666666667,
          56.0,
          57.666666666666664,
          75.66666666666667,
          86.33333333333333,
          87.0,
          56.0,
          74.66666666666667,
          68.33333333333333,
          70.0,
          60.333333333333336,
          69.33333333333333,
          49.0,
          77.33333333333333,
          39.666666666666664,
          93.66666666666667,
          84.0,
          54.666666666666664,
          48.0,
          74.66666666666667,
          50.333333333333336,
          54.666666666666664,
          81.33333333333333,
          87.33333333333333,
          70.0,
          82.33333333333333,
          57.333333333333336,
          64.33333333333333,
          48.333333333333336,
          61.666666666666664,
          47.666666666666664,
          79.0,
          30.666666666666668,
          61.333333333333336,
          86.0,
          80.66666666666667,
          52.0,
          68.0,
          46.666666666666664,
          100.0,
          92.66666666666667,
          68.66666666666667,
          68.0,
          71.0,
          66.0,
          57.333333333333336,
          44.333333333333336,
          70.33333333333333,
          60.333333333333336,
          68.33333333333333,
          73.0,
          91.66666666666667,
          63.666666666666664,
          59.0,
          83.66666666666667,
          71.33333333333333,
          70.0,
          70.33333333333333,
          61.333333333333336,
          81.33333333333333,
          50.333333333333336,
          79.33333333333333,
          54.666666666666664,
          63.666666666666664,
          84.0,
          75.66666666666667,
          62.333333333333336,
          66.0,
          62.0,
          73.0,
          60.666666666666664,
          61.666666666666664,
          48.0,
          79.0,
          83.33333333333333,
          54.0,
          77.33333333333333,
          80.66666666666667,
          62.666666666666664,
          57.333333333333336
         ],
         "xaxis": "x",
         "yaxis": "y",
         "type": "histogram"
        },
        {
         "alignmentgroup": "True",
         "hovertemplate": "gender=male<br>average=%{x}<extra></extra>",
         "legendgroup": "male",
         "marker": {
          "color": "blue"
         },
         "name": "male",
         "notched": true,
         "offsetgroup": "male",
         "showlegend": false,
         "x": [
          49.333333333333336,
          76.33333333333333,
          40.666666666666664,
          65.0,
          54.666666666666664,
          45.0,
          73.33333333333333,
          87.66666666666667,
          44.666666666666664,
          66.0,
          50.333333333333336,
          75.0,
          73.0,
          59.333333333333336,
          68.33333333333333,
          40.0,
          88.66666666666667,
          80.33333333333333,
          56.666666666666664,
          56.666666666666664,
          63.333333333333336,
          58.666666666666664,
          82.66666666666667,
          52.0,
          71.33333333333333,
          46.333333333333336,
          80.33333333333333,
          52.0,
          58.333333333333336,
          75.0,
          37.333333333333336,
          59.333333333333336,
          64.0,
          39.666666666666664,
          58.333333333333336,
          60.333333333333336,
          58.0,
          46.333333333333336,
          41.0,
          26.0,
          79.66666666666667,
          46.333333333333336,
          50.333333333333336,
          66.33333333333333,
          38.333333333333336,
          32.333333333333336,
          73.66666666666667,
          46.0,
          80.33333333333333,
          64.33333333333333,
          71.0,
          72.0,
          50.333333333333336,
          91.33333333333333,
          64.33333333333333,
          55.333333333333336,
          51.333333333333336,
          78.33333333333333,
          90.66666666666667,
          58.666666666666664,
          78.66666666666667,
          69.0,
          72.0,
          79.33333333333333,
          85.0,
          43.333333333333336,
          77.0,
          76.0,
          53.666666666666664,
          48.666666666666664,
          60.333333333333336,
          67.0,
          49.0,
          79.66666666666667,
          82.33333333333333,
          69.0,
          97.66666666666667,
          66.0,
          70.66666666666667,
          50.0,
          63.333333333333336,
          60.0,
          64.0,
          78.0,
          51.333333333333336,
          51.333333333333336,
          51.666666666666664,
          73.0,
          86.66666666666667,
          68.33333333333333,
          48.666666666666664,
          65.66666666666667,
          73.66666666666667,
          65.33333333333333,
          48.333333333333336,
          79.33333333333333,
          67.0,
          56.0,
          64.33333333333333,
          54.0,
          71.66666666666667,
          47.333333333333336,
          74.33333333333333,
          68.66666666666667,
          79.0,
          79.33333333333333,
          30.0,
          55.666666666666664,
          86.33333333333333,
          80.66666666666667,
          71.0,
          57.666666666666664,
          81.66666666666667,
          80.33333333333333,
          53.666666666666664,
          68.0,
          68.66666666666667,
          43.666666666666664,
          85.66666666666667,
          83.0,
          77.33333333333333,
          65.33333333333333,
          52.333333333333336,
          81.33333333333333,
          69.0,
          51.0,
          72.66666666666667,
          77.33333333333333,
          79.66666666666667,
          60.333333333333336,
          48.333333333333336,
          77.33333333333333,
          52.666666666666664,
          77.33333333333333,
          78.66666666666667,
          72.33333333333333,
          47.333333333333336,
          64.33333333333333,
          49.666666666666664,
          83.0,
          78.0,
          62.0,
          49.0,
          46.333333333333336,
          81.66666666666667,
          89.0,
          79.66666666666667,
          76.66666666666667,
          71.33333333333333,
          76.33333333333333,
          60.0,
          78.33333333333333,
          63.0,
          43.333333333333336,
          71.0,
          45.333333333333336,
          84.0,
          80.0,
          54.0,
          73.33333333333333,
          68.33333333333333,
          89.0,
          49.0,
          61.0,
          65.33333333333333,
          67.33333333333333,
          77.66666666666667,
          67.66666666666667,
          61.333333333333336,
          23.333333333333332,
          78.0,
          64.0,
          39.666666666666664,
          57.0,
          83.0,
          71.66666666666667,
          47.666666666666664,
          57.0,
          68.66666666666667,
          73.0,
          60.0,
          71.66666666666667,
          79.0,
          58.333333333333336,
          61.666666666666664,
          60.666666666666664,
          82.33333333333333,
          59.0,
          55.666666666666664,
          60.0,
          62.666666666666664,
          77.33333333333333,
          73.33333333333333,
          43.333333333333336,
          64.0,
          94.0,
          77.0,
          72.66666666666667,
          66.33333333333333,
          70.0,
          55.666666666666664,
          44.666666666666664,
          64.66666666666667,
          57.666666666666664,
          46.333333333333336,
          64.33333333333333,
          85.33333333333333,
          81.66666666666667,
          65.66666666666667,
          65.66666666666667,
          75.33333333333333,
          71.0,
          71.33333333333333,
          63.0,
          55.666666666666664,
          38.0,
          85.0,
          68.33333333333333,
          59.0,
          61.666666666666664,
          63.0,
          57.333333333333336,
          68.33333333333333,
          50.333333333333336,
          69.0,
          71.33333333333333,
          59.0,
          86.33333333333333,
          78.0,
          65.0,
          82.33333333333333,
          45.0,
          75.33333333333333,
          57.333333333333336,
          46.666666666666664,
          51.666666666666664,
          68.33333333333333,
          55.333333333333336,
          51.0,
          65.0,
          68.0,
          80.33333333333333,
          68.0,
          73.33333333333333,
          71.33333333333333,
          70.66666666666667,
          65.66666666666667,
          52.333333333333336,
          71.66666666666667,
          54.666666666666664,
          58.0,
          81.0,
          66.0,
          73.0,
          59.333333333333336,
          68.0,
          56.0,
          78.0,
          73.33333333333333,
          52.333333333333336,
          54.333333333333336,
          57.333333333333336,
          61.333333333333336,
          54.333333333333336,
          51.333333333333336,
          62.333333333333336,
          59.0,
          60.333333333333336,
          70.0,
          56.333333333333336,
          74.0,
          91.66666666666667,
          70.66666666666667,
          80.33333333333333,
          80.33333333333333,
          67.66666666666667,
          73.33333333333333,
          73.33333333333333,
          88.33333333333333,
          67.66666666666667,
          46.0,
          64.66666666666667,
          67.0,
          92.66666666666667,
          48.333333333333336,
          45.333333333333336,
          52.666666666666664,
          67.66666666666667,
          72.0,
          93.0,
          49.333333333333336,
          54.666666666666664,
          56.333333333333336,
          61.0,
          66.66666666666667,
          23.0,
          51.666666666666664,
          56.0,
          87.66666666666667,
          69.66666666666667,
          64.0,
          91.66666666666667,
          83.0,
          86.66666666666667,
          68.66666666666667,
          60.333333333333336,
          53.666666666666664,
          94.0,
          98.66666666666667,
          67.33333333333333,
          51.666666666666664,
          50.666666666666664,
          67.0,
          68.0,
          82.66666666666667,
          69.66666666666667,
          78.66666666666667,
          48.0,
          65.0,
          53.333333333333336,
          69.33333333333333,
          65.33333333333333,
          87.33333333333333,
          74.66666666666667,
          67.33333333333333,
          68.66666666666667,
          69.33333333333333,
          76.66666666666667,
          53.0,
          78.0,
          61.333333333333336,
          62.666666666666664,
          57.0,
          65.33333333333333,
          76.0,
          76.0,
          51.666666666666664,
          88.66666666666667,
          63.666666666666664,
          86.0,
          66.33333333333333,
          38.666666666666664,
          59.0,
          85.0,
          89.0,
          82.0,
          74.33333333333333,
          81.33333333333333,
          57.666666666666664,
          46.666666666666664,
          43.666666666666664,
          75.33333333333333,
          58.666666666666664,
          43.0,
          48.0,
          48.666666666666664,
          61.0,
          85.0,
          75.0,
          58.666666666666664,
          75.0,
          52.333333333333336,
          75.0,
          71.66666666666667,
          67.0,
          85.66666666666667,
          69.33333333333333,
          68.33333333333333,
          77.0,
          55.333333333333336,
          55.0,
          70.0,
          74.33333333333333,
          81.66666666666667,
          60.666666666666664,
          66.0,
          58.333333333333336,
          49.666666666666664,
          74.0,
          63.666666666666664,
          87.0,
          83.66666666666667,
          64.66666666666667,
          69.66666666666667,
          83.33333333333333,
          70.0,
          61.0,
          69.33333333333333,
          76.33333333333333,
          76.66666666666667,
          78.0,
          54.666666666666664,
          39.333333333333336,
          47.0,
          82.33333333333333,
          89.0,
          69.0,
          50.666666666666664,
          62.333333333333336,
          58.333333333333336,
          60.666666666666664,
          51.0,
          64.66666666666667,
          56.0,
          57.666666666666664,
          75.66666666666667,
          86.33333333333333,
          87.0,
          56.0,
          74.66666666666667,
          68.33333333333333,
          70.0,
          60.333333333333336,
          69.33333333333333,
          49.0,
          77.33333333333333,
          39.666666666666664,
          93.66666666666667,
          84.0,
          54.666666666666664,
          48.0,
          74.66666666666667,
          50.333333333333336,
          54.666666666666664,
          81.33333333333333,
          87.33333333333333,
          70.0,
          82.33333333333333,
          57.333333333333336,
          64.33333333333333,
          48.333333333333336,
          61.666666666666664,
          47.666666666666664,
          79.0,
          30.666666666666668,
          61.333333333333336,
          86.0,
          80.66666666666667,
          52.0,
          68.0,
          46.666666666666664,
          100.0,
          92.66666666666667,
          68.66666666666667,
          68.0,
          71.0,
          66.0,
          57.333333333333336,
          44.333333333333336,
          70.33333333333333,
          60.333333333333336,
          68.33333333333333,
          73.0,
          91.66666666666667,
          63.666666666666664,
          59.0,
          83.66666666666667,
          71.33333333333333,
          70.0,
          70.33333333333333,
          61.333333333333336,
          81.33333333333333,
          50.333333333333336,
          79.33333333333333,
          54.666666666666664,
          63.666666666666664,
          84.0,
          75.66666666666667,
          62.333333333333336,
          66.0,
          62.0,
          73.0,
          60.666666666666664,
          61.666666666666664,
          48.0,
          79.0,
          83.33333333333333,
          54.0,
          77.33333333333333,
          80.66666666666667,
          62.666666666666664,
          57.333333333333336
         ],
         "xaxis": "x2",
         "yaxis": "y2",
         "type": "box"
        }
       ],
       "layout": {
        "template": {
         "data": {
          "histogram2dcontour": [
           {
            "type": "histogram2dcontour",
            "colorbar": {
             "outlinewidth": 0,
             "ticks": ""
            },
            "colorscale": [
             [
              0.0,
              "#0d0887"
             ],
             [
              0.1111111111111111,
              "#46039f"
             ],
             [
              0.2222222222222222,
              "#7201a8"
             ],
             [
              0.3333333333333333,
              "#9c179e"
             ],
             [
              0.4444444444444444,
              "#bd3786"
             ],
             [
              0.5555555555555556,
              "#d8576b"
             ],
             [
              0.6666666666666666,
              "#ed7953"
             ],
             [
              0.7777777777777778,
              "#fb9f3a"
             ],
             [
              0.8888888888888888,
              "#fdca26"
             ],
             [
              1.0,
              "#f0f921"
             ]
            ]
           }
          ],
          "choropleth": [
           {
            "type": "choropleth",
            "colorbar": {
             "outlinewidth": 0,
             "ticks": ""
            }
           }
          ],
          "histogram2d": [
           {
            "type": "histogram2d",
            "colorbar": {
             "outlinewidth": 0,
             "ticks": ""
            },
            "colorscale": [
             [
              0.0,
              "#0d0887"
             ],
             [
              0.1111111111111111,
              "#46039f"
             ],
             [
              0.2222222222222222,
              "#7201a8"
             ],
             [
              0.3333333333333333,
              "#9c179e"
             ],
             [
              0.4444444444444444,
              "#bd3786"
             ],
             [
              0.5555555555555556,
              "#d8576b"
             ],
             [
              0.6666666666666666,
              "#ed7953"
             ],
             [
              0.7777777777777778,
              "#fb9f3a"
             ],
             [
              0.8888888888888888,
              "#fdca26"
             ],
             [
              1.0,
              "#f0f921"
             ]
            ]
           }
          ],
          "heatmap": [
           {
            "type": "heatmap",
            "colorbar": {
             "outlinewidth": 0,
             "ticks": ""
            },
            "colorscale": [
             [
              0.0,
              "#0d0887"
             ],
             [
              0.1111111111111111,
              "#46039f"
             ],
             [
              0.2222222222222222,
              "#7201a8"
             ],
             [
              0.3333333333333333,
              "#9c179e"
             ],
             [
              0.4444444444444444,
              "#bd3786"
             ],
             [
              0.5555555555555556,
              "#d8576b"
             ],
             [
              0.6666666666666666,
              "#ed7953"
             ],
             [
              0.7777777777777778,
              "#fb9f3a"
             ],
             [
              0.8888888888888888,
              "#fdca26"
             ],
             [
              1.0,
              "#f0f921"
             ]
            ]
           }
          ],
          "heatmapgl": [
           {
            "type": "heatmapgl",
            "colorbar": {
             "outlinewidth": 0,
             "ticks": ""
            },
            "colorscale": [
             [
              0.0,
              "#0d0887"
             ],
             [
              0.1111111111111111,
              "#46039f"
             ],
             [
              0.2222222222222222,
              "#7201a8"
             ],
             [
              0.3333333333333333,
              "#9c179e"
             ],
             [
              0.4444444444444444,
              "#bd3786"
             ],
             [
              0.5555555555555556,
              "#d8576b"
             ],
             [
              0.6666666666666666,
              "#ed7953"
             ],
             [
              0.7777777777777778,
              "#fb9f3a"
             ],
             [
              0.8888888888888888,
              "#fdca26"
             ],
             [
              1.0,
              "#f0f921"
             ]
            ]
           }
          ],
          "contourcarpet": [
           {
            "type": "contourcarpet",
            "colorbar": {
             "outlinewidth": 0,
             "ticks": ""
            }
           }
          ],
          "contour": [
           {
            "type": "contour",
            "colorbar": {
             "outlinewidth": 0,
             "ticks": ""
            },
            "colorscale": [
             [
              0.0,
              "#0d0887"
             ],
             [
              0.1111111111111111,
              "#46039f"
             ],
             [
              0.2222222222222222,
              "#7201a8"
             ],
             [
              0.3333333333333333,
              "#9c179e"
             ],
             [
              0.4444444444444444,
              "#bd3786"
             ],
             [
              0.5555555555555556,
              "#d8576b"
             ],
             [
              0.6666666666666666,
              "#ed7953"
             ],
             [
              0.7777777777777778,
              "#fb9f3a"
             ],
             [
              0.8888888888888888,
              "#fdca26"
             ],
             [
              1.0,
              "#f0f921"
             ]
            ]
           }
          ],
          "surface": [
           {
            "type": "surface",
            "colorbar": {
             "outlinewidth": 0,
             "ticks": ""
            },
            "colorscale": [
             [
              0.0,
              "#0d0887"
             ],
             [
              0.1111111111111111,
              "#46039f"
             ],
             [
              0.2222222222222222,
              "#7201a8"
             ],
             [
              0.3333333333333333,
              "#9c179e"
             ],
             [
              0.4444444444444444,
              "#bd3786"
             ],
             [
              0.5555555555555556,
              "#d8576b"
             ],
             [
              0.6666666666666666,
              "#ed7953"
             ],
             [
              0.7777777777777778,
              "#fb9f3a"
             ],
             [
              0.8888888888888888,
              "#fdca26"
             ],
             [
              1.0,
              "#f0f921"
             ]
            ]
           }
          ],
          "mesh3d": [
           {
            "type": "mesh3d",
            "colorbar": {
             "outlinewidth": 0,
             "ticks": ""
            }
           }
          ],
          "scatter": [
           {
            "fillpattern": {
             "fillmode": "overlay",
             "size": 10,
             "solidity": 0.2
            },
            "type": "scatter"
           }
          ],
          "parcoords": [
           {
            "type": "parcoords",
            "line": {
             "colorbar": {
              "outlinewidth": 0,
              "ticks": ""
             }
            }
           }
          ],
          "scatterpolargl": [
           {
            "type": "scatterpolargl",
            "marker": {
             "colorbar": {
              "outlinewidth": 0,
              "ticks": ""
             }
            }
           }
          ],
          "bar": [
           {
            "error_x": {
             "color": "#2a3f5f"
            },
            "error_y": {
             "color": "#2a3f5f"
            },
            "marker": {
             "line": {
              "color": "#E5ECF6",
              "width": 0.5
             },
             "pattern": {
              "fillmode": "overlay",
              "size": 10,
              "solidity": 0.2
             }
            },
            "type": "bar"
           }
          ],
          "scattergeo": [
           {
            "type": "scattergeo",
            "marker": {
             "colorbar": {
              "outlinewidth": 0,
              "ticks": ""
             }
            }
           }
          ],
          "scatterpolar": [
           {
            "type": "scatterpolar",
            "marker": {
             "colorbar": {
              "outlinewidth": 0,
              "ticks": ""
             }
            }
           }
          ],
          "histogram": [
           {
            "marker": {
             "pattern": {
              "fillmode": "overlay",
              "size": 10,
              "solidity": 0.2
             }
            },
            "type": "histogram"
           }
          ],
          "scattergl": [
           {
            "type": "scattergl",
            "marker": {
             "colorbar": {
              "outlinewidth": 0,
              "ticks": ""
             }
            }
           }
          ],
          "scatter3d": [
           {
            "type": "scatter3d",
            "line": {
             "colorbar": {
              "outlinewidth": 0,
              "ticks": ""
             }
            },
            "marker": {
             "colorbar": {
              "outlinewidth": 0,
              "ticks": ""
             }
            }
           }
          ],
          "scattermapbox": [
           {
            "type": "scattermapbox",
            "marker": {
             "colorbar": {
              "outlinewidth": 0,
              "ticks": ""
             }
            }
           }
          ],
          "scatterternary": [
           {
            "type": "scatterternary",
            "marker": {
             "colorbar": {
              "outlinewidth": 0,
              "ticks": ""
             }
            }
           }
          ],
          "scattercarpet": [
           {
            "type": "scattercarpet",
            "marker": {
             "colorbar": {
              "outlinewidth": 0,
              "ticks": ""
             }
            }
           }
          ],
          "carpet": [
           {
            "aaxis": {
             "endlinecolor": "#2a3f5f",
             "gridcolor": "white",
             "linecolor": "white",
             "minorgridcolor": "white",
             "startlinecolor": "#2a3f5f"
            },
            "baxis": {
             "endlinecolor": "#2a3f5f",
             "gridcolor": "white",
             "linecolor": "white",
             "minorgridcolor": "white",
             "startlinecolor": "#2a3f5f"
            },
            "type": "carpet"
           }
          ],
          "table": [
           {
            "cells": {
             "fill": {
              "color": "#EBF0F8"
             },
             "line": {
              "color": "white"
             }
            },
            "header": {
             "fill": {
              "color": "#C8D4E3"
             },
             "line": {
              "color": "white"
             }
            },
            "type": "table"
           }
          ],
          "barpolar": [
           {
            "marker": {
             "line": {
              "color": "#E5ECF6",
              "width": 0.5
             },
             "pattern": {
              "fillmode": "overlay",
              "size": 10,
              "solidity": 0.2
             }
            },
            "type": "barpolar"
           }
          ],
          "pie": [
           {
            "automargin": true,
            "type": "pie"
           }
          ]
         },
         "layout": {
          "autotypenumbers": "strict",
          "colorway": [
           "#636efa",
           "#EF553B",
           "#00cc96",
           "#ab63fa",
           "#FFA15A",
           "#19d3f3",
           "#FF6692",
           "#B6E880",
           "#FF97FF",
           "#FECB52"
          ],
          "font": {
           "color": "#2a3f5f"
          },
          "hovermode": "closest",
          "hoverlabel": {
           "align": "left"
          },
          "paper_bgcolor": "white",
          "plot_bgcolor": "#E5ECF6",
          "polar": {
           "bgcolor": "#E5ECF6",
           "angularaxis": {
            "gridcolor": "white",
            "linecolor": "white",
            "ticks": ""
           },
           "radialaxis": {
            "gridcolor": "white",
            "linecolor": "white",
            "ticks": ""
           }
          },
          "ternary": {
           "bgcolor": "#E5ECF6",
           "aaxis": {
            "gridcolor": "white",
            "linecolor": "white",
            "ticks": ""
           },
           "baxis": {
            "gridcolor": "white",
            "linecolor": "white",
            "ticks": ""
           },
           "caxis": {
            "gridcolor": "white",
            "linecolor": "white",
            "ticks": ""
           }
          },
          "coloraxis": {
           "colorbar": {
            "outlinewidth": 0,
            "ticks": ""
           }
          },
          "colorscale": {
           "sequential": [
            [
             0.0,
             "#0d0887"
            ],
            [
             0.1111111111111111,
             "#46039f"
            ],
            [
             0.2222222222222222,
             "#7201a8"
            ],
            [
             0.3333333333333333,
             "#9c179e"
            ],
            [
             0.4444444444444444,
             "#bd3786"
            ],
            [
             0.5555555555555556,
             "#d8576b"
            ],
            [
             0.6666666666666666,
             "#ed7953"
            ],
            [
             0.7777777777777778,
             "#fb9f3a"
            ],
            [
             0.8888888888888888,
             "#fdca26"
            ],
            [
             1.0,
             "#f0f921"
            ]
           ],
           "sequentialminus": [
            [
             0.0,
             "#0d0887"
            ],
            [
             0.1111111111111111,
             "#46039f"
            ],
            [
             0.2222222222222222,
             "#7201a8"
            ],
            [
             0.3333333333333333,
             "#9c179e"
            ],
            [
             0.4444444444444444,
             "#bd3786"
            ],
            [
             0.5555555555555556,
             "#d8576b"
            ],
            [
             0.6666666666666666,
             "#ed7953"
            ],
            [
             0.7777777777777778,
             "#fb9f3a"
            ],
            [
             0.8888888888888888,
             "#fdca26"
            ],
            [
             1.0,
             "#f0f921"
            ]
           ],
           "diverging": [
            [
             0,
             "#8e0152"
            ],
            [
             0.1,
             "#c51b7d"
            ],
            [
             0.2,
             "#de77ae"
            ],
            [
             0.3,
             "#f1b6da"
            ],
            [
             0.4,
             "#fde0ef"
            ],
            [
             0.5,
             "#f7f7f7"
            ],
            [
             0.6,
             "#e6f5d0"
            ],
            [
             0.7,
             "#b8e186"
            ],
            [
             0.8,
             "#7fbc41"
            ],
            [
             0.9,
             "#4d9221"
            ],
            [
             1,
             "#276419"
            ]
           ]
          },
          "xaxis": {
           "gridcolor": "white",
           "linecolor": "white",
           "ticks": "",
           "title": {
            "standoff": 15
           },
           "zerolinecolor": "white",
           "automargin": true,
           "zerolinewidth": 2
          },
          "yaxis": {
           "gridcolor": "white",
           "linecolor": "white",
           "ticks": "",
           "title": {
            "standoff": 15
           },
           "zerolinecolor": "white",
           "automargin": true,
           "zerolinewidth": 2
          },
          "scene": {
           "xaxis": {
            "backgroundcolor": "#E5ECF6",
            "gridcolor": "white",
            "linecolor": "white",
            "showbackground": true,
            "ticks": "",
            "zerolinecolor": "white",
            "gridwidth": 2
           },
           "yaxis": {
            "backgroundcolor": "#E5ECF6",
            "gridcolor": "white",
            "linecolor": "white",
            "showbackground": true,
            "ticks": "",
            "zerolinecolor": "white",
            "gridwidth": 2
           },
           "zaxis": {
            "backgroundcolor": "#E5ECF6",
            "gridcolor": "white",
            "linecolor": "white",
            "showbackground": true,
            "ticks": "",
            "zerolinecolor": "white",
            "gridwidth": 2
           }
          },
          "shapedefaults": {
           "line": {
            "color": "#2a3f5f"
           }
          },
          "annotationdefaults": {
           "arrowcolor": "#2a3f5f",
           "arrowhead": 0,
           "arrowwidth": 1
          },
          "geo": {
           "bgcolor": "white",
           "landcolor": "#E5ECF6",
           "subunitcolor": "white",
           "showland": true,
           "showlakes": true,
           "lakecolor": "white"
          },
          "title": {
           "x": 0.05
          },
          "mapbox": {
           "style": "light"
          }
         }
        },
        "xaxis": {
         "anchor": "y",
         "domain": [
          0.0,
          1.0
         ],
         "title": {
          "text": "average"
         }
        },
        "yaxis": {
         "anchor": "x",
         "domain": [
          0.0,
          0.7326
         ],
         "title": {
          "text": "count"
         }
        },
        "xaxis2": {
         "anchor": "y2",
         "domain": [
          0.0,
          1.0
         ],
         "matches": "x",
         "showticklabels": false,
         "showgrid": true
        },
        "yaxis2": {
         "anchor": "x2",
         "domain": [
          0.7426,
          1.0
         ],
         "matches": "y2",
         "showticklabels": false,
         "showline": false,
         "ticks": "",
         "showgrid": false
        },
        "legend": {
         "title": {
          "text": "gender"
         },
         "tracegroupgap": 0
        },
        "title": {
         "text": "Average Distribution by Gender"
        },
        "barmode": "relative"
       },
       "config": {
        "plotlyServerURL": "https://plot.ly"
       }
      },
      "text/html": "<div>                            <div id=\"326a7e1f-bdd2-4258-b7d1-d2e67ec8426e\" class=\"plotly-graph-div\" style=\"height:525px; width:100%;\"></div>            <script type=\"text/javascript\">                require([\"plotly\"], function(Plotly) {                    window.PLOTLYENV=window.PLOTLYENV || {};                                    if (document.getElementById(\"326a7e1f-bdd2-4258-b7d1-d2e67ec8426e\")) {                    Plotly.newPlot(                        \"326a7e1f-bdd2-4258-b7d1-d2e67ec8426e\",                        [{\"alignmentgroup\":\"True\",\"bingroup\":\"x\",\"hovertemplate\":\"gender=female\\u003cbr\\u003eaverage=%{x}\\u003cbr\\u003ecount=%{y}\\u003cextra\\u003e\\u003c\\u002fextra\\u003e\",\"legendgroup\":\"female\",\"marker\":{\"color\":\"pink\",\"pattern\":{\"shape\":\"\"}},\"name\":\"female\",\"offsetgroup\":\"female\",\"orientation\":\"v\",\"showlegend\":true,\"x\":[72.66666666666667,82.33333333333333,92.66666666666667,77.33333333333333,91.66666666666667,49.333333333333336,73.0,53.666666666666664,74.0,26.0,57.666666666666664,70.0,71.66666666666667,70.33333333333333,69.0,72.33333333333333,63.0,64.33333333333333,79.33333333333333,57.666666666666664,84.33333333333333,66.33333333333333,58.666666666666664,53.333333333333336,60.666666666666664,71.0,69.0,80.66666666666667,39.0,84.33333333333333,9.0,73.33333333333333,58.666666666666664,68.66666666666667,53.333333333333336,64.66666666666667,46.666666666666664,69.0,66.0,48.666666666666664,78.33333333333333,82.33333333333333,72.0,65.0,80.33333333333333,70.33333333333333,85.66666666666667,68.33333333333333,62.333333333333336,64.66666666666667,88.33333333333333,65.66666666666667,95.66666666666667,66.0,68.66666666666667,88.0,54.333333333333336,99.66666666666667,80.66666666666667,79.66666666666667,58.333333333333336,63.0,86.66666666666667,91.33333333333333,89.33333333333333,50.333333333333336,80.0,64.0,73.0,61.666666666666664,50.333333333333336,31.333333333333332,74.66666666666667,65.0,82.33333333333333,72.66666666666667,78.0,82.66666666666667,88.0,98.66666666666667,70.66666666666667,76.33333333333333,70.66666666666667,82.0,66.66666666666667,49.333333333333336,86.33333333333333,52.666666666666664,75.0,61.333333333333336,99.0,58.666666666666664,49.0,68.0,84.0,66.66666666666667,64.0,79.33333333333333,51.0,77.66666666666667,79.0,74.33333333333333,64.66666666666667,77.0,61.666666666666664,54.666666666666664,85.66666666666667,38.333333333333336,66.0,60.666666666666664,63.666666666666664,51.666666666666664,71.66666666666667,92.33333333333333,78.66666666666667,66.0,82.0,54.333333333333336,65.33333333333333,63.666666666666664,79.0,66.66666666666667,68.33333333333333,68.33333333333333,74.33333333333333,75.66666666666667,73.33333333333333,48.333333333333336,94.0,73.0,72.66666666666667,91.66666666666667,72.33333333333333,52.666666666666664,68.66666666666667,90.0,65.66666666666667,77.0,78.66666666666667,75.33333333333333,43.0,79.33333333333333,71.0,77.33333333333333,77.33333333333333,63.666666666666664,52.666666666666664,76.33333333333333,68.0,66.0,83.33333333333333,61.333333333333336,76.66666666666667,80.0,77.33333333333333,49.666666666666664,43.333333333333336,88.66666666666667,49.0,90.33333333333333,65.0,29.666666666666668,50.0,65.66666666666667,73.0,75.66666666666667,88.66666666666667,62.0,73.66666666666667,53.666666666666664,66.66666666666667,67.66666666666667,59.0,86.33333333333333,59.666666666666664,56.0,31.0,55.333333333333336,80.66666666666667,62.666666666666664,91.66666666666667,67.33333333333333,84.0,93.33333333333333,77.0,83.0,44.0,41.333333333333336,72.66666666666667,69.0,67.33333333333333,63.333333333333336,74.0,72.0,60.0,89.66666666666667,60.0,56.333333333333336,95.66666666666667,58.333333333333336,68.0,79.66666666666667,55.0,71.66666666666667,67.33333333333333,89.33333333333333,59.666666666666664,57.333333333333336,74.66666666666667,63.666666666666664,67.66666666666667,52.0,75.66666666666667,79.66666666666667,67.0,77.33333333333333,72.66666666666667,78.0,96.33333333333333,72.0,58.666666666666664,85.66666666666667,100.0,72.33333333333333,86.0,87.33333333333333,31.666666666666668,83.33333333333333,86.0,68.66666666666667,79.33333333333333,62.333333333333336,90.33333333333333,76.66666666666667,63.0,55.666666666666664,51.666666666666664,69.66666666666667,75.33333333333333,66.0,85.33333333333333,86.33333333333333,62.0,51.333333333333336,71.0,67.66666666666667,78.33333333333333,91.0,92.0,51.0,81.33333333333333,88.33333333333333,59.0,89.33333333333333,82.66666666666667,82.33333333333333,71.0,74.0,74.66666666666667,87.0,44.0,39.0,68.66666666666667,69.33333333333333,51.333333333333336,87.0,77.33333333333333,59.666666666666664,79.0,88.66666666666667,64.33333333333333,96.33333333333333,64.33333333333333,46.0,34.666666666666664,68.66666666666667,64.33333333333333,76.0,70.33333333333333,74.33333333333333,97.33333333333333,70.0,57.0,60.0,75.33333333333333,87.0,54.0,60.666666666666664,91.33333333333333,78.66666666666667,71.33333333333333,76.0,74.33333333333333,72.33333333333333,67.0,56.333333333333336,61.0,59.666666666666664,74.33333333333333,97.0,69.0,73.0,76.0,59.0,29.333333333333332,78.0,83.66666666666667,50.666666666666664,62.333333333333336,62.0,61.0,72.0,89.33333333333333,66.66666666666667,40.0,50.0,60.333333333333336,50.0,73.66666666666667,82.66666666666667,76.0,86.66666666666667,74.33333333333333,84.0,77.33333333333333,77.66666666666667,75.66666666666667,64.66666666666667,64.66666666666667,52.666666666666664,76.33333333333333,74.66666666666667,89.66666666666667,69.66666666666667,77.0,65.33333333333333,53.666666666666664,65.0,67.0,56.666666666666664,69.0,83.0,70.0,74.33333333333333,77.66666666666667,74.66666666666667,60.0,75.66666666666667,76.0,71.0,37.666666666666664,97.66666666666667,51.666666666666664,75.66666666666667,73.66666666666667,75.66666666666667,56.0,84.66666666666667,82.33333333333333,67.0,71.33333333333333,80.66666666666667,65.33333333333333,64.66666666666667,62.0,53.666666666666664,83.33333333333333,99.0,68.0,85.66666666666667,97.0,75.33333333333333,68.0,84.0,72.33333333333333,83.0,75.0,90.0,56.0,64.0,50.0,82.33333333333333,68.0,56.333333333333336,84.0,90.33333333333333,58.666666666666664,63.0,53.333333333333336,62.333333333333336,72.66666666666667,70.0,71.33333333333333,63.666666666666664,73.0,54.0,69.33333333333333,40.666666666666664,77.66666666666667,53.0,83.66666666666667,81.0,57.666666666666664,42.333333333333336,76.0,29.666666666666668,59.333333333333336,56.666666666666664,65.33333333333333,48.333333333333336,66.0,78.33333333333333,54.666666666666664,92.0,84.66666666666667,75.66666666666667,71.0,42.0,61.666666666666664,78.33333333333333,56.0,66.66666666666667,85.33333333333333,89.0,87.0,80.0,52.666666666666664,64.66666666666667,70.0,78.66666666666667,59.333333333333336,83.0,82.66666666666667,66.0,78.66666666666667,72.0,45.666666666666664,34.333333333333336,56.333333333333336,66.33333333333333,64.0,88.33333333333333,96.66666666666667,75.0,56.0,84.66666666666667,74.0,72.66666666666667,55.333333333333336,70.33333333333333,71.33333333333333,70.33333333333333,69.33333333333333,52.0,72.66666666666667,96.0,69.33333333333333,87.33333333333333,87.33333333333333,63.333333333333336,63.333333333333336,34.666666666666664,73.33333333333333,75.0,75.0,41.0,97.66666666666667,78.33333333333333,84.66666666666667,71.33333333333333,78.33333333333333,59.666666666666664,58.333333333333336,54.0,68.0,52.333333333333336,71.33333333333333,44.666666666666664,61.333333333333336,65.66666666666667,51.666666666666664,57.333333333333336,88.33333333333333,62.333333333333336,57.666666666666664,55.666666666666664,68.33333333333333,78.33333333333333,73.33333333333333,66.66666666666667,97.33333333333333,55.666666666666664,59.333333333333336,51.666666666666664,100.0,72.0,68.0,70.33333333333333,79.66666666666667,96.33333333333333,54.333333333333336,58.333333333333336,61.333333333333336,74.33333333333333,93.33333333333333,18.333333333333332,85.33333333333333,77.0,50.0,44.666666666666664,78.66666666666667,75.0,69.0,69.33333333333333,94.0,65.0,74.33333333333333,83.0],\"xaxis\":\"x\",\"yaxis\":\"y\",\"type\":\"histogram\"},{\"alignmentgroup\":\"True\",\"hovertemplate\":\"gender=female\\u003cbr\\u003eaverage=%{x}\\u003cextra\\u003e\\u003c\\u002fextra\\u003e\",\"legendgroup\":\"female\",\"marker\":{\"color\":\"pink\"},\"name\":\"female\",\"notched\":true,\"offsetgroup\":\"female\",\"showlegend\":false,\"x\":[72.66666666666667,82.33333333333333,92.66666666666667,77.33333333333333,91.66666666666667,49.333333333333336,73.0,53.666666666666664,74.0,26.0,57.666666666666664,70.0,71.66666666666667,70.33333333333333,69.0,72.33333333333333,63.0,64.33333333333333,79.33333333333333,57.666666666666664,84.33333333333333,66.33333333333333,58.666666666666664,53.333333333333336,60.666666666666664,71.0,69.0,80.66666666666667,39.0,84.33333333333333,9.0,73.33333333333333,58.666666666666664,68.66666666666667,53.333333333333336,64.66666666666667,46.666666666666664,69.0,66.0,48.666666666666664,78.33333333333333,82.33333333333333,72.0,65.0,80.33333333333333,70.33333333333333,85.66666666666667,68.33333333333333,62.333333333333336,64.66666666666667,88.33333333333333,65.66666666666667,95.66666666666667,66.0,68.66666666666667,88.0,54.333333333333336,99.66666666666667,80.66666666666667,79.66666666666667,58.333333333333336,63.0,86.66666666666667,91.33333333333333,89.33333333333333,50.333333333333336,80.0,64.0,73.0,61.666666666666664,50.333333333333336,31.333333333333332,74.66666666666667,65.0,82.33333333333333,72.66666666666667,78.0,82.66666666666667,88.0,98.66666666666667,70.66666666666667,76.33333333333333,70.66666666666667,82.0,66.66666666666667,49.333333333333336,86.33333333333333,52.666666666666664,75.0,61.333333333333336,99.0,58.666666666666664,49.0,68.0,84.0,66.66666666666667,64.0,79.33333333333333,51.0,77.66666666666667,79.0,74.33333333333333,64.66666666666667,77.0,61.666666666666664,54.666666666666664,85.66666666666667,38.333333333333336,66.0,60.666666666666664,63.666666666666664,51.666666666666664,71.66666666666667,92.33333333333333,78.66666666666667,66.0,82.0,54.333333333333336,65.33333333333333,63.666666666666664,79.0,66.66666666666667,68.33333333333333,68.33333333333333,74.33333333333333,75.66666666666667,73.33333333333333,48.333333333333336,94.0,73.0,72.66666666666667,91.66666666666667,72.33333333333333,52.666666666666664,68.66666666666667,90.0,65.66666666666667,77.0,78.66666666666667,75.33333333333333,43.0,79.33333333333333,71.0,77.33333333333333,77.33333333333333,63.666666666666664,52.666666666666664,76.33333333333333,68.0,66.0,83.33333333333333,61.333333333333336,76.66666666666667,80.0,77.33333333333333,49.666666666666664,43.333333333333336,88.66666666666667,49.0,90.33333333333333,65.0,29.666666666666668,50.0,65.66666666666667,73.0,75.66666666666667,88.66666666666667,62.0,73.66666666666667,53.666666666666664,66.66666666666667,67.66666666666667,59.0,86.33333333333333,59.666666666666664,56.0,31.0,55.333333333333336,80.66666666666667,62.666666666666664,91.66666666666667,67.33333333333333,84.0,93.33333333333333,77.0,83.0,44.0,41.333333333333336,72.66666666666667,69.0,67.33333333333333,63.333333333333336,74.0,72.0,60.0,89.66666666666667,60.0,56.333333333333336,95.66666666666667,58.333333333333336,68.0,79.66666666666667,55.0,71.66666666666667,67.33333333333333,89.33333333333333,59.666666666666664,57.333333333333336,74.66666666666667,63.666666666666664,67.66666666666667,52.0,75.66666666666667,79.66666666666667,67.0,77.33333333333333,72.66666666666667,78.0,96.33333333333333,72.0,58.666666666666664,85.66666666666667,100.0,72.33333333333333,86.0,87.33333333333333,31.666666666666668,83.33333333333333,86.0,68.66666666666667,79.33333333333333,62.333333333333336,90.33333333333333,76.66666666666667,63.0,55.666666666666664,51.666666666666664,69.66666666666667,75.33333333333333,66.0,85.33333333333333,86.33333333333333,62.0,51.333333333333336,71.0,67.66666666666667,78.33333333333333,91.0,92.0,51.0,81.33333333333333,88.33333333333333,59.0,89.33333333333333,82.66666666666667,82.33333333333333,71.0,74.0,74.66666666666667,87.0,44.0,39.0,68.66666666666667,69.33333333333333,51.333333333333336,87.0,77.33333333333333,59.666666666666664,79.0,88.66666666666667,64.33333333333333,96.33333333333333,64.33333333333333,46.0,34.666666666666664,68.66666666666667,64.33333333333333,76.0,70.33333333333333,74.33333333333333,97.33333333333333,70.0,57.0,60.0,75.33333333333333,87.0,54.0,60.666666666666664,91.33333333333333,78.66666666666667,71.33333333333333,76.0,74.33333333333333,72.33333333333333,67.0,56.333333333333336,61.0,59.666666666666664,74.33333333333333,97.0,69.0,73.0,76.0,59.0,29.333333333333332,78.0,83.66666666666667,50.666666666666664,62.333333333333336,62.0,61.0,72.0,89.33333333333333,66.66666666666667,40.0,50.0,60.333333333333336,50.0,73.66666666666667,82.66666666666667,76.0,86.66666666666667,74.33333333333333,84.0,77.33333333333333,77.66666666666667,75.66666666666667,64.66666666666667,64.66666666666667,52.666666666666664,76.33333333333333,74.66666666666667,89.66666666666667,69.66666666666667,77.0,65.33333333333333,53.666666666666664,65.0,67.0,56.666666666666664,69.0,83.0,70.0,74.33333333333333,77.66666666666667,74.66666666666667,60.0,75.66666666666667,76.0,71.0,37.666666666666664,97.66666666666667,51.666666666666664,75.66666666666667,73.66666666666667,75.66666666666667,56.0,84.66666666666667,82.33333333333333,67.0,71.33333333333333,80.66666666666667,65.33333333333333,64.66666666666667,62.0,53.666666666666664,83.33333333333333,99.0,68.0,85.66666666666667,97.0,75.33333333333333,68.0,84.0,72.33333333333333,83.0,75.0,90.0,56.0,64.0,50.0,82.33333333333333,68.0,56.333333333333336,84.0,90.33333333333333,58.666666666666664,63.0,53.333333333333336,62.333333333333336,72.66666666666667,70.0,71.33333333333333,63.666666666666664,73.0,54.0,69.33333333333333,40.666666666666664,77.66666666666667,53.0,83.66666666666667,81.0,57.666666666666664,42.333333333333336,76.0,29.666666666666668,59.333333333333336,56.666666666666664,65.33333333333333,48.333333333333336,66.0,78.33333333333333,54.666666666666664,92.0,84.66666666666667,75.66666666666667,71.0,42.0,61.666666666666664,78.33333333333333,56.0,66.66666666666667,85.33333333333333,89.0,87.0,80.0,52.666666666666664,64.66666666666667,70.0,78.66666666666667,59.333333333333336,83.0,82.66666666666667,66.0,78.66666666666667,72.0,45.666666666666664,34.333333333333336,56.333333333333336,66.33333333333333,64.0,88.33333333333333,96.66666666666667,75.0,56.0,84.66666666666667,74.0,72.66666666666667,55.333333333333336,70.33333333333333,71.33333333333333,70.33333333333333,69.33333333333333,52.0,72.66666666666667,96.0,69.33333333333333,87.33333333333333,87.33333333333333,63.333333333333336,63.333333333333336,34.666666666666664,73.33333333333333,75.0,75.0,41.0,97.66666666666667,78.33333333333333,84.66666666666667,71.33333333333333,78.33333333333333,59.666666666666664,58.333333333333336,54.0,68.0,52.333333333333336,71.33333333333333,44.666666666666664,61.333333333333336,65.66666666666667,51.666666666666664,57.333333333333336,88.33333333333333,62.333333333333336,57.666666666666664,55.666666666666664,68.33333333333333,78.33333333333333,73.33333333333333,66.66666666666667,97.33333333333333,55.666666666666664,59.333333333333336,51.666666666666664,100.0,72.0,68.0,70.33333333333333,79.66666666666667,96.33333333333333,54.333333333333336,58.333333333333336,61.333333333333336,74.33333333333333,93.33333333333333,18.333333333333332,85.33333333333333,77.0,50.0,44.666666666666664,78.66666666666667,75.0,69.0,69.33333333333333,94.0,65.0,74.33333333333333,83.0],\"xaxis\":\"x2\",\"yaxis\":\"y2\",\"type\":\"box\"},{\"alignmentgroup\":\"True\",\"bingroup\":\"x\",\"hovertemplate\":\"gender=male\\u003cbr\\u003eaverage=%{x}\\u003cbr\\u003ecount=%{y}\\u003cextra\\u003e\\u003c\\u002fextra\\u003e\",\"legendgroup\":\"male\",\"marker\":{\"color\":\"blue\",\"pattern\":{\"shape\":\"\"}},\"name\":\"male\",\"offsetgroup\":\"male\",\"orientation\":\"v\",\"showlegend\":true,\"x\":[49.333333333333336,76.33333333333333,40.666666666666664,65.0,54.666666666666664,45.0,73.33333333333333,87.66666666666667,44.666666666666664,66.0,50.333333333333336,75.0,73.0,59.333333333333336,68.33333333333333,40.0,88.66666666666667,80.33333333333333,56.666666666666664,56.666666666666664,63.333333333333336,58.666666666666664,82.66666666666667,52.0,71.33333333333333,46.333333333333336,80.33333333333333,52.0,58.333333333333336,75.0,37.333333333333336,59.333333333333336,64.0,39.666666666666664,58.333333333333336,60.333333333333336,58.0,46.333333333333336,41.0,26.0,79.66666666666667,46.333333333333336,50.333333333333336,66.33333333333333,38.333333333333336,32.333333333333336,73.66666666666667,46.0,80.33333333333333,64.33333333333333,71.0,72.0,50.333333333333336,91.33333333333333,64.33333333333333,55.333333333333336,51.333333333333336,78.33333333333333,90.66666666666667,58.666666666666664,78.66666666666667,69.0,72.0,79.33333333333333,85.0,43.333333333333336,77.0,76.0,53.666666666666664,48.666666666666664,60.333333333333336,67.0,49.0,79.66666666666667,82.33333333333333,69.0,97.66666666666667,66.0,70.66666666666667,50.0,63.333333333333336,60.0,64.0,78.0,51.333333333333336,51.333333333333336,51.666666666666664,73.0,86.66666666666667,68.33333333333333,48.666666666666664,65.66666666666667,73.66666666666667,65.33333333333333,48.333333333333336,79.33333333333333,67.0,56.0,64.33333333333333,54.0,71.66666666666667,47.333333333333336,74.33333333333333,68.66666666666667,79.0,79.33333333333333,30.0,55.666666666666664,86.33333333333333,80.66666666666667,71.0,57.666666666666664,81.66666666666667,80.33333333333333,53.666666666666664,68.0,68.66666666666667,43.666666666666664,85.66666666666667,83.0,77.33333333333333,65.33333333333333,52.333333333333336,81.33333333333333,69.0,51.0,72.66666666666667,77.33333333333333,79.66666666666667,60.333333333333336,48.333333333333336,77.33333333333333,52.666666666666664,77.33333333333333,78.66666666666667,72.33333333333333,47.333333333333336,64.33333333333333,49.666666666666664,83.0,78.0,62.0,49.0,46.333333333333336,81.66666666666667,89.0,79.66666666666667,76.66666666666667,71.33333333333333,76.33333333333333,60.0,78.33333333333333,63.0,43.333333333333336,71.0,45.333333333333336,84.0,80.0,54.0,73.33333333333333,68.33333333333333,89.0,49.0,61.0,65.33333333333333,67.33333333333333,77.66666666666667,67.66666666666667,61.333333333333336,23.333333333333332,78.0,64.0,39.666666666666664,57.0,83.0,71.66666666666667,47.666666666666664,57.0,68.66666666666667,73.0,60.0,71.66666666666667,79.0,58.333333333333336,61.666666666666664,60.666666666666664,82.33333333333333,59.0,55.666666666666664,60.0,62.666666666666664,77.33333333333333,73.33333333333333,43.333333333333336,64.0,94.0,77.0,72.66666666666667,66.33333333333333,70.0,55.666666666666664,44.666666666666664,64.66666666666667,57.666666666666664,46.333333333333336,64.33333333333333,85.33333333333333,81.66666666666667,65.66666666666667,65.66666666666667,75.33333333333333,71.0,71.33333333333333,63.0,55.666666666666664,38.0,85.0,68.33333333333333,59.0,61.666666666666664,63.0,57.333333333333336,68.33333333333333,50.333333333333336,69.0,71.33333333333333,59.0,86.33333333333333,78.0,65.0,82.33333333333333,45.0,75.33333333333333,57.333333333333336,46.666666666666664,51.666666666666664,68.33333333333333,55.333333333333336,51.0,65.0,68.0,80.33333333333333,68.0,73.33333333333333,71.33333333333333,70.66666666666667,65.66666666666667,52.333333333333336,71.66666666666667,54.666666666666664,58.0,81.0,66.0,73.0,59.333333333333336,68.0,56.0,78.0,73.33333333333333,52.333333333333336,54.333333333333336,57.333333333333336,61.333333333333336,54.333333333333336,51.333333333333336,62.333333333333336,59.0,60.333333333333336,70.0,56.333333333333336,74.0,91.66666666666667,70.66666666666667,80.33333333333333,80.33333333333333,67.66666666666667,73.33333333333333,73.33333333333333,88.33333333333333,67.66666666666667,46.0,64.66666666666667,67.0,92.66666666666667,48.333333333333336,45.333333333333336,52.666666666666664,67.66666666666667,72.0,93.0,49.333333333333336,54.666666666666664,56.333333333333336,61.0,66.66666666666667,23.0,51.666666666666664,56.0,87.66666666666667,69.66666666666667,64.0,91.66666666666667,83.0,86.66666666666667,68.66666666666667,60.333333333333336,53.666666666666664,94.0,98.66666666666667,67.33333333333333,51.666666666666664,50.666666666666664,67.0,68.0,82.66666666666667,69.66666666666667,78.66666666666667,48.0,65.0,53.333333333333336,69.33333333333333,65.33333333333333,87.33333333333333,74.66666666666667,67.33333333333333,68.66666666666667,69.33333333333333,76.66666666666667,53.0,78.0,61.333333333333336,62.666666666666664,57.0,65.33333333333333,76.0,76.0,51.666666666666664,88.66666666666667,63.666666666666664,86.0,66.33333333333333,38.666666666666664,59.0,85.0,89.0,82.0,74.33333333333333,81.33333333333333,57.666666666666664,46.666666666666664,43.666666666666664,75.33333333333333,58.666666666666664,43.0,48.0,48.666666666666664,61.0,85.0,75.0,58.666666666666664,75.0,52.333333333333336,75.0,71.66666666666667,67.0,85.66666666666667,69.33333333333333,68.33333333333333,77.0,55.333333333333336,55.0,70.0,74.33333333333333,81.66666666666667,60.666666666666664,66.0,58.333333333333336,49.666666666666664,74.0,63.666666666666664,87.0,83.66666666666667,64.66666666666667,69.66666666666667,83.33333333333333,70.0,61.0,69.33333333333333,76.33333333333333,76.66666666666667,78.0,54.666666666666664,39.333333333333336,47.0,82.33333333333333,89.0,69.0,50.666666666666664,62.333333333333336,58.333333333333336,60.666666666666664,51.0,64.66666666666667,56.0,57.666666666666664,75.66666666666667,86.33333333333333,87.0,56.0,74.66666666666667,68.33333333333333,70.0,60.333333333333336,69.33333333333333,49.0,77.33333333333333,39.666666666666664,93.66666666666667,84.0,54.666666666666664,48.0,74.66666666666667,50.333333333333336,54.666666666666664,81.33333333333333,87.33333333333333,70.0,82.33333333333333,57.333333333333336,64.33333333333333,48.333333333333336,61.666666666666664,47.666666666666664,79.0,30.666666666666668,61.333333333333336,86.0,80.66666666666667,52.0,68.0,46.666666666666664,100.0,92.66666666666667,68.66666666666667,68.0,71.0,66.0,57.333333333333336,44.333333333333336,70.33333333333333,60.333333333333336,68.33333333333333,73.0,91.66666666666667,63.666666666666664,59.0,83.66666666666667,71.33333333333333,70.0,70.33333333333333,61.333333333333336,81.33333333333333,50.333333333333336,79.33333333333333,54.666666666666664,63.666666666666664,84.0,75.66666666666667,62.333333333333336,66.0,62.0,73.0,60.666666666666664,61.666666666666664,48.0,79.0,83.33333333333333,54.0,77.33333333333333,80.66666666666667,62.666666666666664,57.333333333333336],\"xaxis\":\"x\",\"yaxis\":\"y\",\"type\":\"histogram\"},{\"alignmentgroup\":\"True\",\"hovertemplate\":\"gender=male\\u003cbr\\u003eaverage=%{x}\\u003cextra\\u003e\\u003c\\u002fextra\\u003e\",\"legendgroup\":\"male\",\"marker\":{\"color\":\"blue\"},\"name\":\"male\",\"notched\":true,\"offsetgroup\":\"male\",\"showlegend\":false,\"x\":[49.333333333333336,76.33333333333333,40.666666666666664,65.0,54.666666666666664,45.0,73.33333333333333,87.66666666666667,44.666666666666664,66.0,50.333333333333336,75.0,73.0,59.333333333333336,68.33333333333333,40.0,88.66666666666667,80.33333333333333,56.666666666666664,56.666666666666664,63.333333333333336,58.666666666666664,82.66666666666667,52.0,71.33333333333333,46.333333333333336,80.33333333333333,52.0,58.333333333333336,75.0,37.333333333333336,59.333333333333336,64.0,39.666666666666664,58.333333333333336,60.333333333333336,58.0,46.333333333333336,41.0,26.0,79.66666666666667,46.333333333333336,50.333333333333336,66.33333333333333,38.333333333333336,32.333333333333336,73.66666666666667,46.0,80.33333333333333,64.33333333333333,71.0,72.0,50.333333333333336,91.33333333333333,64.33333333333333,55.333333333333336,51.333333333333336,78.33333333333333,90.66666666666667,58.666666666666664,78.66666666666667,69.0,72.0,79.33333333333333,85.0,43.333333333333336,77.0,76.0,53.666666666666664,48.666666666666664,60.333333333333336,67.0,49.0,79.66666666666667,82.33333333333333,69.0,97.66666666666667,66.0,70.66666666666667,50.0,63.333333333333336,60.0,64.0,78.0,51.333333333333336,51.333333333333336,51.666666666666664,73.0,86.66666666666667,68.33333333333333,48.666666666666664,65.66666666666667,73.66666666666667,65.33333333333333,48.333333333333336,79.33333333333333,67.0,56.0,64.33333333333333,54.0,71.66666666666667,47.333333333333336,74.33333333333333,68.66666666666667,79.0,79.33333333333333,30.0,55.666666666666664,86.33333333333333,80.66666666666667,71.0,57.666666666666664,81.66666666666667,80.33333333333333,53.666666666666664,68.0,68.66666666666667,43.666666666666664,85.66666666666667,83.0,77.33333333333333,65.33333333333333,52.333333333333336,81.33333333333333,69.0,51.0,72.66666666666667,77.33333333333333,79.66666666666667,60.333333333333336,48.333333333333336,77.33333333333333,52.666666666666664,77.33333333333333,78.66666666666667,72.33333333333333,47.333333333333336,64.33333333333333,49.666666666666664,83.0,78.0,62.0,49.0,46.333333333333336,81.66666666666667,89.0,79.66666666666667,76.66666666666667,71.33333333333333,76.33333333333333,60.0,78.33333333333333,63.0,43.333333333333336,71.0,45.333333333333336,84.0,80.0,54.0,73.33333333333333,68.33333333333333,89.0,49.0,61.0,65.33333333333333,67.33333333333333,77.66666666666667,67.66666666666667,61.333333333333336,23.333333333333332,78.0,64.0,39.666666666666664,57.0,83.0,71.66666666666667,47.666666666666664,57.0,68.66666666666667,73.0,60.0,71.66666666666667,79.0,58.333333333333336,61.666666666666664,60.666666666666664,82.33333333333333,59.0,55.666666666666664,60.0,62.666666666666664,77.33333333333333,73.33333333333333,43.333333333333336,64.0,94.0,77.0,72.66666666666667,66.33333333333333,70.0,55.666666666666664,44.666666666666664,64.66666666666667,57.666666666666664,46.333333333333336,64.33333333333333,85.33333333333333,81.66666666666667,65.66666666666667,65.66666666666667,75.33333333333333,71.0,71.33333333333333,63.0,55.666666666666664,38.0,85.0,68.33333333333333,59.0,61.666666666666664,63.0,57.333333333333336,68.33333333333333,50.333333333333336,69.0,71.33333333333333,59.0,86.33333333333333,78.0,65.0,82.33333333333333,45.0,75.33333333333333,57.333333333333336,46.666666666666664,51.666666666666664,68.33333333333333,55.333333333333336,51.0,65.0,68.0,80.33333333333333,68.0,73.33333333333333,71.33333333333333,70.66666666666667,65.66666666666667,52.333333333333336,71.66666666666667,54.666666666666664,58.0,81.0,66.0,73.0,59.333333333333336,68.0,56.0,78.0,73.33333333333333,52.333333333333336,54.333333333333336,57.333333333333336,61.333333333333336,54.333333333333336,51.333333333333336,62.333333333333336,59.0,60.333333333333336,70.0,56.333333333333336,74.0,91.66666666666667,70.66666666666667,80.33333333333333,80.33333333333333,67.66666666666667,73.33333333333333,73.33333333333333,88.33333333333333,67.66666666666667,46.0,64.66666666666667,67.0,92.66666666666667,48.333333333333336,45.333333333333336,52.666666666666664,67.66666666666667,72.0,93.0,49.333333333333336,54.666666666666664,56.333333333333336,61.0,66.66666666666667,23.0,51.666666666666664,56.0,87.66666666666667,69.66666666666667,64.0,91.66666666666667,83.0,86.66666666666667,68.66666666666667,60.333333333333336,53.666666666666664,94.0,98.66666666666667,67.33333333333333,51.666666666666664,50.666666666666664,67.0,68.0,82.66666666666667,69.66666666666667,78.66666666666667,48.0,65.0,53.333333333333336,69.33333333333333,65.33333333333333,87.33333333333333,74.66666666666667,67.33333333333333,68.66666666666667,69.33333333333333,76.66666666666667,53.0,78.0,61.333333333333336,62.666666666666664,57.0,65.33333333333333,76.0,76.0,51.666666666666664,88.66666666666667,63.666666666666664,86.0,66.33333333333333,38.666666666666664,59.0,85.0,89.0,82.0,74.33333333333333,81.33333333333333,57.666666666666664,46.666666666666664,43.666666666666664,75.33333333333333,58.666666666666664,43.0,48.0,48.666666666666664,61.0,85.0,75.0,58.666666666666664,75.0,52.333333333333336,75.0,71.66666666666667,67.0,85.66666666666667,69.33333333333333,68.33333333333333,77.0,55.333333333333336,55.0,70.0,74.33333333333333,81.66666666666667,60.666666666666664,66.0,58.333333333333336,49.666666666666664,74.0,63.666666666666664,87.0,83.66666666666667,64.66666666666667,69.66666666666667,83.33333333333333,70.0,61.0,69.33333333333333,76.33333333333333,76.66666666666667,78.0,54.666666666666664,39.333333333333336,47.0,82.33333333333333,89.0,69.0,50.666666666666664,62.333333333333336,58.333333333333336,60.666666666666664,51.0,64.66666666666667,56.0,57.666666666666664,75.66666666666667,86.33333333333333,87.0,56.0,74.66666666666667,68.33333333333333,70.0,60.333333333333336,69.33333333333333,49.0,77.33333333333333,39.666666666666664,93.66666666666667,84.0,54.666666666666664,48.0,74.66666666666667,50.333333333333336,54.666666666666664,81.33333333333333,87.33333333333333,70.0,82.33333333333333,57.333333333333336,64.33333333333333,48.333333333333336,61.666666666666664,47.666666666666664,79.0,30.666666666666668,61.333333333333336,86.0,80.66666666666667,52.0,68.0,46.666666666666664,100.0,92.66666666666667,68.66666666666667,68.0,71.0,66.0,57.333333333333336,44.333333333333336,70.33333333333333,60.333333333333336,68.33333333333333,73.0,91.66666666666667,63.666666666666664,59.0,83.66666666666667,71.33333333333333,70.0,70.33333333333333,61.333333333333336,81.33333333333333,50.333333333333336,79.33333333333333,54.666666666666664,63.666666666666664,84.0,75.66666666666667,62.333333333333336,66.0,62.0,73.0,60.666666666666664,61.666666666666664,48.0,79.0,83.33333333333333,54.0,77.33333333333333,80.66666666666667,62.666666666666664,57.333333333333336],\"xaxis\":\"x2\",\"yaxis\":\"y2\",\"type\":\"box\"}],                        {\"template\":{\"data\":{\"histogram2dcontour\":[{\"type\":\"histogram2dcontour\",\"colorbar\":{\"outlinewidth\":0,\"ticks\":\"\"},\"colorscale\":[[0.0,\"#0d0887\"],[0.1111111111111111,\"#46039f\"],[0.2222222222222222,\"#7201a8\"],[0.3333333333333333,\"#9c179e\"],[0.4444444444444444,\"#bd3786\"],[0.5555555555555556,\"#d8576b\"],[0.6666666666666666,\"#ed7953\"],[0.7777777777777778,\"#fb9f3a\"],[0.8888888888888888,\"#fdca26\"],[1.0,\"#f0f921\"]]}],\"choropleth\":[{\"type\":\"choropleth\",\"colorbar\":{\"outlinewidth\":0,\"ticks\":\"\"}}],\"histogram2d\":[{\"type\":\"histogram2d\",\"colorbar\":{\"outlinewidth\":0,\"ticks\":\"\"},\"colorscale\":[[0.0,\"#0d0887\"],[0.1111111111111111,\"#46039f\"],[0.2222222222222222,\"#7201a8\"],[0.3333333333333333,\"#9c179e\"],[0.4444444444444444,\"#bd3786\"],[0.5555555555555556,\"#d8576b\"],[0.6666666666666666,\"#ed7953\"],[0.7777777777777778,\"#fb9f3a\"],[0.8888888888888888,\"#fdca26\"],[1.0,\"#f0f921\"]]}],\"heatmap\":[{\"type\":\"heatmap\",\"colorbar\":{\"outlinewidth\":0,\"ticks\":\"\"},\"colorscale\":[[0.0,\"#0d0887\"],[0.1111111111111111,\"#46039f\"],[0.2222222222222222,\"#7201a8\"],[0.3333333333333333,\"#9c179e\"],[0.4444444444444444,\"#bd3786\"],[0.5555555555555556,\"#d8576b\"],[0.6666666666666666,\"#ed7953\"],[0.7777777777777778,\"#fb9f3a\"],[0.8888888888888888,\"#fdca26\"],[1.0,\"#f0f921\"]]}],\"heatmapgl\":[{\"type\":\"heatmapgl\",\"colorbar\":{\"outlinewidth\":0,\"ticks\":\"\"},\"colorscale\":[[0.0,\"#0d0887\"],[0.1111111111111111,\"#46039f\"],[0.2222222222222222,\"#7201a8\"],[0.3333333333333333,\"#9c179e\"],[0.4444444444444444,\"#bd3786\"],[0.5555555555555556,\"#d8576b\"],[0.6666666666666666,\"#ed7953\"],[0.7777777777777778,\"#fb9f3a\"],[0.8888888888888888,\"#fdca26\"],[1.0,\"#f0f921\"]]}],\"contourcarpet\":[{\"type\":\"contourcarpet\",\"colorbar\":{\"outlinewidth\":0,\"ticks\":\"\"}}],\"contour\":[{\"type\":\"contour\",\"colorbar\":{\"outlinewidth\":0,\"ticks\":\"\"},\"colorscale\":[[0.0,\"#0d0887\"],[0.1111111111111111,\"#46039f\"],[0.2222222222222222,\"#7201a8\"],[0.3333333333333333,\"#9c179e\"],[0.4444444444444444,\"#bd3786\"],[0.5555555555555556,\"#d8576b\"],[0.6666666666666666,\"#ed7953\"],[0.7777777777777778,\"#fb9f3a\"],[0.8888888888888888,\"#fdca26\"],[1.0,\"#f0f921\"]]}],\"surface\":[{\"type\":\"surface\",\"colorbar\":{\"outlinewidth\":0,\"ticks\":\"\"},\"colorscale\":[[0.0,\"#0d0887\"],[0.1111111111111111,\"#46039f\"],[0.2222222222222222,\"#7201a8\"],[0.3333333333333333,\"#9c179e\"],[0.4444444444444444,\"#bd3786\"],[0.5555555555555556,\"#d8576b\"],[0.6666666666666666,\"#ed7953\"],[0.7777777777777778,\"#fb9f3a\"],[0.8888888888888888,\"#fdca26\"],[1.0,\"#f0f921\"]]}],\"mesh3d\":[{\"type\":\"mesh3d\",\"colorbar\":{\"outlinewidth\":0,\"ticks\":\"\"}}],\"scatter\":[{\"fillpattern\":{\"fillmode\":\"overlay\",\"size\":10,\"solidity\":0.2},\"type\":\"scatter\"}],\"parcoords\":[{\"type\":\"parcoords\",\"line\":{\"colorbar\":{\"outlinewidth\":0,\"ticks\":\"\"}}}],\"scatterpolargl\":[{\"type\":\"scatterpolargl\",\"marker\":{\"colorbar\":{\"outlinewidth\":0,\"ticks\":\"\"}}}],\"bar\":[{\"error_x\":{\"color\":\"#2a3f5f\"},\"error_y\":{\"color\":\"#2a3f5f\"},\"marker\":{\"line\":{\"color\":\"#E5ECF6\",\"width\":0.5},\"pattern\":{\"fillmode\":\"overlay\",\"size\":10,\"solidity\":0.2}},\"type\":\"bar\"}],\"scattergeo\":[{\"type\":\"scattergeo\",\"marker\":{\"colorbar\":{\"outlinewidth\":0,\"ticks\":\"\"}}}],\"scatterpolar\":[{\"type\":\"scatterpolar\",\"marker\":{\"colorbar\":{\"outlinewidth\":0,\"ticks\":\"\"}}}],\"histogram\":[{\"marker\":{\"pattern\":{\"fillmode\":\"overlay\",\"size\":10,\"solidity\":0.2}},\"type\":\"histogram\"}],\"scattergl\":[{\"type\":\"scattergl\",\"marker\":{\"colorbar\":{\"outlinewidth\":0,\"ticks\":\"\"}}}],\"scatter3d\":[{\"type\":\"scatter3d\",\"line\":{\"colorbar\":{\"outlinewidth\":0,\"ticks\":\"\"}},\"marker\":{\"colorbar\":{\"outlinewidth\":0,\"ticks\":\"\"}}}],\"scattermapbox\":[{\"type\":\"scattermapbox\",\"marker\":{\"colorbar\":{\"outlinewidth\":0,\"ticks\":\"\"}}}],\"scatterternary\":[{\"type\":\"scatterternary\",\"marker\":{\"colorbar\":{\"outlinewidth\":0,\"ticks\":\"\"}}}],\"scattercarpet\":[{\"type\":\"scattercarpet\",\"marker\":{\"colorbar\":{\"outlinewidth\":0,\"ticks\":\"\"}}}],\"carpet\":[{\"aaxis\":{\"endlinecolor\":\"#2a3f5f\",\"gridcolor\":\"white\",\"linecolor\":\"white\",\"minorgridcolor\":\"white\",\"startlinecolor\":\"#2a3f5f\"},\"baxis\":{\"endlinecolor\":\"#2a3f5f\",\"gridcolor\":\"white\",\"linecolor\":\"white\",\"minorgridcolor\":\"white\",\"startlinecolor\":\"#2a3f5f\"},\"type\":\"carpet\"}],\"table\":[{\"cells\":{\"fill\":{\"color\":\"#EBF0F8\"},\"line\":{\"color\":\"white\"}},\"header\":{\"fill\":{\"color\":\"#C8D4E3\"},\"line\":{\"color\":\"white\"}},\"type\":\"table\"}],\"barpolar\":[{\"marker\":{\"line\":{\"color\":\"#E5ECF6\",\"width\":0.5},\"pattern\":{\"fillmode\":\"overlay\",\"size\":10,\"solidity\":0.2}},\"type\":\"barpolar\"}],\"pie\":[{\"automargin\":true,\"type\":\"pie\"}]},\"layout\":{\"autotypenumbers\":\"strict\",\"colorway\":[\"#636efa\",\"#EF553B\",\"#00cc96\",\"#ab63fa\",\"#FFA15A\",\"#19d3f3\",\"#FF6692\",\"#B6E880\",\"#FF97FF\",\"#FECB52\"],\"font\":{\"color\":\"#2a3f5f\"},\"hovermode\":\"closest\",\"hoverlabel\":{\"align\":\"left\"},\"paper_bgcolor\":\"white\",\"plot_bgcolor\":\"#E5ECF6\",\"polar\":{\"bgcolor\":\"#E5ECF6\",\"angularaxis\":{\"gridcolor\":\"white\",\"linecolor\":\"white\",\"ticks\":\"\"},\"radialaxis\":{\"gridcolor\":\"white\",\"linecolor\":\"white\",\"ticks\":\"\"}},\"ternary\":{\"bgcolor\":\"#E5ECF6\",\"aaxis\":{\"gridcolor\":\"white\",\"linecolor\":\"white\",\"ticks\":\"\"},\"baxis\":{\"gridcolor\":\"white\",\"linecolor\":\"white\",\"ticks\":\"\"},\"caxis\":{\"gridcolor\":\"white\",\"linecolor\":\"white\",\"ticks\":\"\"}},\"coloraxis\":{\"colorbar\":{\"outlinewidth\":0,\"ticks\":\"\"}},\"colorscale\":{\"sequential\":[[0.0,\"#0d0887\"],[0.1111111111111111,\"#46039f\"],[0.2222222222222222,\"#7201a8\"],[0.3333333333333333,\"#9c179e\"],[0.4444444444444444,\"#bd3786\"],[0.5555555555555556,\"#d8576b\"],[0.6666666666666666,\"#ed7953\"],[0.7777777777777778,\"#fb9f3a\"],[0.8888888888888888,\"#fdca26\"],[1.0,\"#f0f921\"]],\"sequentialminus\":[[0.0,\"#0d0887\"],[0.1111111111111111,\"#46039f\"],[0.2222222222222222,\"#7201a8\"],[0.3333333333333333,\"#9c179e\"],[0.4444444444444444,\"#bd3786\"],[0.5555555555555556,\"#d8576b\"],[0.6666666666666666,\"#ed7953\"],[0.7777777777777778,\"#fb9f3a\"],[0.8888888888888888,\"#fdca26\"],[1.0,\"#f0f921\"]],\"diverging\":[[0,\"#8e0152\"],[0.1,\"#c51b7d\"],[0.2,\"#de77ae\"],[0.3,\"#f1b6da\"],[0.4,\"#fde0ef\"],[0.5,\"#f7f7f7\"],[0.6,\"#e6f5d0\"],[0.7,\"#b8e186\"],[0.8,\"#7fbc41\"],[0.9,\"#4d9221\"],[1,\"#276419\"]]},\"xaxis\":{\"gridcolor\":\"white\",\"linecolor\":\"white\",\"ticks\":\"\",\"title\":{\"standoff\":15},\"zerolinecolor\":\"white\",\"automargin\":true,\"zerolinewidth\":2},\"yaxis\":{\"gridcolor\":\"white\",\"linecolor\":\"white\",\"ticks\":\"\",\"title\":{\"standoff\":15},\"zerolinecolor\":\"white\",\"automargin\":true,\"zerolinewidth\":2},\"scene\":{\"xaxis\":{\"backgroundcolor\":\"#E5ECF6\",\"gridcolor\":\"white\",\"linecolor\":\"white\",\"showbackground\":true,\"ticks\":\"\",\"zerolinecolor\":\"white\",\"gridwidth\":2},\"yaxis\":{\"backgroundcolor\":\"#E5ECF6\",\"gridcolor\":\"white\",\"linecolor\":\"white\",\"showbackground\":true,\"ticks\":\"\",\"zerolinecolor\":\"white\",\"gridwidth\":2},\"zaxis\":{\"backgroundcolor\":\"#E5ECF6\",\"gridcolor\":\"white\",\"linecolor\":\"white\",\"showbackground\":true,\"ticks\":\"\",\"zerolinecolor\":\"white\",\"gridwidth\":2}},\"shapedefaults\":{\"line\":{\"color\":\"#2a3f5f\"}},\"annotationdefaults\":{\"arrowcolor\":\"#2a3f5f\",\"arrowhead\":0,\"arrowwidth\":1},\"geo\":{\"bgcolor\":\"white\",\"landcolor\":\"#E5ECF6\",\"subunitcolor\":\"white\",\"showland\":true,\"showlakes\":true,\"lakecolor\":\"white\"},\"title\":{\"x\":0.05},\"mapbox\":{\"style\":\"light\"}}},\"xaxis\":{\"anchor\":\"y\",\"domain\":[0.0,1.0],\"title\":{\"text\":\"average\"}},\"yaxis\":{\"anchor\":\"x\",\"domain\":[0.0,0.7326],\"title\":{\"text\":\"count\"}},\"xaxis2\":{\"anchor\":\"y2\",\"domain\":[0.0,1.0],\"matches\":\"x\",\"showticklabels\":false,\"showgrid\":true},\"yaxis2\":{\"anchor\":\"x2\",\"domain\":[0.7426,1.0],\"matches\":\"y2\",\"showticklabels\":false,\"showline\":false,\"ticks\":\"\",\"showgrid\":false},\"legend\":{\"title\":{\"text\":\"gender\"},\"tracegroupgap\":0},\"title\":{\"text\":\"Average Distribution by Gender\"},\"barmode\":\"relative\"},                        {\"responsive\": true}                    ).then(function(){\n                            \nvar gd = document.getElementById('326a7e1f-bdd2-4258-b7d1-d2e67ec8426e');\nvar x = new MutationObserver(function (mutations, observer) {{\n        var display = window.getComputedStyle(gd).display;\n        if (!display || display === 'none') {{\n            console.log([gd, 'removed!']);\n            Plotly.purge(gd);\n            observer.disconnect();\n        }}\n}});\n\n// Listen for the removal of the full notebook cells\nvar notebookContainer = gd.closest('#notebook-container');\nif (notebookContainer) {{\n    x.observe(notebookContainer, {childList: true});\n}}\n\n// Listen for the clearing of the current output cell\nvar outputEl = gd.closest('.output');\nif (outputEl) {{\n    x.observe(outputEl, {childList: true});\n}}\n\n                        })                };                });            </script>        </div>"
     },
     "metadata": {},
     "output_type": "display_data"
    },
    {
     "data": {
      "application/vnd.plotly.v1+json": {
       "data": [
        {
         "alignmentgroup": "True",
         "bingroup": "x",
         "hovertemplate": "average=%{x}<br>count=%{y}<extra></extra>",
         "legendgroup": "",
         "marker": {
          "color": "blue",
          "pattern": {
           "shape": ""
          }
         },
         "name": "",
         "nbinsx": 30,
         "offsetgroup": "",
         "orientation": "v",
         "showlegend": false,
         "x": [
          72.66666666666667,
          82.33333333333333,
          92.66666666666667,
          49.333333333333336,
          76.33333333333333,
          77.33333333333333,
          91.66666666666667,
          40.666666666666664,
          65.0,
          49.333333333333336,
          54.666666666666664,
          45.0,
          73.0,
          73.33333333333333,
          53.666666666666664,
          74.0,
          87.66666666666667,
          26.0,
          44.666666666666664,
          57.666666666666664,
          66.0,
          70.0,
          50.333333333333336,
          71.66666666666667,
          75.0,
          73.0,
          59.333333333333336,
          70.33333333333333,
          68.33333333333333,
          69.0,
          72.33333333333333,
          63.0,
          64.33333333333333,
          40.0,
          88.66666666666667,
          80.33333333333333,
          79.33333333333333,
          57.666666666666664,
          84.33333333333333,
          56.666666666666664,
          56.666666666666664,
          66.33333333333333,
          58.666666666666664,
          63.333333333333336,
          53.333333333333336,
          58.666666666666664,
          60.666666666666664,
          71.0,
          69.0,
          82.66666666666667,
          52.0,
          71.33333333333333,
          46.333333333333336,
          80.33333333333333,
          80.66666666666667,
          39.0,
          84.33333333333333,
          52.0,
          58.333333333333336,
          9.0,
          75.0,
          37.333333333333336,
          59.333333333333336,
          73.33333333333333,
          58.666666666666664,
          64.0,
          39.666666666666664,
          68.66666666666667,
          58.333333333333336,
          53.333333333333336,
          64.66666666666667,
          60.333333333333336,
          46.666666666666664,
          58.0,
          46.333333333333336,
          41.0,
          26.0,
          79.66666666666667,
          69.0,
          66.0,
          48.666666666666664,
          46.333333333333336,
          50.333333333333336,
          66.33333333333333,
          38.333333333333336,
          78.33333333333333,
          82.33333333333333,
          72.0,
          65.0,
          80.33333333333333,
          70.33333333333333,
          32.333333333333336,
          73.66666666666667,
          46.0,
          85.66666666666667,
          80.33333333333333,
          64.33333333333333,
          68.33333333333333,
          62.333333333333336,
          64.66666666666667,
          71.0,
          72.0,
          88.33333333333333,
          50.333333333333336,
          91.33333333333333,
          65.66666666666667,
          95.66666666666667,
          64.33333333333333,
          66.0,
          68.66666666666667,
          88.0,
          55.333333333333336,
          51.333333333333336,
          54.333333333333336,
          99.66666666666667,
          78.33333333333333,
          80.66666666666667,
          79.66666666666667,
          58.333333333333336,
          63.0,
          86.66666666666667,
          90.66666666666667,
          91.33333333333333,
          58.666666666666664,
          78.66666666666667,
          89.33333333333333,
          69.0,
          72.0,
          79.33333333333333,
          50.333333333333336,
          85.0,
          43.333333333333336,
          77.0,
          80.0,
          76.0,
          53.666666666666664,
          48.666666666666664,
          60.333333333333336,
          64.0,
          67.0,
          73.0,
          61.666666666666664,
          50.333333333333336,
          49.0,
          79.66666666666667,
          31.333333333333332,
          82.33333333333333,
          69.0,
          74.66666666666667,
          97.66666666666667,
          66.0,
          70.66666666666667,
          65.0,
          50.0,
          63.333333333333336,
          82.33333333333333,
          72.66666666666667,
          60.0,
          78.0,
          64.0,
          78.0,
          82.66666666666667,
          51.333333333333336,
          51.333333333333336,
          88.0,
          98.66666666666667,
          51.666666666666664,
          70.66666666666667,
          76.33333333333333,
          70.66666666666667,
          73.0,
          86.66666666666667,
          82.0,
          66.66666666666667,
          49.333333333333336,
          86.33333333333333,
          52.666666666666664,
          75.0,
          61.333333333333336,
          99.0,
          68.33333333333333,
          58.666666666666664,
          49.0,
          68.0,
          48.666666666666664,
          65.66666666666667,
          73.66666666666667,
          65.33333333333333,
          48.333333333333336,
          84.0,
          66.66666666666667,
          79.33333333333333,
          64.0,
          67.0,
          79.33333333333333,
          56.0,
          64.33333333333333,
          54.0,
          51.0,
          77.66666666666667,
          79.0,
          74.33333333333333,
          71.66666666666667,
          64.66666666666667,
          47.333333333333336,
          74.33333333333333,
          68.66666666666667,
          79.0,
          77.0,
          61.666666666666664,
          79.33333333333333,
          30.0,
          54.666666666666664,
          55.666666666666664,
          86.33333333333333,
          80.66666666666667,
          85.66666666666667,
          38.333333333333336,
          71.0,
          57.666666666666664,
          66.0,
          81.66666666666667,
          60.666666666666664,
          80.33333333333333,
          63.666666666666664,
          51.666666666666664,
          71.66666666666667,
          53.666666666666664,
          68.0,
          92.33333333333333,
          68.66666666666667,
          43.666666666666664,
          78.66666666666667,
          85.66666666666667,
          83.0,
          77.33333333333333,
          65.33333333333333,
          66.0,
          52.333333333333336,
          81.33333333333333,
          69.0,
          82.0,
          54.333333333333336,
          51.0,
          72.66666666666667,
          77.33333333333333,
          79.66666666666667,
          65.33333333333333,
          63.666666666666664,
          60.333333333333336,
          48.333333333333336,
          79.0,
          66.66666666666667,
          77.33333333333333,
          52.666666666666664,
          68.33333333333333,
          68.33333333333333,
          77.33333333333333,
          74.33333333333333,
          75.66666666666667,
          73.33333333333333,
          78.66666666666667,
          48.333333333333336,
          94.0,
          72.33333333333333,
          47.333333333333336,
          73.0,
          72.66666666666667,
          91.66666666666667,
          72.33333333333333,
          64.33333333333333,
          49.666666666666664,
          52.666666666666664,
          68.66666666666667,
          83.0,
          78.0,
          90.0,
          65.66666666666667,
          77.0,
          62.0,
          49.0,
          46.333333333333336,
          78.66666666666667,
          75.33333333333333,
          43.0,
          81.66666666666667,
          89.0,
          79.33333333333333,
          79.66666666666667,
          76.66666666666667,
          71.33333333333333,
          76.33333333333333,
          60.0,
          71.0,
          78.33333333333333,
          63.0,
          43.333333333333336,
          71.0,
          45.333333333333336,
          84.0,
          80.0,
          54.0,
          77.33333333333333,
          73.33333333333333,
          77.33333333333333,
          68.33333333333333,
          89.0,
          49.0,
          63.666666666666664,
          52.666666666666664,
          76.33333333333333,
          61.0,
          65.33333333333333,
          68.0,
          66.0,
          67.33333333333333,
          83.33333333333333,
          77.66666666666667,
          67.66666666666667,
          61.333333333333336,
          76.66666666666667,
          80.0,
          77.33333333333333,
          49.666666666666664,
          43.333333333333336,
          88.66666666666667,
          61.333333333333336,
          23.333333333333332,
          78.0,
          49.0,
          64.0,
          39.666666666666664,
          57.0,
          83.0,
          90.33333333333333,
          65.0,
          71.66666666666667,
          47.666666666666664,
          29.666666666666668,
          50.0,
          57.0,
          65.66666666666667,
          73.0,
          68.66666666666667,
          73.0,
          75.66666666666667,
          60.0,
          88.66666666666667,
          71.66666666666667,
          79.0,
          62.0,
          58.333333333333336,
          73.66666666666667,
          53.666666666666664,
          66.66666666666667,
          67.66666666666667,
          61.666666666666664,
          59.0,
          60.666666666666664,
          86.33333333333333,
          59.666666666666664,
          82.33333333333333,
          56.0,
          31.0,
          59.0,
          55.666666666666664,
          60.0,
          62.666666666666664,
          55.333333333333336,
          80.66666666666667,
          77.33333333333333,
          62.666666666666664,
          73.33333333333333,
          91.66666666666667,
          67.33333333333333,
          43.333333333333336,
          84.0,
          93.33333333333333,
          77.0,
          64.0,
          83.0,
          94.0,
          77.0,
          44.0,
          41.333333333333336,
          72.66666666666667,
          69.0,
          67.33333333333333,
          63.333333333333336,
          72.66666666666667,
          66.33333333333333,
          74.0,
          70.0,
          55.666666666666664,
          72.0,
          44.666666666666664,
          60.0,
          89.66666666666667,
          64.66666666666667,
          57.666666666666664,
          60.0,
          46.333333333333336,
          56.333333333333336,
          95.66666666666667,
          58.333333333333336,
          68.0,
          64.33333333333333,
          79.66666666666667,
          55.0,
          85.33333333333333,
          71.66666666666667,
          81.66666666666667,
          65.66666666666667,
          65.66666666666667,
          67.33333333333333,
          75.33333333333333,
          71.0,
          71.33333333333333,
          63.0,
          55.666666666666664,
          89.33333333333333,
          59.666666666666664,
          57.333333333333336,
          74.66666666666667,
          38.0,
          63.666666666666664,
          85.0,
          68.33333333333333,
          59.0,
          61.666666666666664,
          63.0,
          67.66666666666667,
          57.333333333333336,
          52.0,
          68.33333333333333,
          50.333333333333336,
          69.0,
          71.33333333333333,
          59.0,
          86.33333333333333,
          75.66666666666667,
          79.66666666666667,
          67.0,
          77.33333333333333,
          78.0,
          72.66666666666667,
          65.0,
          82.33333333333333,
          45.0,
          75.33333333333333,
          78.0,
          96.33333333333333,
          72.0,
          57.333333333333336,
          58.666666666666664,
          46.666666666666664,
          85.66666666666667,
          51.666666666666664,
          100.0,
          68.33333333333333,
          55.333333333333336,
          51.0,
          72.33333333333333,
          86.0,
          65.0,
          87.33333333333333,
          31.666666666666668,
          68.0,
          83.33333333333333,
          80.33333333333333,
          86.0,
          68.66666666666667,
          79.33333333333333,
          62.333333333333336,
          90.33333333333333,
          76.66666666666667,
          68.0,
          73.33333333333333,
          63.0,
          71.33333333333333,
          70.66666666666667,
          55.666666666666664,
          65.66666666666667,
          52.333333333333336,
          51.666666666666664,
          71.66666666666667,
          54.666666666666664,
          69.66666666666667,
          58.0,
          81.0,
          75.33333333333333,
          66.0,
          85.33333333333333,
          86.33333333333333,
          62.0,
          66.0,
          51.333333333333336,
          71.0,
          67.66666666666667,
          73.0,
          78.33333333333333,
          91.0,
          59.333333333333336,
          92.0,
          51.0,
          81.33333333333333,
          68.0,
          56.0,
          78.0,
          88.33333333333333,
          73.33333333333333,
          52.333333333333336,
          54.333333333333336,
          59.0,
          89.33333333333333,
          82.66666666666667,
          82.33333333333333,
          71.0,
          74.0,
          74.66666666666667,
          57.333333333333336,
          87.0,
          61.333333333333336,
          54.333333333333336,
          51.333333333333336,
          62.333333333333336,
          59.0,
          44.0,
          39.0,
          68.66666666666667,
          69.33333333333333,
          51.333333333333336,
          60.333333333333336,
          87.0,
          70.0,
          77.33333333333333,
          56.333333333333336,
          59.666666666666664,
          74.0,
          91.66666666666667,
          70.66666666666667,
          80.33333333333333,
          79.0,
          88.66666666666667,
          64.33333333333333,
          80.33333333333333,
          96.33333333333333,
          67.66666666666667,
          64.33333333333333,
          73.33333333333333,
          73.33333333333333,
          88.33333333333333,
          46.0,
          67.66666666666667,
          46.0,
          34.666666666666664,
          68.66666666666667,
          64.66666666666667,
          64.33333333333333,
          67.0,
          76.0,
          70.33333333333333,
          92.66666666666667,
          74.33333333333333,
          48.333333333333336,
          45.333333333333336,
          97.33333333333333,
          70.0,
          52.666666666666664,
          67.66666666666667,
          72.0,
          93.0,
          57.0,
          60.0,
          75.33333333333333,
          49.333333333333336,
          54.666666666666664,
          87.0,
          54.0,
          60.666666666666664,
          91.33333333333333,
          78.66666666666667,
          71.33333333333333,
          76.0,
          74.33333333333333,
          72.33333333333333,
          67.0,
          56.333333333333336,
          61.0,
          59.666666666666664,
          56.333333333333336,
          61.0,
          66.66666666666667,
          74.33333333333333,
          97.0,
          69.0,
          23.0,
          51.666666666666664,
          73.0,
          76.0,
          59.0,
          29.333333333333332,
          78.0,
          56.0,
          87.66666666666667,
          69.66666666666667,
          83.66666666666667,
          50.666666666666664,
          62.333333333333336,
          62.0,
          64.0,
          61.0,
          91.66666666666667,
          72.0,
          89.33333333333333,
          66.66666666666667,
          40.0,
          83.0,
          86.66666666666667,
          68.66666666666667,
          50.0,
          60.333333333333336,
          53.666666666666664,
          94.0,
          60.333333333333336,
          98.66666666666667,
          67.33333333333333,
          51.666666666666664,
          50.666666666666664,
          50.0,
          67.0,
          68.0,
          73.66666666666667,
          82.66666666666667,
          82.66666666666667,
          69.66666666666667,
          76.0,
          86.66666666666667,
          78.66666666666667,
          74.33333333333333,
          48.0,
          84.0,
          77.33333333333333,
          77.66666666666667,
          65.0,
          75.66666666666667,
          64.66666666666667,
          64.66666666666667,
          52.666666666666664,
          76.33333333333333,
          53.333333333333336,
          74.66666666666667,
          89.66666666666667,
          69.66666666666667,
          77.0,
          65.33333333333333,
          69.33333333333333,
          65.33333333333333,
          53.666666666666664,
          87.33333333333333,
          74.66666666666667,
          67.33333333333333,
          65.0,
          67.0,
          68.66666666666667,
          56.666666666666664,
          69.0,
          83.0,
          69.33333333333333,
          76.66666666666667,
          70.0,
          53.0,
          74.33333333333333,
          77.66666666666667,
          74.66666666666667,
          60.0,
          75.66666666666667,
          76.0,
          78.0,
          61.333333333333336,
          71.0,
          62.666666666666664,
          57.0,
          37.666666666666664,
          65.33333333333333,
          97.66666666666667,
          76.0,
          76.0,
          51.666666666666664,
          88.66666666666667,
          51.666666666666664,
          75.66666666666667,
          73.66666666666667,
          75.66666666666667,
          56.0,
          84.66666666666667,
          82.33333333333333,
          67.0,
          71.33333333333333,
          63.666666666666664,
          80.66666666666667,
          65.33333333333333,
          86.0,
          64.66666666666667,
          62.0,
          66.33333333333333,
          38.666666666666664,
          59.0,
          85.0,
          53.666666666666664,
          89.0,
          83.33333333333333,
          99.0,
          82.0,
          68.0,
          85.66666666666667,
          74.33333333333333,
          97.0,
          75.33333333333333,
          81.33333333333333,
          68.0,
          57.666666666666664,
          84.0,
          46.666666666666664,
          43.666666666666664,
          75.33333333333333,
          72.33333333333333,
          58.666666666666664,
          83.0,
          43.0,
          75.0,
          48.0,
          90.0,
          48.666666666666664,
          56.0,
          61.0,
          85.0,
          64.0,
          75.0,
          58.666666666666664,
          75.0,
          50.0,
          82.33333333333333,
          68.0,
          52.333333333333336,
          75.0,
          71.66666666666667,
          67.0,
          56.333333333333336,
          85.66666666666667,
          69.33333333333333,
          68.33333333333333,
          77.0,
          84.0,
          55.333333333333336,
          90.33333333333333,
          55.0,
          70.0,
          58.666666666666664,
          74.33333333333333,
          63.0,
          53.333333333333336,
          81.66666666666667,
          62.333333333333336,
          60.666666666666664,
          72.66666666666667,
          70.0,
          66.0,
          71.33333333333333,
          58.333333333333336,
          49.666666666666664,
          74.0,
          63.666666666666664,
          73.0,
          63.666666666666664,
          54.0,
          69.33333333333333,
          40.666666666666664,
          77.66666666666667,
          87.0,
          53.0,
          83.66666666666667,
          81.0,
          57.666666666666664,
          83.66666666666667,
          42.333333333333336,
          76.0,
          29.666666666666668,
          64.66666666666667,
          59.333333333333336,
          56.666666666666664,
          65.33333333333333,
          69.66666666666667,
          83.33333333333333,
          48.333333333333336,
          66.0,
          70.0,
          78.33333333333333,
          61.0,
          54.666666666666664,
          69.33333333333333,
          76.33333333333333,
          92.0,
          84.66666666666667,
          75.66666666666667,
          76.66666666666667,
          71.0,
          42.0,
          78.0,
          54.666666666666664,
          39.333333333333336,
          47.0,
          61.666666666666664,
          82.33333333333333,
          78.33333333333333,
          89.0,
          56.0,
          69.0,
          66.66666666666667,
          85.33333333333333,
          89.0,
          87.0,
          50.666666666666664,
          80.0,
          52.666666666666664,
          62.333333333333336,
          64.66666666666667,
          70.0,
          78.66666666666667,
          58.333333333333336,
          59.333333333333336,
          83.0,
          60.666666666666664,
          82.66666666666667,
          51.0,
          66.0,
          64.66666666666667,
          78.66666666666667,
          56.0,
          72.0,
          45.666666666666664,
          57.666666666666664,
          34.333333333333336,
          75.66666666666667,
          56.333333333333336,
          86.33333333333333,
          87.0,
          56.0,
          66.33333333333333,
          74.66666666666667,
          68.33333333333333,
          64.0,
          88.33333333333333,
          70.0,
          60.333333333333336,
          96.66666666666667,
          69.33333333333333,
          75.0,
          49.0,
          77.33333333333333,
          56.0,
          84.66666666666667,
          39.666666666666664,
          74.0,
          93.66666666666667,
          84.0,
          54.666666666666664,
          48.0,
          74.66666666666667,
          50.333333333333336,
          54.666666666666664,
          72.66666666666667,
          81.33333333333333,
          87.33333333333333,
          55.333333333333336,
          70.0,
          82.33333333333333,
          57.333333333333336,
          70.33333333333333,
          71.33333333333333,
          64.33333333333333,
          70.33333333333333,
          69.33333333333333,
          48.333333333333336,
          52.0,
          72.66666666666667,
          96.0,
          61.666666666666664,
          69.33333333333333,
          47.666666666666664,
          87.33333333333333,
          87.33333333333333,
          63.333333333333336,
          79.0,
          63.333333333333336,
          34.666666666666664,
          30.666666666666668,
          73.33333333333333,
          61.333333333333336,
          75.0,
          86.0,
          75.0,
          41.0,
          97.66666666666667,
          78.33333333333333,
          80.66666666666667,
          52.0,
          84.66666666666667,
          71.33333333333333,
          68.0,
          46.666666666666664,
          78.33333333333333,
          59.666666666666664,
          58.333333333333336,
          54.0,
          68.0,
          100.0,
          52.333333333333336,
          71.33333333333333,
          92.66666666666667,
          68.66666666666667,
          44.666666666666664,
          68.0,
          61.333333333333336,
          71.0,
          66.0,
          57.333333333333336,
          65.66666666666667,
          44.333333333333336,
          51.666666666666664,
          70.33333333333333,
          60.333333333333336,
          68.33333333333333,
          73.0,
          91.66666666666667,
          63.666666666666664,
          59.0,
          57.333333333333336,
          83.66666666666667,
          71.33333333333333,
          70.0,
          88.33333333333333,
          70.33333333333333,
          61.333333333333336,
          62.333333333333336,
          57.666666666666664,
          81.33333333333333,
          55.666666666666664,
          50.333333333333336,
          68.33333333333333,
          79.33333333333333,
          78.33333333333333,
          73.33333333333333,
          54.666666666666664,
          66.66666666666667,
          63.666666666666664,
          84.0,
          97.33333333333333,
          55.666666666666664,
          75.66666666666667,
          59.333333333333336,
          51.666666666666664,
          100.0,
          72.0,
          62.333333333333336,
          68.0,
          66.0,
          62.0,
          70.33333333333333,
          79.66666666666667,
          96.33333333333333,
          73.0,
          54.333333333333336,
          58.333333333333336,
          61.333333333333336,
          74.33333333333333,
          60.666666666666664,
          61.666666666666664,
          48.0,
          93.33333333333333,
          18.333333333333332,
          79.0,
          83.33333333333333,
          85.33333333333333,
          77.0,
          54.0,
          50.0,
          77.33333333333333,
          44.666666666666664,
          78.66666666666667,
          80.66666666666667,
          75.0,
          69.0,
          69.33333333333333,
          62.666666666666664,
          94.0,
          57.333333333333336,
          65.0,
          74.33333333333333,
          83.0
         ],
         "xaxis": "x",
         "yaxis": "y",
         "type": "histogram"
        },
        {
         "alignmentgroup": "True",
         "hovertemplate": "average=%{x}<extra></extra>",
         "legendgroup": "",
         "marker": {
          "color": "blue"
         },
         "name": "",
         "notched": true,
         "offsetgroup": "",
         "showlegend": false,
         "x": [
          72.66666666666667,
          82.33333333333333,
          92.66666666666667,
          49.333333333333336,
          76.33333333333333,
          77.33333333333333,
          91.66666666666667,
          40.666666666666664,
          65.0,
          49.333333333333336,
          54.666666666666664,
          45.0,
          73.0,
          73.33333333333333,
          53.666666666666664,
          74.0,
          87.66666666666667,
          26.0,
          44.666666666666664,
          57.666666666666664,
          66.0,
          70.0,
          50.333333333333336,
          71.66666666666667,
          75.0,
          73.0,
          59.333333333333336,
          70.33333333333333,
          68.33333333333333,
          69.0,
          72.33333333333333,
          63.0,
          64.33333333333333,
          40.0,
          88.66666666666667,
          80.33333333333333,
          79.33333333333333,
          57.666666666666664,
          84.33333333333333,
          56.666666666666664,
          56.666666666666664,
          66.33333333333333,
          58.666666666666664,
          63.333333333333336,
          53.333333333333336,
          58.666666666666664,
          60.666666666666664,
          71.0,
          69.0,
          82.66666666666667,
          52.0,
          71.33333333333333,
          46.333333333333336,
          80.33333333333333,
          80.66666666666667,
          39.0,
          84.33333333333333,
          52.0,
          58.333333333333336,
          9.0,
          75.0,
          37.333333333333336,
          59.333333333333336,
          73.33333333333333,
          58.666666666666664,
          64.0,
          39.666666666666664,
          68.66666666666667,
          58.333333333333336,
          53.333333333333336,
          64.66666666666667,
          60.333333333333336,
          46.666666666666664,
          58.0,
          46.333333333333336,
          41.0,
          26.0,
          79.66666666666667,
          69.0,
          66.0,
          48.666666666666664,
          46.333333333333336,
          50.333333333333336,
          66.33333333333333,
          38.333333333333336,
          78.33333333333333,
          82.33333333333333,
          72.0,
          65.0,
          80.33333333333333,
          70.33333333333333,
          32.333333333333336,
          73.66666666666667,
          46.0,
          85.66666666666667,
          80.33333333333333,
          64.33333333333333,
          68.33333333333333,
          62.333333333333336,
          64.66666666666667,
          71.0,
          72.0,
          88.33333333333333,
          50.333333333333336,
          91.33333333333333,
          65.66666666666667,
          95.66666666666667,
          64.33333333333333,
          66.0,
          68.66666666666667,
          88.0,
          55.333333333333336,
          51.333333333333336,
          54.333333333333336,
          99.66666666666667,
          78.33333333333333,
          80.66666666666667,
          79.66666666666667,
          58.333333333333336,
          63.0,
          86.66666666666667,
          90.66666666666667,
          91.33333333333333,
          58.666666666666664,
          78.66666666666667,
          89.33333333333333,
          69.0,
          72.0,
          79.33333333333333,
          50.333333333333336,
          85.0,
          43.333333333333336,
          77.0,
          80.0,
          76.0,
          53.666666666666664,
          48.666666666666664,
          60.333333333333336,
          64.0,
          67.0,
          73.0,
          61.666666666666664,
          50.333333333333336,
          49.0,
          79.66666666666667,
          31.333333333333332,
          82.33333333333333,
          69.0,
          74.66666666666667,
          97.66666666666667,
          66.0,
          70.66666666666667,
          65.0,
          50.0,
          63.333333333333336,
          82.33333333333333,
          72.66666666666667,
          60.0,
          78.0,
          64.0,
          78.0,
          82.66666666666667,
          51.333333333333336,
          51.333333333333336,
          88.0,
          98.66666666666667,
          51.666666666666664,
          70.66666666666667,
          76.33333333333333,
          70.66666666666667,
          73.0,
          86.66666666666667,
          82.0,
          66.66666666666667,
          49.333333333333336,
          86.33333333333333,
          52.666666666666664,
          75.0,
          61.333333333333336,
          99.0,
          68.33333333333333,
          58.666666666666664,
          49.0,
          68.0,
          48.666666666666664,
          65.66666666666667,
          73.66666666666667,
          65.33333333333333,
          48.333333333333336,
          84.0,
          66.66666666666667,
          79.33333333333333,
          64.0,
          67.0,
          79.33333333333333,
          56.0,
          64.33333333333333,
          54.0,
          51.0,
          77.66666666666667,
          79.0,
          74.33333333333333,
          71.66666666666667,
          64.66666666666667,
          47.333333333333336,
          74.33333333333333,
          68.66666666666667,
          79.0,
          77.0,
          61.666666666666664,
          79.33333333333333,
          30.0,
          54.666666666666664,
          55.666666666666664,
          86.33333333333333,
          80.66666666666667,
          85.66666666666667,
          38.333333333333336,
          71.0,
          57.666666666666664,
          66.0,
          81.66666666666667,
          60.666666666666664,
          80.33333333333333,
          63.666666666666664,
          51.666666666666664,
          71.66666666666667,
          53.666666666666664,
          68.0,
          92.33333333333333,
          68.66666666666667,
          43.666666666666664,
          78.66666666666667,
          85.66666666666667,
          83.0,
          77.33333333333333,
          65.33333333333333,
          66.0,
          52.333333333333336,
          81.33333333333333,
          69.0,
          82.0,
          54.333333333333336,
          51.0,
          72.66666666666667,
          77.33333333333333,
          79.66666666666667,
          65.33333333333333,
          63.666666666666664,
          60.333333333333336,
          48.333333333333336,
          79.0,
          66.66666666666667,
          77.33333333333333,
          52.666666666666664,
          68.33333333333333,
          68.33333333333333,
          77.33333333333333,
          74.33333333333333,
          75.66666666666667,
          73.33333333333333,
          78.66666666666667,
          48.333333333333336,
          94.0,
          72.33333333333333,
          47.333333333333336,
          73.0,
          72.66666666666667,
          91.66666666666667,
          72.33333333333333,
          64.33333333333333,
          49.666666666666664,
          52.666666666666664,
          68.66666666666667,
          83.0,
          78.0,
          90.0,
          65.66666666666667,
          77.0,
          62.0,
          49.0,
          46.333333333333336,
          78.66666666666667,
          75.33333333333333,
          43.0,
          81.66666666666667,
          89.0,
          79.33333333333333,
          79.66666666666667,
          76.66666666666667,
          71.33333333333333,
          76.33333333333333,
          60.0,
          71.0,
          78.33333333333333,
          63.0,
          43.333333333333336,
          71.0,
          45.333333333333336,
          84.0,
          80.0,
          54.0,
          77.33333333333333,
          73.33333333333333,
          77.33333333333333,
          68.33333333333333,
          89.0,
          49.0,
          63.666666666666664,
          52.666666666666664,
          76.33333333333333,
          61.0,
          65.33333333333333,
          68.0,
          66.0,
          67.33333333333333,
          83.33333333333333,
          77.66666666666667,
          67.66666666666667,
          61.333333333333336,
          76.66666666666667,
          80.0,
          77.33333333333333,
          49.666666666666664,
          43.333333333333336,
          88.66666666666667,
          61.333333333333336,
          23.333333333333332,
          78.0,
          49.0,
          64.0,
          39.666666666666664,
          57.0,
          83.0,
          90.33333333333333,
          65.0,
          71.66666666666667,
          47.666666666666664,
          29.666666666666668,
          50.0,
          57.0,
          65.66666666666667,
          73.0,
          68.66666666666667,
          73.0,
          75.66666666666667,
          60.0,
          88.66666666666667,
          71.66666666666667,
          79.0,
          62.0,
          58.333333333333336,
          73.66666666666667,
          53.666666666666664,
          66.66666666666667,
          67.66666666666667,
          61.666666666666664,
          59.0,
          60.666666666666664,
          86.33333333333333,
          59.666666666666664,
          82.33333333333333,
          56.0,
          31.0,
          59.0,
          55.666666666666664,
          60.0,
          62.666666666666664,
          55.333333333333336,
          80.66666666666667,
          77.33333333333333,
          62.666666666666664,
          73.33333333333333,
          91.66666666666667,
          67.33333333333333,
          43.333333333333336,
          84.0,
          93.33333333333333,
          77.0,
          64.0,
          83.0,
          94.0,
          77.0,
          44.0,
          41.333333333333336,
          72.66666666666667,
          69.0,
          67.33333333333333,
          63.333333333333336,
          72.66666666666667,
          66.33333333333333,
          74.0,
          70.0,
          55.666666666666664,
          72.0,
          44.666666666666664,
          60.0,
          89.66666666666667,
          64.66666666666667,
          57.666666666666664,
          60.0,
          46.333333333333336,
          56.333333333333336,
          95.66666666666667,
          58.333333333333336,
          68.0,
          64.33333333333333,
          79.66666666666667,
          55.0,
          85.33333333333333,
          71.66666666666667,
          81.66666666666667,
          65.66666666666667,
          65.66666666666667,
          67.33333333333333,
          75.33333333333333,
          71.0,
          71.33333333333333,
          63.0,
          55.666666666666664,
          89.33333333333333,
          59.666666666666664,
          57.333333333333336,
          74.66666666666667,
          38.0,
          63.666666666666664,
          85.0,
          68.33333333333333,
          59.0,
          61.666666666666664,
          63.0,
          67.66666666666667,
          57.333333333333336,
          52.0,
          68.33333333333333,
          50.333333333333336,
          69.0,
          71.33333333333333,
          59.0,
          86.33333333333333,
          75.66666666666667,
          79.66666666666667,
          67.0,
          77.33333333333333,
          78.0,
          72.66666666666667,
          65.0,
          82.33333333333333,
          45.0,
          75.33333333333333,
          78.0,
          96.33333333333333,
          72.0,
          57.333333333333336,
          58.666666666666664,
          46.666666666666664,
          85.66666666666667,
          51.666666666666664,
          100.0,
          68.33333333333333,
          55.333333333333336,
          51.0,
          72.33333333333333,
          86.0,
          65.0,
          87.33333333333333,
          31.666666666666668,
          68.0,
          83.33333333333333,
          80.33333333333333,
          86.0,
          68.66666666666667,
          79.33333333333333,
          62.333333333333336,
          90.33333333333333,
          76.66666666666667,
          68.0,
          73.33333333333333,
          63.0,
          71.33333333333333,
          70.66666666666667,
          55.666666666666664,
          65.66666666666667,
          52.333333333333336,
          51.666666666666664,
          71.66666666666667,
          54.666666666666664,
          69.66666666666667,
          58.0,
          81.0,
          75.33333333333333,
          66.0,
          85.33333333333333,
          86.33333333333333,
          62.0,
          66.0,
          51.333333333333336,
          71.0,
          67.66666666666667,
          73.0,
          78.33333333333333,
          91.0,
          59.333333333333336,
          92.0,
          51.0,
          81.33333333333333,
          68.0,
          56.0,
          78.0,
          88.33333333333333,
          73.33333333333333,
          52.333333333333336,
          54.333333333333336,
          59.0,
          89.33333333333333,
          82.66666666666667,
          82.33333333333333,
          71.0,
          74.0,
          74.66666666666667,
          57.333333333333336,
          87.0,
          61.333333333333336,
          54.333333333333336,
          51.333333333333336,
          62.333333333333336,
          59.0,
          44.0,
          39.0,
          68.66666666666667,
          69.33333333333333,
          51.333333333333336,
          60.333333333333336,
          87.0,
          70.0,
          77.33333333333333,
          56.333333333333336,
          59.666666666666664,
          74.0,
          91.66666666666667,
          70.66666666666667,
          80.33333333333333,
          79.0,
          88.66666666666667,
          64.33333333333333,
          80.33333333333333,
          96.33333333333333,
          67.66666666666667,
          64.33333333333333,
          73.33333333333333,
          73.33333333333333,
          88.33333333333333,
          46.0,
          67.66666666666667,
          46.0,
          34.666666666666664,
          68.66666666666667,
          64.66666666666667,
          64.33333333333333,
          67.0,
          76.0,
          70.33333333333333,
          92.66666666666667,
          74.33333333333333,
          48.333333333333336,
          45.333333333333336,
          97.33333333333333,
          70.0,
          52.666666666666664,
          67.66666666666667,
          72.0,
          93.0,
          57.0,
          60.0,
          75.33333333333333,
          49.333333333333336,
          54.666666666666664,
          87.0,
          54.0,
          60.666666666666664,
          91.33333333333333,
          78.66666666666667,
          71.33333333333333,
          76.0,
          74.33333333333333,
          72.33333333333333,
          67.0,
          56.333333333333336,
          61.0,
          59.666666666666664,
          56.333333333333336,
          61.0,
          66.66666666666667,
          74.33333333333333,
          97.0,
          69.0,
          23.0,
          51.666666666666664,
          73.0,
          76.0,
          59.0,
          29.333333333333332,
          78.0,
          56.0,
          87.66666666666667,
          69.66666666666667,
          83.66666666666667,
          50.666666666666664,
          62.333333333333336,
          62.0,
          64.0,
          61.0,
          91.66666666666667,
          72.0,
          89.33333333333333,
          66.66666666666667,
          40.0,
          83.0,
          86.66666666666667,
          68.66666666666667,
          50.0,
          60.333333333333336,
          53.666666666666664,
          94.0,
          60.333333333333336,
          98.66666666666667,
          67.33333333333333,
          51.666666666666664,
          50.666666666666664,
          50.0,
          67.0,
          68.0,
          73.66666666666667,
          82.66666666666667,
          82.66666666666667,
          69.66666666666667,
          76.0,
          86.66666666666667,
          78.66666666666667,
          74.33333333333333,
          48.0,
          84.0,
          77.33333333333333,
          77.66666666666667,
          65.0,
          75.66666666666667,
          64.66666666666667,
          64.66666666666667,
          52.666666666666664,
          76.33333333333333,
          53.333333333333336,
          74.66666666666667,
          89.66666666666667,
          69.66666666666667,
          77.0,
          65.33333333333333,
          69.33333333333333,
          65.33333333333333,
          53.666666666666664,
          87.33333333333333,
          74.66666666666667,
          67.33333333333333,
          65.0,
          67.0,
          68.66666666666667,
          56.666666666666664,
          69.0,
          83.0,
          69.33333333333333,
          76.66666666666667,
          70.0,
          53.0,
          74.33333333333333,
          77.66666666666667,
          74.66666666666667,
          60.0,
          75.66666666666667,
          76.0,
          78.0,
          61.333333333333336,
          71.0,
          62.666666666666664,
          57.0,
          37.666666666666664,
          65.33333333333333,
          97.66666666666667,
          76.0,
          76.0,
          51.666666666666664,
          88.66666666666667,
          51.666666666666664,
          75.66666666666667,
          73.66666666666667,
          75.66666666666667,
          56.0,
          84.66666666666667,
          82.33333333333333,
          67.0,
          71.33333333333333,
          63.666666666666664,
          80.66666666666667,
          65.33333333333333,
          86.0,
          64.66666666666667,
          62.0,
          66.33333333333333,
          38.666666666666664,
          59.0,
          85.0,
          53.666666666666664,
          89.0,
          83.33333333333333,
          99.0,
          82.0,
          68.0,
          85.66666666666667,
          74.33333333333333,
          97.0,
          75.33333333333333,
          81.33333333333333,
          68.0,
          57.666666666666664,
          84.0,
          46.666666666666664,
          43.666666666666664,
          75.33333333333333,
          72.33333333333333,
          58.666666666666664,
          83.0,
          43.0,
          75.0,
          48.0,
          90.0,
          48.666666666666664,
          56.0,
          61.0,
          85.0,
          64.0,
          75.0,
          58.666666666666664,
          75.0,
          50.0,
          82.33333333333333,
          68.0,
          52.333333333333336,
          75.0,
          71.66666666666667,
          67.0,
          56.333333333333336,
          85.66666666666667,
          69.33333333333333,
          68.33333333333333,
          77.0,
          84.0,
          55.333333333333336,
          90.33333333333333,
          55.0,
          70.0,
          58.666666666666664,
          74.33333333333333,
          63.0,
          53.333333333333336,
          81.66666666666667,
          62.333333333333336,
          60.666666666666664,
          72.66666666666667,
          70.0,
          66.0,
          71.33333333333333,
          58.333333333333336,
          49.666666666666664,
          74.0,
          63.666666666666664,
          73.0,
          63.666666666666664,
          54.0,
          69.33333333333333,
          40.666666666666664,
          77.66666666666667,
          87.0,
          53.0,
          83.66666666666667,
          81.0,
          57.666666666666664,
          83.66666666666667,
          42.333333333333336,
          76.0,
          29.666666666666668,
          64.66666666666667,
          59.333333333333336,
          56.666666666666664,
          65.33333333333333,
          69.66666666666667,
          83.33333333333333,
          48.333333333333336,
          66.0,
          70.0,
          78.33333333333333,
          61.0,
          54.666666666666664,
          69.33333333333333,
          76.33333333333333,
          92.0,
          84.66666666666667,
          75.66666666666667,
          76.66666666666667,
          71.0,
          42.0,
          78.0,
          54.666666666666664,
          39.333333333333336,
          47.0,
          61.666666666666664,
          82.33333333333333,
          78.33333333333333,
          89.0,
          56.0,
          69.0,
          66.66666666666667,
          85.33333333333333,
          89.0,
          87.0,
          50.666666666666664,
          80.0,
          52.666666666666664,
          62.333333333333336,
          64.66666666666667,
          70.0,
          78.66666666666667,
          58.333333333333336,
          59.333333333333336,
          83.0,
          60.666666666666664,
          82.66666666666667,
          51.0,
          66.0,
          64.66666666666667,
          78.66666666666667,
          56.0,
          72.0,
          45.666666666666664,
          57.666666666666664,
          34.333333333333336,
          75.66666666666667,
          56.333333333333336,
          86.33333333333333,
          87.0,
          56.0,
          66.33333333333333,
          74.66666666666667,
          68.33333333333333,
          64.0,
          88.33333333333333,
          70.0,
          60.333333333333336,
          96.66666666666667,
          69.33333333333333,
          75.0,
          49.0,
          77.33333333333333,
          56.0,
          84.66666666666667,
          39.666666666666664,
          74.0,
          93.66666666666667,
          84.0,
          54.666666666666664,
          48.0,
          74.66666666666667,
          50.333333333333336,
          54.666666666666664,
          72.66666666666667,
          81.33333333333333,
          87.33333333333333,
          55.333333333333336,
          70.0,
          82.33333333333333,
          57.333333333333336,
          70.33333333333333,
          71.33333333333333,
          64.33333333333333,
          70.33333333333333,
          69.33333333333333,
          48.333333333333336,
          52.0,
          72.66666666666667,
          96.0,
          61.666666666666664,
          69.33333333333333,
          47.666666666666664,
          87.33333333333333,
          87.33333333333333,
          63.333333333333336,
          79.0,
          63.333333333333336,
          34.666666666666664,
          30.666666666666668,
          73.33333333333333,
          61.333333333333336,
          75.0,
          86.0,
          75.0,
          41.0,
          97.66666666666667,
          78.33333333333333,
          80.66666666666667,
          52.0,
          84.66666666666667,
          71.33333333333333,
          68.0,
          46.666666666666664,
          78.33333333333333,
          59.666666666666664,
          58.333333333333336,
          54.0,
          68.0,
          100.0,
          52.333333333333336,
          71.33333333333333,
          92.66666666666667,
          68.66666666666667,
          44.666666666666664,
          68.0,
          61.333333333333336,
          71.0,
          66.0,
          57.333333333333336,
          65.66666666666667,
          44.333333333333336,
          51.666666666666664,
          70.33333333333333,
          60.333333333333336,
          68.33333333333333,
          73.0,
          91.66666666666667,
          63.666666666666664,
          59.0,
          57.333333333333336,
          83.66666666666667,
          71.33333333333333,
          70.0,
          88.33333333333333,
          70.33333333333333,
          61.333333333333336,
          62.333333333333336,
          57.666666666666664,
          81.33333333333333,
          55.666666666666664,
          50.333333333333336,
          68.33333333333333,
          79.33333333333333,
          78.33333333333333,
          73.33333333333333,
          54.666666666666664,
          66.66666666666667,
          63.666666666666664,
          84.0,
          97.33333333333333,
          55.666666666666664,
          75.66666666666667,
          59.333333333333336,
          51.666666666666664,
          100.0,
          72.0,
          62.333333333333336,
          68.0,
          66.0,
          62.0,
          70.33333333333333,
          79.66666666666667,
          96.33333333333333,
          73.0,
          54.333333333333336,
          58.333333333333336,
          61.333333333333336,
          74.33333333333333,
          60.666666666666664,
          61.666666666666664,
          48.0,
          93.33333333333333,
          18.333333333333332,
          79.0,
          83.33333333333333,
          85.33333333333333,
          77.0,
          54.0,
          50.0,
          77.33333333333333,
          44.666666666666664,
          78.66666666666667,
          80.66666666666667,
          75.0,
          69.0,
          69.33333333333333,
          62.666666666666664,
          94.0,
          57.333333333333336,
          65.0,
          74.33333333333333,
          83.0
         ],
         "xaxis": "x2",
         "yaxis": "y2",
         "type": "box"
        }
       ],
       "layout": {
        "template": {
         "data": {
          "histogram2dcontour": [
           {
            "type": "histogram2dcontour",
            "colorbar": {
             "outlinewidth": 0,
             "ticks": ""
            },
            "colorscale": [
             [
              0.0,
              "#0d0887"
             ],
             [
              0.1111111111111111,
              "#46039f"
             ],
             [
              0.2222222222222222,
              "#7201a8"
             ],
             [
              0.3333333333333333,
              "#9c179e"
             ],
             [
              0.4444444444444444,
              "#bd3786"
             ],
             [
              0.5555555555555556,
              "#d8576b"
             ],
             [
              0.6666666666666666,
              "#ed7953"
             ],
             [
              0.7777777777777778,
              "#fb9f3a"
             ],
             [
              0.8888888888888888,
              "#fdca26"
             ],
             [
              1.0,
              "#f0f921"
             ]
            ]
           }
          ],
          "choropleth": [
           {
            "type": "choropleth",
            "colorbar": {
             "outlinewidth": 0,
             "ticks": ""
            }
           }
          ],
          "histogram2d": [
           {
            "type": "histogram2d",
            "colorbar": {
             "outlinewidth": 0,
             "ticks": ""
            },
            "colorscale": [
             [
              0.0,
              "#0d0887"
             ],
             [
              0.1111111111111111,
              "#46039f"
             ],
             [
              0.2222222222222222,
              "#7201a8"
             ],
             [
              0.3333333333333333,
              "#9c179e"
             ],
             [
              0.4444444444444444,
              "#bd3786"
             ],
             [
              0.5555555555555556,
              "#d8576b"
             ],
             [
              0.6666666666666666,
              "#ed7953"
             ],
             [
              0.7777777777777778,
              "#fb9f3a"
             ],
             [
              0.8888888888888888,
              "#fdca26"
             ],
             [
              1.0,
              "#f0f921"
             ]
            ]
           }
          ],
          "heatmap": [
           {
            "type": "heatmap",
            "colorbar": {
             "outlinewidth": 0,
             "ticks": ""
            },
            "colorscale": [
             [
              0.0,
              "#0d0887"
             ],
             [
              0.1111111111111111,
              "#46039f"
             ],
             [
              0.2222222222222222,
              "#7201a8"
             ],
             [
              0.3333333333333333,
              "#9c179e"
             ],
             [
              0.4444444444444444,
              "#bd3786"
             ],
             [
              0.5555555555555556,
              "#d8576b"
             ],
             [
              0.6666666666666666,
              "#ed7953"
             ],
             [
              0.7777777777777778,
              "#fb9f3a"
             ],
             [
              0.8888888888888888,
              "#fdca26"
             ],
             [
              1.0,
              "#f0f921"
             ]
            ]
           }
          ],
          "heatmapgl": [
           {
            "type": "heatmapgl",
            "colorbar": {
             "outlinewidth": 0,
             "ticks": ""
            },
            "colorscale": [
             [
              0.0,
              "#0d0887"
             ],
             [
              0.1111111111111111,
              "#46039f"
             ],
             [
              0.2222222222222222,
              "#7201a8"
             ],
             [
              0.3333333333333333,
              "#9c179e"
             ],
             [
              0.4444444444444444,
              "#bd3786"
             ],
             [
              0.5555555555555556,
              "#d8576b"
             ],
             [
              0.6666666666666666,
              "#ed7953"
             ],
             [
              0.7777777777777778,
              "#fb9f3a"
             ],
             [
              0.8888888888888888,
              "#fdca26"
             ],
             [
              1.0,
              "#f0f921"
             ]
            ]
           }
          ],
          "contourcarpet": [
           {
            "type": "contourcarpet",
            "colorbar": {
             "outlinewidth": 0,
             "ticks": ""
            }
           }
          ],
          "contour": [
           {
            "type": "contour",
            "colorbar": {
             "outlinewidth": 0,
             "ticks": ""
            },
            "colorscale": [
             [
              0.0,
              "#0d0887"
             ],
             [
              0.1111111111111111,
              "#46039f"
             ],
             [
              0.2222222222222222,
              "#7201a8"
             ],
             [
              0.3333333333333333,
              "#9c179e"
             ],
             [
              0.4444444444444444,
              "#bd3786"
             ],
             [
              0.5555555555555556,
              "#d8576b"
             ],
             [
              0.6666666666666666,
              "#ed7953"
             ],
             [
              0.7777777777777778,
              "#fb9f3a"
             ],
             [
              0.8888888888888888,
              "#fdca26"
             ],
             [
              1.0,
              "#f0f921"
             ]
            ]
           }
          ],
          "surface": [
           {
            "type": "surface",
            "colorbar": {
             "outlinewidth": 0,
             "ticks": ""
            },
            "colorscale": [
             [
              0.0,
              "#0d0887"
             ],
             [
              0.1111111111111111,
              "#46039f"
             ],
             [
              0.2222222222222222,
              "#7201a8"
             ],
             [
              0.3333333333333333,
              "#9c179e"
             ],
             [
              0.4444444444444444,
              "#bd3786"
             ],
             [
              0.5555555555555556,
              "#d8576b"
             ],
             [
              0.6666666666666666,
              "#ed7953"
             ],
             [
              0.7777777777777778,
              "#fb9f3a"
             ],
             [
              0.8888888888888888,
              "#fdca26"
             ],
             [
              1.0,
              "#f0f921"
             ]
            ]
           }
          ],
          "mesh3d": [
           {
            "type": "mesh3d",
            "colorbar": {
             "outlinewidth": 0,
             "ticks": ""
            }
           }
          ],
          "scatter": [
           {
            "fillpattern": {
             "fillmode": "overlay",
             "size": 10,
             "solidity": 0.2
            },
            "type": "scatter"
           }
          ],
          "parcoords": [
           {
            "type": "parcoords",
            "line": {
             "colorbar": {
              "outlinewidth": 0,
              "ticks": ""
             }
            }
           }
          ],
          "scatterpolargl": [
           {
            "type": "scatterpolargl",
            "marker": {
             "colorbar": {
              "outlinewidth": 0,
              "ticks": ""
             }
            }
           }
          ],
          "bar": [
           {
            "error_x": {
             "color": "#2a3f5f"
            },
            "error_y": {
             "color": "#2a3f5f"
            },
            "marker": {
             "line": {
              "color": "#E5ECF6",
              "width": 0.5
             },
             "pattern": {
              "fillmode": "overlay",
              "size": 10,
              "solidity": 0.2
             }
            },
            "type": "bar"
           }
          ],
          "scattergeo": [
           {
            "type": "scattergeo",
            "marker": {
             "colorbar": {
              "outlinewidth": 0,
              "ticks": ""
             }
            }
           }
          ],
          "scatterpolar": [
           {
            "type": "scatterpolar",
            "marker": {
             "colorbar": {
              "outlinewidth": 0,
              "ticks": ""
             }
            }
           }
          ],
          "histogram": [
           {
            "marker": {
             "pattern": {
              "fillmode": "overlay",
              "size": 10,
              "solidity": 0.2
             }
            },
            "type": "histogram"
           }
          ],
          "scattergl": [
           {
            "type": "scattergl",
            "marker": {
             "colorbar": {
              "outlinewidth": 0,
              "ticks": ""
             }
            }
           }
          ],
          "scatter3d": [
           {
            "type": "scatter3d",
            "line": {
             "colorbar": {
              "outlinewidth": 0,
              "ticks": ""
             }
            },
            "marker": {
             "colorbar": {
              "outlinewidth": 0,
              "ticks": ""
             }
            }
           }
          ],
          "scattermapbox": [
           {
            "type": "scattermapbox",
            "marker": {
             "colorbar": {
              "outlinewidth": 0,
              "ticks": ""
             }
            }
           }
          ],
          "scatterternary": [
           {
            "type": "scatterternary",
            "marker": {
             "colorbar": {
              "outlinewidth": 0,
              "ticks": ""
             }
            }
           }
          ],
          "scattercarpet": [
           {
            "type": "scattercarpet",
            "marker": {
             "colorbar": {
              "outlinewidth": 0,
              "ticks": ""
             }
            }
           }
          ],
          "carpet": [
           {
            "aaxis": {
             "endlinecolor": "#2a3f5f",
             "gridcolor": "white",
             "linecolor": "white",
             "minorgridcolor": "white",
             "startlinecolor": "#2a3f5f"
            },
            "baxis": {
             "endlinecolor": "#2a3f5f",
             "gridcolor": "white",
             "linecolor": "white",
             "minorgridcolor": "white",
             "startlinecolor": "#2a3f5f"
            },
            "type": "carpet"
           }
          ],
          "table": [
           {
            "cells": {
             "fill": {
              "color": "#EBF0F8"
             },
             "line": {
              "color": "white"
             }
            },
            "header": {
             "fill": {
              "color": "#C8D4E3"
             },
             "line": {
              "color": "white"
             }
            },
            "type": "table"
           }
          ],
          "barpolar": [
           {
            "marker": {
             "line": {
              "color": "#E5ECF6",
              "width": 0.5
             },
             "pattern": {
              "fillmode": "overlay",
              "size": 10,
              "solidity": 0.2
             }
            },
            "type": "barpolar"
           }
          ],
          "pie": [
           {
            "automargin": true,
            "type": "pie"
           }
          ]
         },
         "layout": {
          "autotypenumbers": "strict",
          "colorway": [
           "#636efa",
           "#EF553B",
           "#00cc96",
           "#ab63fa",
           "#FFA15A",
           "#19d3f3",
           "#FF6692",
           "#B6E880",
           "#FF97FF",
           "#FECB52"
          ],
          "font": {
           "color": "#2a3f5f"
          },
          "hovermode": "closest",
          "hoverlabel": {
           "align": "left"
          },
          "paper_bgcolor": "white",
          "plot_bgcolor": "#E5ECF6",
          "polar": {
           "bgcolor": "#E5ECF6",
           "angularaxis": {
            "gridcolor": "white",
            "linecolor": "white",
            "ticks": ""
           },
           "radialaxis": {
            "gridcolor": "white",
            "linecolor": "white",
            "ticks": ""
           }
          },
          "ternary": {
           "bgcolor": "#E5ECF6",
           "aaxis": {
            "gridcolor": "white",
            "linecolor": "white",
            "ticks": ""
           },
           "baxis": {
            "gridcolor": "white",
            "linecolor": "white",
            "ticks": ""
           },
           "caxis": {
            "gridcolor": "white",
            "linecolor": "white",
            "ticks": ""
           }
          },
          "coloraxis": {
           "colorbar": {
            "outlinewidth": 0,
            "ticks": ""
           }
          },
          "colorscale": {
           "sequential": [
            [
             0.0,
             "#0d0887"
            ],
            [
             0.1111111111111111,
             "#46039f"
            ],
            [
             0.2222222222222222,
             "#7201a8"
            ],
            [
             0.3333333333333333,
             "#9c179e"
            ],
            [
             0.4444444444444444,
             "#bd3786"
            ],
            [
             0.5555555555555556,
             "#d8576b"
            ],
            [
             0.6666666666666666,
             "#ed7953"
            ],
            [
             0.7777777777777778,
             "#fb9f3a"
            ],
            [
             0.8888888888888888,
             "#fdca26"
            ],
            [
             1.0,
             "#f0f921"
            ]
           ],
           "sequentialminus": [
            [
             0.0,
             "#0d0887"
            ],
            [
             0.1111111111111111,
             "#46039f"
            ],
            [
             0.2222222222222222,
             "#7201a8"
            ],
            [
             0.3333333333333333,
             "#9c179e"
            ],
            [
             0.4444444444444444,
             "#bd3786"
            ],
            [
             0.5555555555555556,
             "#d8576b"
            ],
            [
             0.6666666666666666,
             "#ed7953"
            ],
            [
             0.7777777777777778,
             "#fb9f3a"
            ],
            [
             0.8888888888888888,
             "#fdca26"
            ],
            [
             1.0,
             "#f0f921"
            ]
           ],
           "diverging": [
            [
             0,
             "#8e0152"
            ],
            [
             0.1,
             "#c51b7d"
            ],
            [
             0.2,
             "#de77ae"
            ],
            [
             0.3,
             "#f1b6da"
            ],
            [
             0.4,
             "#fde0ef"
            ],
            [
             0.5,
             "#f7f7f7"
            ],
            [
             0.6,
             "#e6f5d0"
            ],
            [
             0.7,
             "#b8e186"
            ],
            [
             0.8,
             "#7fbc41"
            ],
            [
             0.9,
             "#4d9221"
            ],
            [
             1,
             "#276419"
            ]
           ]
          },
          "xaxis": {
           "gridcolor": "white",
           "linecolor": "white",
           "ticks": "",
           "title": {
            "standoff": 15
           },
           "zerolinecolor": "white",
           "automargin": true,
           "zerolinewidth": 2
          },
          "yaxis": {
           "gridcolor": "white",
           "linecolor": "white",
           "ticks": "",
           "title": {
            "standoff": 15
           },
           "zerolinecolor": "white",
           "automargin": true,
           "zerolinewidth": 2
          },
          "scene": {
           "xaxis": {
            "backgroundcolor": "#E5ECF6",
            "gridcolor": "white",
            "linecolor": "white",
            "showbackground": true,
            "ticks": "",
            "zerolinecolor": "white",
            "gridwidth": 2
           },
           "yaxis": {
            "backgroundcolor": "#E5ECF6",
            "gridcolor": "white",
            "linecolor": "white",
            "showbackground": true,
            "ticks": "",
            "zerolinecolor": "white",
            "gridwidth": 2
           },
           "zaxis": {
            "backgroundcolor": "#E5ECF6",
            "gridcolor": "white",
            "linecolor": "white",
            "showbackground": true,
            "ticks": "",
            "zerolinecolor": "white",
            "gridwidth": 2
           }
          },
          "shapedefaults": {
           "line": {
            "color": "#2a3f5f"
           }
          },
          "annotationdefaults": {
           "arrowcolor": "#2a3f5f",
           "arrowhead": 0,
           "arrowwidth": 1
          },
          "geo": {
           "bgcolor": "white",
           "landcolor": "#E5ECF6",
           "subunitcolor": "white",
           "showland": true,
           "showlakes": true,
           "lakecolor": "white"
          },
          "title": {
           "x": 0.05
          },
          "mapbox": {
           "style": "light"
          }
         }
        },
        "xaxis": {
         "anchor": "y",
         "domain": [
          0.0,
          1.0
         ],
         "title": {
          "text": "average"
         }
        },
        "yaxis": {
         "anchor": "x",
         "domain": [
          0.0,
          0.8316
         ],
         "title": {
          "text": "count"
         }
        },
        "xaxis2": {
         "anchor": "y2",
         "domain": [
          0.0,
          1.0
         ],
         "matches": "x",
         "showticklabels": false,
         "showgrid": true
        },
        "yaxis2": {
         "anchor": "x2",
         "domain": [
          0.8416,
          1.0
         ],
         "matches": "y2",
         "showticklabels": false,
         "showline": false,
         "ticks": "",
         "showgrid": false
        },
        "legend": {
         "tracegroupgap": 0
        },
        "title": {
         "text": "Average Distribution"
        },
        "barmode": "relative"
       },
       "config": {
        "plotlyServerURL": "https://plot.ly"
       }
      },
      "text/html": "<div>                            <div id=\"5b6fbbf3-0153-45a0-a8d1-872a7f5e7e71\" class=\"plotly-graph-div\" style=\"height:525px; width:100%;\"></div>            <script type=\"text/javascript\">                require([\"plotly\"], function(Plotly) {                    window.PLOTLYENV=window.PLOTLYENV || {};                                    if (document.getElementById(\"5b6fbbf3-0153-45a0-a8d1-872a7f5e7e71\")) {                    Plotly.newPlot(                        \"5b6fbbf3-0153-45a0-a8d1-872a7f5e7e71\",                        [{\"alignmentgroup\":\"True\",\"bingroup\":\"x\",\"hovertemplate\":\"average=%{x}\\u003cbr\\u003ecount=%{y}\\u003cextra\\u003e\\u003c\\u002fextra\\u003e\",\"legendgroup\":\"\",\"marker\":{\"color\":\"blue\",\"pattern\":{\"shape\":\"\"}},\"name\":\"\",\"nbinsx\":30,\"offsetgroup\":\"\",\"orientation\":\"v\",\"showlegend\":false,\"x\":[72.66666666666667,82.33333333333333,92.66666666666667,49.333333333333336,76.33333333333333,77.33333333333333,91.66666666666667,40.666666666666664,65.0,49.333333333333336,54.666666666666664,45.0,73.0,73.33333333333333,53.666666666666664,74.0,87.66666666666667,26.0,44.666666666666664,57.666666666666664,66.0,70.0,50.333333333333336,71.66666666666667,75.0,73.0,59.333333333333336,70.33333333333333,68.33333333333333,69.0,72.33333333333333,63.0,64.33333333333333,40.0,88.66666666666667,80.33333333333333,79.33333333333333,57.666666666666664,84.33333333333333,56.666666666666664,56.666666666666664,66.33333333333333,58.666666666666664,63.333333333333336,53.333333333333336,58.666666666666664,60.666666666666664,71.0,69.0,82.66666666666667,52.0,71.33333333333333,46.333333333333336,80.33333333333333,80.66666666666667,39.0,84.33333333333333,52.0,58.333333333333336,9.0,75.0,37.333333333333336,59.333333333333336,73.33333333333333,58.666666666666664,64.0,39.666666666666664,68.66666666666667,58.333333333333336,53.333333333333336,64.66666666666667,60.333333333333336,46.666666666666664,58.0,46.333333333333336,41.0,26.0,79.66666666666667,69.0,66.0,48.666666666666664,46.333333333333336,50.333333333333336,66.33333333333333,38.333333333333336,78.33333333333333,82.33333333333333,72.0,65.0,80.33333333333333,70.33333333333333,32.333333333333336,73.66666666666667,46.0,85.66666666666667,80.33333333333333,64.33333333333333,68.33333333333333,62.333333333333336,64.66666666666667,71.0,72.0,88.33333333333333,50.333333333333336,91.33333333333333,65.66666666666667,95.66666666666667,64.33333333333333,66.0,68.66666666666667,88.0,55.333333333333336,51.333333333333336,54.333333333333336,99.66666666666667,78.33333333333333,80.66666666666667,79.66666666666667,58.333333333333336,63.0,86.66666666666667,90.66666666666667,91.33333333333333,58.666666666666664,78.66666666666667,89.33333333333333,69.0,72.0,79.33333333333333,50.333333333333336,85.0,43.333333333333336,77.0,80.0,76.0,53.666666666666664,48.666666666666664,60.333333333333336,64.0,67.0,73.0,61.666666666666664,50.333333333333336,49.0,79.66666666666667,31.333333333333332,82.33333333333333,69.0,74.66666666666667,97.66666666666667,66.0,70.66666666666667,65.0,50.0,63.333333333333336,82.33333333333333,72.66666666666667,60.0,78.0,64.0,78.0,82.66666666666667,51.333333333333336,51.333333333333336,88.0,98.66666666666667,51.666666666666664,70.66666666666667,76.33333333333333,70.66666666666667,73.0,86.66666666666667,82.0,66.66666666666667,49.333333333333336,86.33333333333333,52.666666666666664,75.0,61.333333333333336,99.0,68.33333333333333,58.666666666666664,49.0,68.0,48.666666666666664,65.66666666666667,73.66666666666667,65.33333333333333,48.333333333333336,84.0,66.66666666666667,79.33333333333333,64.0,67.0,79.33333333333333,56.0,64.33333333333333,54.0,51.0,77.66666666666667,79.0,74.33333333333333,71.66666666666667,64.66666666666667,47.333333333333336,74.33333333333333,68.66666666666667,79.0,77.0,61.666666666666664,79.33333333333333,30.0,54.666666666666664,55.666666666666664,86.33333333333333,80.66666666666667,85.66666666666667,38.333333333333336,71.0,57.666666666666664,66.0,81.66666666666667,60.666666666666664,80.33333333333333,63.666666666666664,51.666666666666664,71.66666666666667,53.666666666666664,68.0,92.33333333333333,68.66666666666667,43.666666666666664,78.66666666666667,85.66666666666667,83.0,77.33333333333333,65.33333333333333,66.0,52.333333333333336,81.33333333333333,69.0,82.0,54.333333333333336,51.0,72.66666666666667,77.33333333333333,79.66666666666667,65.33333333333333,63.666666666666664,60.333333333333336,48.333333333333336,79.0,66.66666666666667,77.33333333333333,52.666666666666664,68.33333333333333,68.33333333333333,77.33333333333333,74.33333333333333,75.66666666666667,73.33333333333333,78.66666666666667,48.333333333333336,94.0,72.33333333333333,47.333333333333336,73.0,72.66666666666667,91.66666666666667,72.33333333333333,64.33333333333333,49.666666666666664,52.666666666666664,68.66666666666667,83.0,78.0,90.0,65.66666666666667,77.0,62.0,49.0,46.333333333333336,78.66666666666667,75.33333333333333,43.0,81.66666666666667,89.0,79.33333333333333,79.66666666666667,76.66666666666667,71.33333333333333,76.33333333333333,60.0,71.0,78.33333333333333,63.0,43.333333333333336,71.0,45.333333333333336,84.0,80.0,54.0,77.33333333333333,73.33333333333333,77.33333333333333,68.33333333333333,89.0,49.0,63.666666666666664,52.666666666666664,76.33333333333333,61.0,65.33333333333333,68.0,66.0,67.33333333333333,83.33333333333333,77.66666666666667,67.66666666666667,61.333333333333336,76.66666666666667,80.0,77.33333333333333,49.666666666666664,43.333333333333336,88.66666666666667,61.333333333333336,23.333333333333332,78.0,49.0,64.0,39.666666666666664,57.0,83.0,90.33333333333333,65.0,71.66666666666667,47.666666666666664,29.666666666666668,50.0,57.0,65.66666666666667,73.0,68.66666666666667,73.0,75.66666666666667,60.0,88.66666666666667,71.66666666666667,79.0,62.0,58.333333333333336,73.66666666666667,53.666666666666664,66.66666666666667,67.66666666666667,61.666666666666664,59.0,60.666666666666664,86.33333333333333,59.666666666666664,82.33333333333333,56.0,31.0,59.0,55.666666666666664,60.0,62.666666666666664,55.333333333333336,80.66666666666667,77.33333333333333,62.666666666666664,73.33333333333333,91.66666666666667,67.33333333333333,43.333333333333336,84.0,93.33333333333333,77.0,64.0,83.0,94.0,77.0,44.0,41.333333333333336,72.66666666666667,69.0,67.33333333333333,63.333333333333336,72.66666666666667,66.33333333333333,74.0,70.0,55.666666666666664,72.0,44.666666666666664,60.0,89.66666666666667,64.66666666666667,57.666666666666664,60.0,46.333333333333336,56.333333333333336,95.66666666666667,58.333333333333336,68.0,64.33333333333333,79.66666666666667,55.0,85.33333333333333,71.66666666666667,81.66666666666667,65.66666666666667,65.66666666666667,67.33333333333333,75.33333333333333,71.0,71.33333333333333,63.0,55.666666666666664,89.33333333333333,59.666666666666664,57.333333333333336,74.66666666666667,38.0,63.666666666666664,85.0,68.33333333333333,59.0,61.666666666666664,63.0,67.66666666666667,57.333333333333336,52.0,68.33333333333333,50.333333333333336,69.0,71.33333333333333,59.0,86.33333333333333,75.66666666666667,79.66666666666667,67.0,77.33333333333333,78.0,72.66666666666667,65.0,82.33333333333333,45.0,75.33333333333333,78.0,96.33333333333333,72.0,57.333333333333336,58.666666666666664,46.666666666666664,85.66666666666667,51.666666666666664,100.0,68.33333333333333,55.333333333333336,51.0,72.33333333333333,86.0,65.0,87.33333333333333,31.666666666666668,68.0,83.33333333333333,80.33333333333333,86.0,68.66666666666667,79.33333333333333,62.333333333333336,90.33333333333333,76.66666666666667,68.0,73.33333333333333,63.0,71.33333333333333,70.66666666666667,55.666666666666664,65.66666666666667,52.333333333333336,51.666666666666664,71.66666666666667,54.666666666666664,69.66666666666667,58.0,81.0,75.33333333333333,66.0,85.33333333333333,86.33333333333333,62.0,66.0,51.333333333333336,71.0,67.66666666666667,73.0,78.33333333333333,91.0,59.333333333333336,92.0,51.0,81.33333333333333,68.0,56.0,78.0,88.33333333333333,73.33333333333333,52.333333333333336,54.333333333333336,59.0,89.33333333333333,82.66666666666667,82.33333333333333,71.0,74.0,74.66666666666667,57.333333333333336,87.0,61.333333333333336,54.333333333333336,51.333333333333336,62.333333333333336,59.0,44.0,39.0,68.66666666666667,69.33333333333333,51.333333333333336,60.333333333333336,87.0,70.0,77.33333333333333,56.333333333333336,59.666666666666664,74.0,91.66666666666667,70.66666666666667,80.33333333333333,79.0,88.66666666666667,64.33333333333333,80.33333333333333,96.33333333333333,67.66666666666667,64.33333333333333,73.33333333333333,73.33333333333333,88.33333333333333,46.0,67.66666666666667,46.0,34.666666666666664,68.66666666666667,64.66666666666667,64.33333333333333,67.0,76.0,70.33333333333333,92.66666666666667,74.33333333333333,48.333333333333336,45.333333333333336,97.33333333333333,70.0,52.666666666666664,67.66666666666667,72.0,93.0,57.0,60.0,75.33333333333333,49.333333333333336,54.666666666666664,87.0,54.0,60.666666666666664,91.33333333333333,78.66666666666667,71.33333333333333,76.0,74.33333333333333,72.33333333333333,67.0,56.333333333333336,61.0,59.666666666666664,56.333333333333336,61.0,66.66666666666667,74.33333333333333,97.0,69.0,23.0,51.666666666666664,73.0,76.0,59.0,29.333333333333332,78.0,56.0,87.66666666666667,69.66666666666667,83.66666666666667,50.666666666666664,62.333333333333336,62.0,64.0,61.0,91.66666666666667,72.0,89.33333333333333,66.66666666666667,40.0,83.0,86.66666666666667,68.66666666666667,50.0,60.333333333333336,53.666666666666664,94.0,60.333333333333336,98.66666666666667,67.33333333333333,51.666666666666664,50.666666666666664,50.0,67.0,68.0,73.66666666666667,82.66666666666667,82.66666666666667,69.66666666666667,76.0,86.66666666666667,78.66666666666667,74.33333333333333,48.0,84.0,77.33333333333333,77.66666666666667,65.0,75.66666666666667,64.66666666666667,64.66666666666667,52.666666666666664,76.33333333333333,53.333333333333336,74.66666666666667,89.66666666666667,69.66666666666667,77.0,65.33333333333333,69.33333333333333,65.33333333333333,53.666666666666664,87.33333333333333,74.66666666666667,67.33333333333333,65.0,67.0,68.66666666666667,56.666666666666664,69.0,83.0,69.33333333333333,76.66666666666667,70.0,53.0,74.33333333333333,77.66666666666667,74.66666666666667,60.0,75.66666666666667,76.0,78.0,61.333333333333336,71.0,62.666666666666664,57.0,37.666666666666664,65.33333333333333,97.66666666666667,76.0,76.0,51.666666666666664,88.66666666666667,51.666666666666664,75.66666666666667,73.66666666666667,75.66666666666667,56.0,84.66666666666667,82.33333333333333,67.0,71.33333333333333,63.666666666666664,80.66666666666667,65.33333333333333,86.0,64.66666666666667,62.0,66.33333333333333,38.666666666666664,59.0,85.0,53.666666666666664,89.0,83.33333333333333,99.0,82.0,68.0,85.66666666666667,74.33333333333333,97.0,75.33333333333333,81.33333333333333,68.0,57.666666666666664,84.0,46.666666666666664,43.666666666666664,75.33333333333333,72.33333333333333,58.666666666666664,83.0,43.0,75.0,48.0,90.0,48.666666666666664,56.0,61.0,85.0,64.0,75.0,58.666666666666664,75.0,50.0,82.33333333333333,68.0,52.333333333333336,75.0,71.66666666666667,67.0,56.333333333333336,85.66666666666667,69.33333333333333,68.33333333333333,77.0,84.0,55.333333333333336,90.33333333333333,55.0,70.0,58.666666666666664,74.33333333333333,63.0,53.333333333333336,81.66666666666667,62.333333333333336,60.666666666666664,72.66666666666667,70.0,66.0,71.33333333333333,58.333333333333336,49.666666666666664,74.0,63.666666666666664,73.0,63.666666666666664,54.0,69.33333333333333,40.666666666666664,77.66666666666667,87.0,53.0,83.66666666666667,81.0,57.666666666666664,83.66666666666667,42.333333333333336,76.0,29.666666666666668,64.66666666666667,59.333333333333336,56.666666666666664,65.33333333333333,69.66666666666667,83.33333333333333,48.333333333333336,66.0,70.0,78.33333333333333,61.0,54.666666666666664,69.33333333333333,76.33333333333333,92.0,84.66666666666667,75.66666666666667,76.66666666666667,71.0,42.0,78.0,54.666666666666664,39.333333333333336,47.0,61.666666666666664,82.33333333333333,78.33333333333333,89.0,56.0,69.0,66.66666666666667,85.33333333333333,89.0,87.0,50.666666666666664,80.0,52.666666666666664,62.333333333333336,64.66666666666667,70.0,78.66666666666667,58.333333333333336,59.333333333333336,83.0,60.666666666666664,82.66666666666667,51.0,66.0,64.66666666666667,78.66666666666667,56.0,72.0,45.666666666666664,57.666666666666664,34.333333333333336,75.66666666666667,56.333333333333336,86.33333333333333,87.0,56.0,66.33333333333333,74.66666666666667,68.33333333333333,64.0,88.33333333333333,70.0,60.333333333333336,96.66666666666667,69.33333333333333,75.0,49.0,77.33333333333333,56.0,84.66666666666667,39.666666666666664,74.0,93.66666666666667,84.0,54.666666666666664,48.0,74.66666666666667,50.333333333333336,54.666666666666664,72.66666666666667,81.33333333333333,87.33333333333333,55.333333333333336,70.0,82.33333333333333,57.333333333333336,70.33333333333333,71.33333333333333,64.33333333333333,70.33333333333333,69.33333333333333,48.333333333333336,52.0,72.66666666666667,96.0,61.666666666666664,69.33333333333333,47.666666666666664,87.33333333333333,87.33333333333333,63.333333333333336,79.0,63.333333333333336,34.666666666666664,30.666666666666668,73.33333333333333,61.333333333333336,75.0,86.0,75.0,41.0,97.66666666666667,78.33333333333333,80.66666666666667,52.0,84.66666666666667,71.33333333333333,68.0,46.666666666666664,78.33333333333333,59.666666666666664,58.333333333333336,54.0,68.0,100.0,52.333333333333336,71.33333333333333,92.66666666666667,68.66666666666667,44.666666666666664,68.0,61.333333333333336,71.0,66.0,57.333333333333336,65.66666666666667,44.333333333333336,51.666666666666664,70.33333333333333,60.333333333333336,68.33333333333333,73.0,91.66666666666667,63.666666666666664,59.0,57.333333333333336,83.66666666666667,71.33333333333333,70.0,88.33333333333333,70.33333333333333,61.333333333333336,62.333333333333336,57.666666666666664,81.33333333333333,55.666666666666664,50.333333333333336,68.33333333333333,79.33333333333333,78.33333333333333,73.33333333333333,54.666666666666664,66.66666666666667,63.666666666666664,84.0,97.33333333333333,55.666666666666664,75.66666666666667,59.333333333333336,51.666666666666664,100.0,72.0,62.333333333333336,68.0,66.0,62.0,70.33333333333333,79.66666666666667,96.33333333333333,73.0,54.333333333333336,58.333333333333336,61.333333333333336,74.33333333333333,60.666666666666664,61.666666666666664,48.0,93.33333333333333,18.333333333333332,79.0,83.33333333333333,85.33333333333333,77.0,54.0,50.0,77.33333333333333,44.666666666666664,78.66666666666667,80.66666666666667,75.0,69.0,69.33333333333333,62.666666666666664,94.0,57.333333333333336,65.0,74.33333333333333,83.0],\"xaxis\":\"x\",\"yaxis\":\"y\",\"type\":\"histogram\"},{\"alignmentgroup\":\"True\",\"hovertemplate\":\"average=%{x}\\u003cextra\\u003e\\u003c\\u002fextra\\u003e\",\"legendgroup\":\"\",\"marker\":{\"color\":\"blue\"},\"name\":\"\",\"notched\":true,\"offsetgroup\":\"\",\"showlegend\":false,\"x\":[72.66666666666667,82.33333333333333,92.66666666666667,49.333333333333336,76.33333333333333,77.33333333333333,91.66666666666667,40.666666666666664,65.0,49.333333333333336,54.666666666666664,45.0,73.0,73.33333333333333,53.666666666666664,74.0,87.66666666666667,26.0,44.666666666666664,57.666666666666664,66.0,70.0,50.333333333333336,71.66666666666667,75.0,73.0,59.333333333333336,70.33333333333333,68.33333333333333,69.0,72.33333333333333,63.0,64.33333333333333,40.0,88.66666666666667,80.33333333333333,79.33333333333333,57.666666666666664,84.33333333333333,56.666666666666664,56.666666666666664,66.33333333333333,58.666666666666664,63.333333333333336,53.333333333333336,58.666666666666664,60.666666666666664,71.0,69.0,82.66666666666667,52.0,71.33333333333333,46.333333333333336,80.33333333333333,80.66666666666667,39.0,84.33333333333333,52.0,58.333333333333336,9.0,75.0,37.333333333333336,59.333333333333336,73.33333333333333,58.666666666666664,64.0,39.666666666666664,68.66666666666667,58.333333333333336,53.333333333333336,64.66666666666667,60.333333333333336,46.666666666666664,58.0,46.333333333333336,41.0,26.0,79.66666666666667,69.0,66.0,48.666666666666664,46.333333333333336,50.333333333333336,66.33333333333333,38.333333333333336,78.33333333333333,82.33333333333333,72.0,65.0,80.33333333333333,70.33333333333333,32.333333333333336,73.66666666666667,46.0,85.66666666666667,80.33333333333333,64.33333333333333,68.33333333333333,62.333333333333336,64.66666666666667,71.0,72.0,88.33333333333333,50.333333333333336,91.33333333333333,65.66666666666667,95.66666666666667,64.33333333333333,66.0,68.66666666666667,88.0,55.333333333333336,51.333333333333336,54.333333333333336,99.66666666666667,78.33333333333333,80.66666666666667,79.66666666666667,58.333333333333336,63.0,86.66666666666667,90.66666666666667,91.33333333333333,58.666666666666664,78.66666666666667,89.33333333333333,69.0,72.0,79.33333333333333,50.333333333333336,85.0,43.333333333333336,77.0,80.0,76.0,53.666666666666664,48.666666666666664,60.333333333333336,64.0,67.0,73.0,61.666666666666664,50.333333333333336,49.0,79.66666666666667,31.333333333333332,82.33333333333333,69.0,74.66666666666667,97.66666666666667,66.0,70.66666666666667,65.0,50.0,63.333333333333336,82.33333333333333,72.66666666666667,60.0,78.0,64.0,78.0,82.66666666666667,51.333333333333336,51.333333333333336,88.0,98.66666666666667,51.666666666666664,70.66666666666667,76.33333333333333,70.66666666666667,73.0,86.66666666666667,82.0,66.66666666666667,49.333333333333336,86.33333333333333,52.666666666666664,75.0,61.333333333333336,99.0,68.33333333333333,58.666666666666664,49.0,68.0,48.666666666666664,65.66666666666667,73.66666666666667,65.33333333333333,48.333333333333336,84.0,66.66666666666667,79.33333333333333,64.0,67.0,79.33333333333333,56.0,64.33333333333333,54.0,51.0,77.66666666666667,79.0,74.33333333333333,71.66666666666667,64.66666666666667,47.333333333333336,74.33333333333333,68.66666666666667,79.0,77.0,61.666666666666664,79.33333333333333,30.0,54.666666666666664,55.666666666666664,86.33333333333333,80.66666666666667,85.66666666666667,38.333333333333336,71.0,57.666666666666664,66.0,81.66666666666667,60.666666666666664,80.33333333333333,63.666666666666664,51.666666666666664,71.66666666666667,53.666666666666664,68.0,92.33333333333333,68.66666666666667,43.666666666666664,78.66666666666667,85.66666666666667,83.0,77.33333333333333,65.33333333333333,66.0,52.333333333333336,81.33333333333333,69.0,82.0,54.333333333333336,51.0,72.66666666666667,77.33333333333333,79.66666666666667,65.33333333333333,63.666666666666664,60.333333333333336,48.333333333333336,79.0,66.66666666666667,77.33333333333333,52.666666666666664,68.33333333333333,68.33333333333333,77.33333333333333,74.33333333333333,75.66666666666667,73.33333333333333,78.66666666666667,48.333333333333336,94.0,72.33333333333333,47.333333333333336,73.0,72.66666666666667,91.66666666666667,72.33333333333333,64.33333333333333,49.666666666666664,52.666666666666664,68.66666666666667,83.0,78.0,90.0,65.66666666666667,77.0,62.0,49.0,46.333333333333336,78.66666666666667,75.33333333333333,43.0,81.66666666666667,89.0,79.33333333333333,79.66666666666667,76.66666666666667,71.33333333333333,76.33333333333333,60.0,71.0,78.33333333333333,63.0,43.333333333333336,71.0,45.333333333333336,84.0,80.0,54.0,77.33333333333333,73.33333333333333,77.33333333333333,68.33333333333333,89.0,49.0,63.666666666666664,52.666666666666664,76.33333333333333,61.0,65.33333333333333,68.0,66.0,67.33333333333333,83.33333333333333,77.66666666666667,67.66666666666667,61.333333333333336,76.66666666666667,80.0,77.33333333333333,49.666666666666664,43.333333333333336,88.66666666666667,61.333333333333336,23.333333333333332,78.0,49.0,64.0,39.666666666666664,57.0,83.0,90.33333333333333,65.0,71.66666666666667,47.666666666666664,29.666666666666668,50.0,57.0,65.66666666666667,73.0,68.66666666666667,73.0,75.66666666666667,60.0,88.66666666666667,71.66666666666667,79.0,62.0,58.333333333333336,73.66666666666667,53.666666666666664,66.66666666666667,67.66666666666667,61.666666666666664,59.0,60.666666666666664,86.33333333333333,59.666666666666664,82.33333333333333,56.0,31.0,59.0,55.666666666666664,60.0,62.666666666666664,55.333333333333336,80.66666666666667,77.33333333333333,62.666666666666664,73.33333333333333,91.66666666666667,67.33333333333333,43.333333333333336,84.0,93.33333333333333,77.0,64.0,83.0,94.0,77.0,44.0,41.333333333333336,72.66666666666667,69.0,67.33333333333333,63.333333333333336,72.66666666666667,66.33333333333333,74.0,70.0,55.666666666666664,72.0,44.666666666666664,60.0,89.66666666666667,64.66666666666667,57.666666666666664,60.0,46.333333333333336,56.333333333333336,95.66666666666667,58.333333333333336,68.0,64.33333333333333,79.66666666666667,55.0,85.33333333333333,71.66666666666667,81.66666666666667,65.66666666666667,65.66666666666667,67.33333333333333,75.33333333333333,71.0,71.33333333333333,63.0,55.666666666666664,89.33333333333333,59.666666666666664,57.333333333333336,74.66666666666667,38.0,63.666666666666664,85.0,68.33333333333333,59.0,61.666666666666664,63.0,67.66666666666667,57.333333333333336,52.0,68.33333333333333,50.333333333333336,69.0,71.33333333333333,59.0,86.33333333333333,75.66666666666667,79.66666666666667,67.0,77.33333333333333,78.0,72.66666666666667,65.0,82.33333333333333,45.0,75.33333333333333,78.0,96.33333333333333,72.0,57.333333333333336,58.666666666666664,46.666666666666664,85.66666666666667,51.666666666666664,100.0,68.33333333333333,55.333333333333336,51.0,72.33333333333333,86.0,65.0,87.33333333333333,31.666666666666668,68.0,83.33333333333333,80.33333333333333,86.0,68.66666666666667,79.33333333333333,62.333333333333336,90.33333333333333,76.66666666666667,68.0,73.33333333333333,63.0,71.33333333333333,70.66666666666667,55.666666666666664,65.66666666666667,52.333333333333336,51.666666666666664,71.66666666666667,54.666666666666664,69.66666666666667,58.0,81.0,75.33333333333333,66.0,85.33333333333333,86.33333333333333,62.0,66.0,51.333333333333336,71.0,67.66666666666667,73.0,78.33333333333333,91.0,59.333333333333336,92.0,51.0,81.33333333333333,68.0,56.0,78.0,88.33333333333333,73.33333333333333,52.333333333333336,54.333333333333336,59.0,89.33333333333333,82.66666666666667,82.33333333333333,71.0,74.0,74.66666666666667,57.333333333333336,87.0,61.333333333333336,54.333333333333336,51.333333333333336,62.333333333333336,59.0,44.0,39.0,68.66666666666667,69.33333333333333,51.333333333333336,60.333333333333336,87.0,70.0,77.33333333333333,56.333333333333336,59.666666666666664,74.0,91.66666666666667,70.66666666666667,80.33333333333333,79.0,88.66666666666667,64.33333333333333,80.33333333333333,96.33333333333333,67.66666666666667,64.33333333333333,73.33333333333333,73.33333333333333,88.33333333333333,46.0,67.66666666666667,46.0,34.666666666666664,68.66666666666667,64.66666666666667,64.33333333333333,67.0,76.0,70.33333333333333,92.66666666666667,74.33333333333333,48.333333333333336,45.333333333333336,97.33333333333333,70.0,52.666666666666664,67.66666666666667,72.0,93.0,57.0,60.0,75.33333333333333,49.333333333333336,54.666666666666664,87.0,54.0,60.666666666666664,91.33333333333333,78.66666666666667,71.33333333333333,76.0,74.33333333333333,72.33333333333333,67.0,56.333333333333336,61.0,59.666666666666664,56.333333333333336,61.0,66.66666666666667,74.33333333333333,97.0,69.0,23.0,51.666666666666664,73.0,76.0,59.0,29.333333333333332,78.0,56.0,87.66666666666667,69.66666666666667,83.66666666666667,50.666666666666664,62.333333333333336,62.0,64.0,61.0,91.66666666666667,72.0,89.33333333333333,66.66666666666667,40.0,83.0,86.66666666666667,68.66666666666667,50.0,60.333333333333336,53.666666666666664,94.0,60.333333333333336,98.66666666666667,67.33333333333333,51.666666666666664,50.666666666666664,50.0,67.0,68.0,73.66666666666667,82.66666666666667,82.66666666666667,69.66666666666667,76.0,86.66666666666667,78.66666666666667,74.33333333333333,48.0,84.0,77.33333333333333,77.66666666666667,65.0,75.66666666666667,64.66666666666667,64.66666666666667,52.666666666666664,76.33333333333333,53.333333333333336,74.66666666666667,89.66666666666667,69.66666666666667,77.0,65.33333333333333,69.33333333333333,65.33333333333333,53.666666666666664,87.33333333333333,74.66666666666667,67.33333333333333,65.0,67.0,68.66666666666667,56.666666666666664,69.0,83.0,69.33333333333333,76.66666666666667,70.0,53.0,74.33333333333333,77.66666666666667,74.66666666666667,60.0,75.66666666666667,76.0,78.0,61.333333333333336,71.0,62.666666666666664,57.0,37.666666666666664,65.33333333333333,97.66666666666667,76.0,76.0,51.666666666666664,88.66666666666667,51.666666666666664,75.66666666666667,73.66666666666667,75.66666666666667,56.0,84.66666666666667,82.33333333333333,67.0,71.33333333333333,63.666666666666664,80.66666666666667,65.33333333333333,86.0,64.66666666666667,62.0,66.33333333333333,38.666666666666664,59.0,85.0,53.666666666666664,89.0,83.33333333333333,99.0,82.0,68.0,85.66666666666667,74.33333333333333,97.0,75.33333333333333,81.33333333333333,68.0,57.666666666666664,84.0,46.666666666666664,43.666666666666664,75.33333333333333,72.33333333333333,58.666666666666664,83.0,43.0,75.0,48.0,90.0,48.666666666666664,56.0,61.0,85.0,64.0,75.0,58.666666666666664,75.0,50.0,82.33333333333333,68.0,52.333333333333336,75.0,71.66666666666667,67.0,56.333333333333336,85.66666666666667,69.33333333333333,68.33333333333333,77.0,84.0,55.333333333333336,90.33333333333333,55.0,70.0,58.666666666666664,74.33333333333333,63.0,53.333333333333336,81.66666666666667,62.333333333333336,60.666666666666664,72.66666666666667,70.0,66.0,71.33333333333333,58.333333333333336,49.666666666666664,74.0,63.666666666666664,73.0,63.666666666666664,54.0,69.33333333333333,40.666666666666664,77.66666666666667,87.0,53.0,83.66666666666667,81.0,57.666666666666664,83.66666666666667,42.333333333333336,76.0,29.666666666666668,64.66666666666667,59.333333333333336,56.666666666666664,65.33333333333333,69.66666666666667,83.33333333333333,48.333333333333336,66.0,70.0,78.33333333333333,61.0,54.666666666666664,69.33333333333333,76.33333333333333,92.0,84.66666666666667,75.66666666666667,76.66666666666667,71.0,42.0,78.0,54.666666666666664,39.333333333333336,47.0,61.666666666666664,82.33333333333333,78.33333333333333,89.0,56.0,69.0,66.66666666666667,85.33333333333333,89.0,87.0,50.666666666666664,80.0,52.666666666666664,62.333333333333336,64.66666666666667,70.0,78.66666666666667,58.333333333333336,59.333333333333336,83.0,60.666666666666664,82.66666666666667,51.0,66.0,64.66666666666667,78.66666666666667,56.0,72.0,45.666666666666664,57.666666666666664,34.333333333333336,75.66666666666667,56.333333333333336,86.33333333333333,87.0,56.0,66.33333333333333,74.66666666666667,68.33333333333333,64.0,88.33333333333333,70.0,60.333333333333336,96.66666666666667,69.33333333333333,75.0,49.0,77.33333333333333,56.0,84.66666666666667,39.666666666666664,74.0,93.66666666666667,84.0,54.666666666666664,48.0,74.66666666666667,50.333333333333336,54.666666666666664,72.66666666666667,81.33333333333333,87.33333333333333,55.333333333333336,70.0,82.33333333333333,57.333333333333336,70.33333333333333,71.33333333333333,64.33333333333333,70.33333333333333,69.33333333333333,48.333333333333336,52.0,72.66666666666667,96.0,61.666666666666664,69.33333333333333,47.666666666666664,87.33333333333333,87.33333333333333,63.333333333333336,79.0,63.333333333333336,34.666666666666664,30.666666666666668,73.33333333333333,61.333333333333336,75.0,86.0,75.0,41.0,97.66666666666667,78.33333333333333,80.66666666666667,52.0,84.66666666666667,71.33333333333333,68.0,46.666666666666664,78.33333333333333,59.666666666666664,58.333333333333336,54.0,68.0,100.0,52.333333333333336,71.33333333333333,92.66666666666667,68.66666666666667,44.666666666666664,68.0,61.333333333333336,71.0,66.0,57.333333333333336,65.66666666666667,44.333333333333336,51.666666666666664,70.33333333333333,60.333333333333336,68.33333333333333,73.0,91.66666666666667,63.666666666666664,59.0,57.333333333333336,83.66666666666667,71.33333333333333,70.0,88.33333333333333,70.33333333333333,61.333333333333336,62.333333333333336,57.666666666666664,81.33333333333333,55.666666666666664,50.333333333333336,68.33333333333333,79.33333333333333,78.33333333333333,73.33333333333333,54.666666666666664,66.66666666666667,63.666666666666664,84.0,97.33333333333333,55.666666666666664,75.66666666666667,59.333333333333336,51.666666666666664,100.0,72.0,62.333333333333336,68.0,66.0,62.0,70.33333333333333,79.66666666666667,96.33333333333333,73.0,54.333333333333336,58.333333333333336,61.333333333333336,74.33333333333333,60.666666666666664,61.666666666666664,48.0,93.33333333333333,18.333333333333332,79.0,83.33333333333333,85.33333333333333,77.0,54.0,50.0,77.33333333333333,44.666666666666664,78.66666666666667,80.66666666666667,75.0,69.0,69.33333333333333,62.666666666666664,94.0,57.333333333333336,65.0,74.33333333333333,83.0],\"xaxis\":\"x2\",\"yaxis\":\"y2\",\"type\":\"box\"}],                        {\"template\":{\"data\":{\"histogram2dcontour\":[{\"type\":\"histogram2dcontour\",\"colorbar\":{\"outlinewidth\":0,\"ticks\":\"\"},\"colorscale\":[[0.0,\"#0d0887\"],[0.1111111111111111,\"#46039f\"],[0.2222222222222222,\"#7201a8\"],[0.3333333333333333,\"#9c179e\"],[0.4444444444444444,\"#bd3786\"],[0.5555555555555556,\"#d8576b\"],[0.6666666666666666,\"#ed7953\"],[0.7777777777777778,\"#fb9f3a\"],[0.8888888888888888,\"#fdca26\"],[1.0,\"#f0f921\"]]}],\"choropleth\":[{\"type\":\"choropleth\",\"colorbar\":{\"outlinewidth\":0,\"ticks\":\"\"}}],\"histogram2d\":[{\"type\":\"histogram2d\",\"colorbar\":{\"outlinewidth\":0,\"ticks\":\"\"},\"colorscale\":[[0.0,\"#0d0887\"],[0.1111111111111111,\"#46039f\"],[0.2222222222222222,\"#7201a8\"],[0.3333333333333333,\"#9c179e\"],[0.4444444444444444,\"#bd3786\"],[0.5555555555555556,\"#d8576b\"],[0.6666666666666666,\"#ed7953\"],[0.7777777777777778,\"#fb9f3a\"],[0.8888888888888888,\"#fdca26\"],[1.0,\"#f0f921\"]]}],\"heatmap\":[{\"type\":\"heatmap\",\"colorbar\":{\"outlinewidth\":0,\"ticks\":\"\"},\"colorscale\":[[0.0,\"#0d0887\"],[0.1111111111111111,\"#46039f\"],[0.2222222222222222,\"#7201a8\"],[0.3333333333333333,\"#9c179e\"],[0.4444444444444444,\"#bd3786\"],[0.5555555555555556,\"#d8576b\"],[0.6666666666666666,\"#ed7953\"],[0.7777777777777778,\"#fb9f3a\"],[0.8888888888888888,\"#fdca26\"],[1.0,\"#f0f921\"]]}],\"heatmapgl\":[{\"type\":\"heatmapgl\",\"colorbar\":{\"outlinewidth\":0,\"ticks\":\"\"},\"colorscale\":[[0.0,\"#0d0887\"],[0.1111111111111111,\"#46039f\"],[0.2222222222222222,\"#7201a8\"],[0.3333333333333333,\"#9c179e\"],[0.4444444444444444,\"#bd3786\"],[0.5555555555555556,\"#d8576b\"],[0.6666666666666666,\"#ed7953\"],[0.7777777777777778,\"#fb9f3a\"],[0.8888888888888888,\"#fdca26\"],[1.0,\"#f0f921\"]]}],\"contourcarpet\":[{\"type\":\"contourcarpet\",\"colorbar\":{\"outlinewidth\":0,\"ticks\":\"\"}}],\"contour\":[{\"type\":\"contour\",\"colorbar\":{\"outlinewidth\":0,\"ticks\":\"\"},\"colorscale\":[[0.0,\"#0d0887\"],[0.1111111111111111,\"#46039f\"],[0.2222222222222222,\"#7201a8\"],[0.3333333333333333,\"#9c179e\"],[0.4444444444444444,\"#bd3786\"],[0.5555555555555556,\"#d8576b\"],[0.6666666666666666,\"#ed7953\"],[0.7777777777777778,\"#fb9f3a\"],[0.8888888888888888,\"#fdca26\"],[1.0,\"#f0f921\"]]}],\"surface\":[{\"type\":\"surface\",\"colorbar\":{\"outlinewidth\":0,\"ticks\":\"\"},\"colorscale\":[[0.0,\"#0d0887\"],[0.1111111111111111,\"#46039f\"],[0.2222222222222222,\"#7201a8\"],[0.3333333333333333,\"#9c179e\"],[0.4444444444444444,\"#bd3786\"],[0.5555555555555556,\"#d8576b\"],[0.6666666666666666,\"#ed7953\"],[0.7777777777777778,\"#fb9f3a\"],[0.8888888888888888,\"#fdca26\"],[1.0,\"#f0f921\"]]}],\"mesh3d\":[{\"type\":\"mesh3d\",\"colorbar\":{\"outlinewidth\":0,\"ticks\":\"\"}}],\"scatter\":[{\"fillpattern\":{\"fillmode\":\"overlay\",\"size\":10,\"solidity\":0.2},\"type\":\"scatter\"}],\"parcoords\":[{\"type\":\"parcoords\",\"line\":{\"colorbar\":{\"outlinewidth\":0,\"ticks\":\"\"}}}],\"scatterpolargl\":[{\"type\":\"scatterpolargl\",\"marker\":{\"colorbar\":{\"outlinewidth\":0,\"ticks\":\"\"}}}],\"bar\":[{\"error_x\":{\"color\":\"#2a3f5f\"},\"error_y\":{\"color\":\"#2a3f5f\"},\"marker\":{\"line\":{\"color\":\"#E5ECF6\",\"width\":0.5},\"pattern\":{\"fillmode\":\"overlay\",\"size\":10,\"solidity\":0.2}},\"type\":\"bar\"}],\"scattergeo\":[{\"type\":\"scattergeo\",\"marker\":{\"colorbar\":{\"outlinewidth\":0,\"ticks\":\"\"}}}],\"scatterpolar\":[{\"type\":\"scatterpolar\",\"marker\":{\"colorbar\":{\"outlinewidth\":0,\"ticks\":\"\"}}}],\"histogram\":[{\"marker\":{\"pattern\":{\"fillmode\":\"overlay\",\"size\":10,\"solidity\":0.2}},\"type\":\"histogram\"}],\"scattergl\":[{\"type\":\"scattergl\",\"marker\":{\"colorbar\":{\"outlinewidth\":0,\"ticks\":\"\"}}}],\"scatter3d\":[{\"type\":\"scatter3d\",\"line\":{\"colorbar\":{\"outlinewidth\":0,\"ticks\":\"\"}},\"marker\":{\"colorbar\":{\"outlinewidth\":0,\"ticks\":\"\"}}}],\"scattermapbox\":[{\"type\":\"scattermapbox\",\"marker\":{\"colorbar\":{\"outlinewidth\":0,\"ticks\":\"\"}}}],\"scatterternary\":[{\"type\":\"scatterternary\",\"marker\":{\"colorbar\":{\"outlinewidth\":0,\"ticks\":\"\"}}}],\"scattercarpet\":[{\"type\":\"scattercarpet\",\"marker\":{\"colorbar\":{\"outlinewidth\":0,\"ticks\":\"\"}}}],\"carpet\":[{\"aaxis\":{\"endlinecolor\":\"#2a3f5f\",\"gridcolor\":\"white\",\"linecolor\":\"white\",\"minorgridcolor\":\"white\",\"startlinecolor\":\"#2a3f5f\"},\"baxis\":{\"endlinecolor\":\"#2a3f5f\",\"gridcolor\":\"white\",\"linecolor\":\"white\",\"minorgridcolor\":\"white\",\"startlinecolor\":\"#2a3f5f\"},\"type\":\"carpet\"}],\"table\":[{\"cells\":{\"fill\":{\"color\":\"#EBF0F8\"},\"line\":{\"color\":\"white\"}},\"header\":{\"fill\":{\"color\":\"#C8D4E3\"},\"line\":{\"color\":\"white\"}},\"type\":\"table\"}],\"barpolar\":[{\"marker\":{\"line\":{\"color\":\"#E5ECF6\",\"width\":0.5},\"pattern\":{\"fillmode\":\"overlay\",\"size\":10,\"solidity\":0.2}},\"type\":\"barpolar\"}],\"pie\":[{\"automargin\":true,\"type\":\"pie\"}]},\"layout\":{\"autotypenumbers\":\"strict\",\"colorway\":[\"#636efa\",\"#EF553B\",\"#00cc96\",\"#ab63fa\",\"#FFA15A\",\"#19d3f3\",\"#FF6692\",\"#B6E880\",\"#FF97FF\",\"#FECB52\"],\"font\":{\"color\":\"#2a3f5f\"},\"hovermode\":\"closest\",\"hoverlabel\":{\"align\":\"left\"},\"paper_bgcolor\":\"white\",\"plot_bgcolor\":\"#E5ECF6\",\"polar\":{\"bgcolor\":\"#E5ECF6\",\"angularaxis\":{\"gridcolor\":\"white\",\"linecolor\":\"white\",\"ticks\":\"\"},\"radialaxis\":{\"gridcolor\":\"white\",\"linecolor\":\"white\",\"ticks\":\"\"}},\"ternary\":{\"bgcolor\":\"#E5ECF6\",\"aaxis\":{\"gridcolor\":\"white\",\"linecolor\":\"white\",\"ticks\":\"\"},\"baxis\":{\"gridcolor\":\"white\",\"linecolor\":\"white\",\"ticks\":\"\"},\"caxis\":{\"gridcolor\":\"white\",\"linecolor\":\"white\",\"ticks\":\"\"}},\"coloraxis\":{\"colorbar\":{\"outlinewidth\":0,\"ticks\":\"\"}},\"colorscale\":{\"sequential\":[[0.0,\"#0d0887\"],[0.1111111111111111,\"#46039f\"],[0.2222222222222222,\"#7201a8\"],[0.3333333333333333,\"#9c179e\"],[0.4444444444444444,\"#bd3786\"],[0.5555555555555556,\"#d8576b\"],[0.6666666666666666,\"#ed7953\"],[0.7777777777777778,\"#fb9f3a\"],[0.8888888888888888,\"#fdca26\"],[1.0,\"#f0f921\"]],\"sequentialminus\":[[0.0,\"#0d0887\"],[0.1111111111111111,\"#46039f\"],[0.2222222222222222,\"#7201a8\"],[0.3333333333333333,\"#9c179e\"],[0.4444444444444444,\"#bd3786\"],[0.5555555555555556,\"#d8576b\"],[0.6666666666666666,\"#ed7953\"],[0.7777777777777778,\"#fb9f3a\"],[0.8888888888888888,\"#fdca26\"],[1.0,\"#f0f921\"]],\"diverging\":[[0,\"#8e0152\"],[0.1,\"#c51b7d\"],[0.2,\"#de77ae\"],[0.3,\"#f1b6da\"],[0.4,\"#fde0ef\"],[0.5,\"#f7f7f7\"],[0.6,\"#e6f5d0\"],[0.7,\"#b8e186\"],[0.8,\"#7fbc41\"],[0.9,\"#4d9221\"],[1,\"#276419\"]]},\"xaxis\":{\"gridcolor\":\"white\",\"linecolor\":\"white\",\"ticks\":\"\",\"title\":{\"standoff\":15},\"zerolinecolor\":\"white\",\"automargin\":true,\"zerolinewidth\":2},\"yaxis\":{\"gridcolor\":\"white\",\"linecolor\":\"white\",\"ticks\":\"\",\"title\":{\"standoff\":15},\"zerolinecolor\":\"white\",\"automargin\":true,\"zerolinewidth\":2},\"scene\":{\"xaxis\":{\"backgroundcolor\":\"#E5ECF6\",\"gridcolor\":\"white\",\"linecolor\":\"white\",\"showbackground\":true,\"ticks\":\"\",\"zerolinecolor\":\"white\",\"gridwidth\":2},\"yaxis\":{\"backgroundcolor\":\"#E5ECF6\",\"gridcolor\":\"white\",\"linecolor\":\"white\",\"showbackground\":true,\"ticks\":\"\",\"zerolinecolor\":\"white\",\"gridwidth\":2},\"zaxis\":{\"backgroundcolor\":\"#E5ECF6\",\"gridcolor\":\"white\",\"linecolor\":\"white\",\"showbackground\":true,\"ticks\":\"\",\"zerolinecolor\":\"white\",\"gridwidth\":2}},\"shapedefaults\":{\"line\":{\"color\":\"#2a3f5f\"}},\"annotationdefaults\":{\"arrowcolor\":\"#2a3f5f\",\"arrowhead\":0,\"arrowwidth\":1},\"geo\":{\"bgcolor\":\"white\",\"landcolor\":\"#E5ECF6\",\"subunitcolor\":\"white\",\"showland\":true,\"showlakes\":true,\"lakecolor\":\"white\"},\"title\":{\"x\":0.05},\"mapbox\":{\"style\":\"light\"}}},\"xaxis\":{\"anchor\":\"y\",\"domain\":[0.0,1.0],\"title\":{\"text\":\"average\"}},\"yaxis\":{\"anchor\":\"x\",\"domain\":[0.0,0.8316],\"title\":{\"text\":\"count\"}},\"xaxis2\":{\"anchor\":\"y2\",\"domain\":[0.0,1.0],\"matches\":\"x\",\"showticklabels\":false,\"showgrid\":true},\"yaxis2\":{\"anchor\":\"x2\",\"domain\":[0.8416,1.0],\"matches\":\"y2\",\"showticklabels\":false,\"showline\":false,\"ticks\":\"\",\"showgrid\":false},\"legend\":{\"tracegroupgap\":0},\"title\":{\"text\":\"Average Distribution\"},\"barmode\":\"relative\"},                        {\"responsive\": true}                    ).then(function(){\n                            \nvar gd = document.getElementById('5b6fbbf3-0153-45a0-a8d1-872a7f5e7e71');\nvar x = new MutationObserver(function (mutations, observer) {{\n        var display = window.getComputedStyle(gd).display;\n        if (!display || display === 'none') {{\n            console.log([gd, 'removed!']);\n            Plotly.purge(gd);\n            observer.disconnect();\n        }}\n}});\n\n// Listen for the removal of the full notebook cells\nvar notebookContainer = gd.closest('#notebook-container');\nif (notebookContainer) {{\n    x.observe(notebookContainer, {childList: true});\n}}\n\n// Listen for the clearing of the current output cell\nvar outputEl = gd.closest('.output');\nif (outputEl) {{\n    x.observe(outputEl, {childList: true});\n}}\n\n                        })                };                });            </script>        </div>"
     },
     "metadata": {},
     "output_type": "display_data"
    }
   ],
   "source": [
    "fig1 = px.histogram(df, x='average', nbins=30, marginal=\"box\", title=\"Average Distribution\", color_discrete_sequence=['blue'])\n",
    "\n",
    "color_map = {\n",
    "    'male': 'blue',\n",
    "    'female': 'pink'\n",
    "}\n",
    "fig2 = px.histogram(df, x='average', color='gender', marginal=\"box\", title=\"Average Distribution by Gender\", color_discrete_map=color_map)\n",
    "fig2.show()\n",
    "fig1.show()"
   ],
   "metadata": {
    "collapsed": false,
    "ExecuteTime": {
     "end_time": "2023-09-12T22:00:31.737127100Z",
     "start_time": "2023-09-12T22:00:31.617095800Z"
    }
   }
  },
  {
   "cell_type": "code",
   "execution_count": 52,
   "outputs": [
    {
     "data": {
      "text/plain": "<Figure size 1500x700 with 2 Axes>",
      "image/png": "[encoded data removed]"
     },
     "metadata": {},
     "output_type": "display_data"
    }
   ],
   "source": [
    "fig, axs = plt.subplots(1, 2, figsize=(15, 7))\n",
    "plt.subplot(121)\n",
    "sns.histplot(data=df,x='total_score',bins=30,kde=True,color='g')\n",
    "plt.subplot(122)\n",
    "sns.histplot(data=df,x='total_score',kde=True,hue='gender')\n",
    "plt.show()"
   ],
   "metadata": {
    "collapsed": false,
    "ExecuteTime": {
     "end_time": "2023-09-12T21:58:16.124962500Z",
     "start_time": "2023-09-12T21:58:15.544251700Z"
    }
   }
  },
  {
   "cell_type": "code",
   "execution_count": 55,
   "outputs": [
    {
     "data": {
      "text/plain": "<Figure size 2500x600 with 3 Axes>",
      "image/png": "[encoded data removed]"
     },
     "metadata": {},
     "output_type": "display_data"
    }
   ],
   "source": [
    "plt.subplots(1,3,figsize=(25,6))\n",
    "plt.subplot(141)\n",
    "sns.histplot(data=df,x='average',kde=True,hue='lunch')\n",
    "plt.subplot(142)\n",
    "sns.histplot(data=df[df.gender=='female'],x='average',kde=True,hue='lunch')\n",
    "plt.subplot(143)\n",
    "sns.histplot(data=df[df.gender=='male'],x='average',kde=True,hue='lunch')\n",
    "plt.show()"
   ],
   "metadata": {
    "collapsed": false,
    "ExecuteTime": {
     "end_time": "2023-09-12T22:01:26.675891Z",
     "start_time": "2023-09-12T22:01:25.640354900Z"
    }
   }
  },
  {
   "cell_type": "markdown",
   "source": [
    "- Male and Female Students who are on the standard lunch plan tend to perform well in exams\n",
    "- Females seem to score slightly higher on average than males"
   ],
   "metadata": {
    "collapsed": false
   }
  },
  {
   "cell_type": "code",
   "execution_count": 56,
   "outputs": [
    {
     "data": {
      "text/plain": "<Figure size 2500x600 with 3 Axes>",
      "image/png": "[encoded data removed]"
     },
     "metadata": {},
     "output_type": "display_data"
    }
   ],
   "source": [
    "plt.subplots(1,3,figsize=(25,6))\n",
    "plt.subplot(141)\n",
    "sns.histplot(data=df,x='average',kde=True,hue='parental_level_of_education')\n",
    "plt.subplot(142)\n",
    "sns.histplot(data=df[df.gender=='female'],x='average',kde=True,hue='parental_level_of_education')\n",
    "plt.subplot(143)\n",
    "sns.histplot(data=df[df.gender=='male'],x='average',kde=True,hue='parental_level_of_education')\n",
    "plt.show()"
   ],
   "metadata": {
    "collapsed": false,
    "ExecuteTime": {
     "end_time": "2023-09-12T22:04:46.574769700Z",
     "start_time": "2023-09-12T22:04:45.151345900Z"
    }
   }
  },
  {
   "cell_type": "code",
   "execution_count": null,
   "outputs": [],
   "source": [],
   "metadata": {
    "collapsed": false
   }
  }
 ],
 "metadata": {
  "kernelspec": {
   "display_name": "Python 3",
   "language": "python",
   "name": "python3"
  },
  "language_info": {
   "codemirror_mode": {
    "name": "ipython",
    "version": 2
   },
   "file_extension": ".py",
   "mimetype": "text/x-python",
   "name": "python",
   "nbconvert_exporter": "python",
   "pygments_lexer": "ipython2",
   "version": "2.7.6"
  }
 },
 "nbformat": 4,
 "nbformat_minor": 0
}
